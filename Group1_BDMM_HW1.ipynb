{
 "cells": [
  {
   "cell_type": "markdown",
   "metadata": {},
   "source": [
    "# Big Data Modeling and Management Assigment - Homework 1"
   ]
  },
  {
   "cell_type": "markdown",
   "metadata": {},
   "source": [
    "# Submission\n",
    "\n",
    "GROUP NUMBER: **1** \n",
    "\n",
    "GROUP MEMBERS:\n",
    "\n",
    "|STUDENT NAME|STUDENT NUMBER|\n",
    "|---|---|\n",
    "|Afonso Ascensão|20240684|\n",
    "|André Filipe Silva|20230972|\n",
    "|Joana Esteves|20240746|\n",
    "|Susana Reis|20240567|\n",
    "|Tomás Figueiredo|20240941|"
   ]
  },
  {
   "cell_type": "markdown",
   "metadata": {},
   "source": [
    "## 🍺 The Beer project  🍺 \n",
    "\n",
    "As it was shown in classes, graph databases are a natural way of navegating related information. For this first project we will be taking a graph database to analyse beer and breweries!   \n",
    "\n",
    "The project datasets are based on [kaggle](https://www.kaggle.com/ehallmar/beers-breweries-and-beer-reviews), released by Evan Hallmark. \n",
    "\n",
    "### Problem description\n",
    "\n",
    "Imagine you are working in the Data Management department of Analytics company.\n",
    "Explore the database via python neo4j connector and/or the graphical tool in the NEO4J webpage. Answer the questions while adjusting the database to meet the needs of your colleagues.\n",
    "Please record and keep track of your database changes, and submit the file with all cells run and with the output shown.\n",
    "\n",
    "### Questions\n",
    "\n",
    "1. Explore the database: get familiar with current schema, elements and other important database parameters. [1 point]\n",
    "2. Adjust the database and mention reasoning behind: e.g. clean errors, remove redundancies, adjust schema as necessary. Visualize the final version of database schema. [4 points]\n",
    "3. Analytics department requires the following information for the biweekly reporting: [5 points]\n",
    "    1. How many reviews has the beer with the most reviews?\n",
    "    2. Which three users wrote the most reviews about beers?\n",
    "    3. Find all beers that are described with following words: 'fruit', 'complex', 'nutty', 'dark'.\n",
    "    4. Which top three breweries produce the largest variety of beer styles?\n",
    "    5. Which country produces the most beer styles?\n",
    "4. Market Analysis department in your company accesses and updates the trends data on the daily basis. Given that, consider how you need to optimize the database and its performance so that the following queries are efficient. Measure performance to communicate your improvements using PROFILE before final query. Answer the following: [4 points]\n",
    "    1. Using ABV score, find five strongest beers, display their ABV score and the corresponding brewery? Keep in mind that the strongest known beer is Snake Venom, and deal with the error entries in the database.\n",
    "    2. Using the answer from question 2, find the top 5 distict beer styles with the highest average score of smell + feel that were reviewed by the third most productive user. Keep in mind that cleaning the database earlier should ensure correct results.\n",
    "5. Answer **two out of four** of the following questions using Graph Algorithms (gds): [NB: make sure to clear the graph before using it again] For the quarterly report, Analytics department the follownig information. [6 points]\n",
    "    1. Which two countries are most similiar when it comes to their top five most produced Beer styles?\n",
    "    2. Which beer is the most popular when considering the number of users who reviewed it? \n",
    "    3. Users are connected together by their reviews of beers, taking into consideration the \"smell\" score they assign as a weight, how many communities are formed from these relationships? How many users are in the three largest communities? \n",
    "    4. Which user is the most influential when it comes to reviews of distinct beers by style?\n",
    " \n",
    "### Groups  \n",
    "\n",
    "Groups should have 4 people maximum. Please mark which group you are here: https://shorturl.at/zE0QP \n",
    "\n",
    "### Submission      \n",
    "\n",
    "The code used to produce the results and to-the-point explations should be uploaded to moodle. They should have a clear reference to the group, either on the file name or on the document itself. Preferably one Jupyter notebook per group.\n",
    "\n",
    "Delivery date: Until the **midnight of March 18, 2025**\n",
    "\n",
    "### Evaluation   \n",
    "\n",
    "This will be 20% of the final grade.   \n",
    "Each solution will be evaluated on 2 components: correctness of results and efficiency of the query (based on database schema).  \n",
    "All code will go through plagiarism automated checks. Groups with the same code will undergo investigation."
   ]
  },
  {
   "cell_type": "code",
   "execution_count": null,
   "metadata": {
    "ExecuteTime": {
     "end_time": "2024-02-29T21:45:57.447501Z",
     "start_time": "2024-02-29T21:45:56.625014Z"
    }
   },
   "outputs": [],
   "source": [
    "from neo4j import GraphDatabase\n",
    "from pprint import pprint\n",
    "from py2neo import Graph\n",
    "import networkx as nx\n",
    "import matplotlib.pyplot as plt\n",
    "import time"
   ]
  },
  {
   "cell_type": "code",
   "execution_count": null,
   "metadata": {
    "ExecuteTime": {
     "end_time": "2024-02-29T21:46:09.652569Z",
     "start_time": "2024-02-29T21:46:09.648166Z"
    }
   },
   "outputs": [],
   "source": [
    "NEO4J_URI=\"neo4j://localhost:7687\"\n",
    "NEO4J_USERNAME=\"neo4j\"\n",
    "NEO4J_PASSWORD=\"test\""
   ]
  },
  {
   "cell_type": "code",
   "execution_count": null,
   "metadata": {
    "ExecuteTime": {
     "end_time": "2024-02-29T21:46:10.939324Z",
     "start_time": "2024-02-29T21:46:10.934651Z"
    }
   },
   "outputs": [],
   "source": [
    "driver = GraphDatabase.driver(NEO4J_URI, auth=(NEO4J_USERNAME, NEO4J_PASSWORD), )"
   ]
  },
  {
   "cell_type": "markdown",
   "metadata": {},
   "source": [
    "# Functions to run queries in Neo4J"
   ]
  },
  {
   "cell_type": "code",
   "execution_count": null,
   "metadata": {},
   "outputs": [],
   "source": [
    "def execute_write(driver, query):\n",
    "    with driver.session(database=\"neo4j\") as session:\n",
    "        # Write transactions allow the driver to handle retries and transient errors\n",
    "        result = session.execute_write(lambda tx, query: list(tx.run(query)), query)\n",
    "    return result"
   ]
  },
  {
   "cell_type": "code",
   "execution_count": null,
   "metadata": {
    "ExecuteTime": {
     "end_time": "2024-02-29T21:46:14.291655Z",
     "start_time": "2024-02-29T21:46:14.286865Z"
    }
   },
   "outputs": [],
   "source": [
    "def execute_read(driver, query):    \n",
    "    with driver.session(database=\"neo4j\") as session:\n",
    "        result = session.execute_read(lambda tx, query: list(tx.run(query)), query)\n",
    "    return result"
   ]
  },
  {
   "cell_type": "markdown",
   "metadata": {},
   "source": [
    "# 1. Explore the database"
   ]
  },
  {
   "cell_type": "markdown",
   "metadata": {},
   "source": [
    "## 1.1 Explore schema:"
   ]
  },
  {
   "cell_type": "code",
   "execution_count": null,
   "metadata": {},
   "outputs": [],
   "source": [
    "# Get \"visualization\" schema. This generates the visualization schema and is better ran using the browser, but we put the query here for completion.\n",
    "\n",
    "query = \"\"\"\n",
    "    call db.schema.visualization;\n",
    "    \"\"\"\n",
    "\n",
    "result = execute_read(driver, query)\n",
    "\n",
    "pprint(result)"
   ]
  },
  {
   "cell_type": "code",
   "execution_count": null,
   "metadata": {},
   "outputs": [],
   "source": [
    "# Creating indexes for faster processing of queries\n",
    "query1 = \"\"\"CREATE INDEX beer_id_index IF NOT EXISTS FOR (b:BEERS) ON (b.id)\"\"\"\n",
    "query2 = \"\"\"CREATE INDEX brewery_id_index IF NOT EXISTS FOR (b:BREWERIES) ON (b.id)\"\"\"\n",
    "query3 = \"\"\"CREATE INDEX user_name_index IF NOT EXISTS FOR (u:USERS) ON (u.name)\"\"\"\n",
    "query4 = \"\"\"CREATE INDEX review_id_index IF NOT EXISTS FOR (r:REVIEWS) ON (r.id)\"\"\"\n",
    "query5 = \"\"\"CREATE INDEX city_name_index IF NOT EXISTS FOR (c:CITIES) ON (c.name)\"\"\"\n",
    "query6 = \"\"\"CREATE INDEX country_name_index IF NOT EXISTS FOR (c:COUNTRIES) ON (c.name)\"\"\"\n",
    "query7 = \"\"\"CREATE INDEX style_name_index IF NOT EXISTS FOR (s:STYLE) ON (s.name)\"\"\"\n",
    "\n",
    "# Execute each query separately\n",
    "execute_write(driver, query1)\n",
    "execute_write(driver, query2)\n",
    "execute_write(driver, query3)\n",
    "execute_write(driver, query4)\n",
    "execute_write(driver, query5)\n",
    "execute_write(driver, query6)\n",
    "execute_write(driver, query7)"
   ]
  },
  {
   "cell_type": "code",
   "execution_count": null,
   "metadata": {},
   "outputs": [],
   "source": [
    "# Get number of observations \n",
    "\n",
    "query = \"\"\"\n",
    "        MATCH () RETURN count(*)\n",
    "    \"\"\"\n",
    "\n",
    "result = execute_read(driver, query)\n",
    "\n",
    "print(f\"We have {result[0][0]} observations in the database.\")"
   ]
  },
  {
   "cell_type": "code",
   "execution_count": null,
   "metadata": {},
   "outputs": [],
   "source": [
    "# Check indexes\n",
    "\n",
    "query = \"\"\"\n",
    "        call db.indexes;\n",
    "    \"\"\"\n",
    "\n",
    "result = execute_read(driver, query)\n",
    "\n",
    "pprint(result)"
   ]
  },
  {
   "cell_type": "markdown",
   "metadata": {},
   "source": [
    "Indexes:\n",
    "- Style, user, countries and cities id is the property name.\n",
    "- Reviews, Breweries, Beers id id the property id.\n",
    "- We have to make sure these properties have unique values."
   ]
  },
  {
   "cell_type": "code",
   "execution_count": null,
   "metadata": {},
   "outputs": [],
   "source": [
    "# Check constraints\n",
    "\n",
    "query = \"\"\"\n",
    "        call db.constraints;\n",
    "    \"\"\"\n",
    "\n",
    "result = execute_read(driver, query)\n",
    "\n",
    "pprint(result)"
   ]
  },
  {
   "cell_type": "code",
   "execution_count": null,
   "metadata": {},
   "outputs": [],
   "source": [
    "# Check all labels\n",
    "\n",
    "query = \"\"\"\n",
    "        call db.labels;\n",
    "    \"\"\"\n",
    "\n",
    "result = execute_read(driver, query)\n",
    "\n",
    "pprint(result)"
   ]
  },
  {
   "cell_type": "code",
   "execution_count": null,
   "metadata": {},
   "outputs": [],
   "source": [
    "# Retrieve all nodes in the database\n",
    "# group them by label and count how many nodes exist for each label\n",
    "\n",
    "query = \"\"\"\n",
    "        MATCH (n)\n",
    "        RETURN labels(n) AS node_label, count(n) AS node_count\n",
    "        ORDER BY node_label ASC\n",
    "    \"\"\"\n",
    "\n",
    "result = execute_read(driver, query)\n",
    "\n",
    "pprint(result)"
   ]
  },
  {
   "cell_type": "code",
   "execution_count": null,
   "metadata": {},
   "outputs": [],
   "source": [
    "# Check all types of relationships\n",
    "\n",
    "query = \"\"\"\n",
    "        call db.relationshipTypes();\n",
    "    \"\"\"\n",
    "\n",
    "result = execute_read(driver, query)\n",
    "\n",
    "pprint(result)"
   ]
  },
  {
   "cell_type": "markdown",
   "metadata": {},
   "source": [
    "## Properties for each Node"
   ]
  },
  {
   "cell_type": "code",
   "execution_count": null,
   "metadata": {},
   "outputs": [],
   "source": [
    "# Check all properties of the BEERS node\n",
    "query = \"\"\"\n",
    "MATCH (n:BEERS) \n",
    "RETURN n, keys(n) AS propertyKeys\n",
    "LIMIT 1\n",
    "\"\"\"\n",
    "\n",
    "result = execute_read(driver, query)\n",
    "pprint(result[0][\"propertyKeys\"])"
   ]
  },
  {
   "cell_type": "code",
   "execution_count": null,
   "metadata": {},
   "outputs": [],
   "source": [
    "# Check all properties of the BREWERIES node\n",
    "query = \"\"\"\n",
    "MATCH (n:BREWERIES) \n",
    "RETURN n, keys(n) AS propertyKeys\n",
    "LIMIT 1\n",
    "\"\"\"\n",
    "\n",
    "result = execute_read(driver, query)\n",
    "pprint(result[0][\"propertyKeys\"])"
   ]
  },
  {
   "cell_type": "code",
   "execution_count": null,
   "metadata": {},
   "outputs": [],
   "source": [
    "# Check all properties of the USER node\n",
    "query = \"\"\"\n",
    "MATCH (n:USER) \n",
    "RETURN n, keys(n) AS propertyKeys\n",
    "LIMIT 1\n",
    "\"\"\"\n",
    "\n",
    "result = execute_read(driver, query)\n",
    "pprint(result[0][\"propertyKeys\"])"
   ]
  },
  {
   "cell_type": "code",
   "execution_count": null,
   "metadata": {},
   "outputs": [],
   "source": [
    "# Check all properties of the REVIEWS node\n",
    "query = \"\"\"\n",
    "MATCH (n:REVIEWS) \n",
    "RETURN n, keys(n) AS propertyKeys\n",
    "LIMIT 1\n",
    "\"\"\"\n",
    "\n",
    "result = execute_read(driver, query)\n",
    "pprint(result[0][\"propertyKeys\"])"
   ]
  },
  {
   "cell_type": "code",
   "execution_count": null,
   "metadata": {},
   "outputs": [],
   "source": [
    "# Check all properties of the CITIES node\n",
    "query = \"\"\"\n",
    "MATCH (n:CITIES) \n",
    "RETURN n, keys(n) AS propertyKeys\n",
    "LIMIT 1\n",
    "\"\"\"\n",
    "\n",
    "result = execute_read(driver, query)\n",
    "pprint(result[0][\"propertyKeys\"])"
   ]
  },
  {
   "cell_type": "code",
   "execution_count": null,
   "metadata": {},
   "outputs": [],
   "source": [
    "# Check all properties of the COUNTRIES node\n",
    "query = \"\"\"\n",
    "MATCH (n:COUNTRIES) \n",
    "RETURN n, keys(n) AS propertyKeys\n",
    "LIMIT 1\n",
    "\"\"\"\n",
    "\n",
    "result = execute_read(driver, query)\n",
    "pprint(result[0][\"propertyKeys\"])"
   ]
  },
  {
   "cell_type": "code",
   "execution_count": null,
   "metadata": {},
   "outputs": [],
   "source": [
    "# Check all properties of the STYLE node\n",
    "query = \"\"\"\n",
    "MATCH (n:STYLE) \n",
    "RETURN n, keys(n) AS propertyKeys\n",
    "LIMIT 1\n",
    "\"\"\"\n",
    "\n",
    "result = execute_read(driver, query)\n",
    "pprint(result[0][\"propertyKeys\"])"
   ]
  },
  {
   "cell_type": "markdown",
   "metadata": {},
   "source": [
    "### Finding all One-Directional Relationships"
   ]
  },
  {
   "cell_type": "code",
   "execution_count": null,
   "metadata": {},
   "outputs": [],
   "source": [
    "query = \"\"\"\n",
    "MATCH (a)-[r]->(b)\n",
    "WHERE NOT EXISTS {\n",
    "    MATCH (b)-[r_reverse]->(a)\n",
    "}\n",
    "RETURN DISTINCT\n",
    "  type(r) AS relationship_type,\n",
    "  labels(a) AS start_node_labels,\n",
    "  labels(b) AS end_node_labels\n",
    "\"\"\"\n",
    "\n",
    "result = execute_read(driver, query)\n",
    "\n",
    "pprint(result)"
   ]
  },
  {
   "cell_type": "markdown",
   "metadata": {},
   "source": [
    "### Finding all Bidirectional Relationships"
   ]
  },
  {
   "cell_type": "code",
   "execution_count": null,
   "metadata": {},
   "outputs": [],
   "source": [
    "query = \"\"\"\n",
    "MATCH (a)-[r]->(b)\n",
    "MATCH (b)-[r_reverse]->(a)\n",
    "WHERE type(r) = type(r_reverse)\n",
    "RETURN DISTINCT\n",
    "  type(r) AS relationship_type,\n",
    "  labels(a) AS start_node_labels,\n",
    "  labels(b) AS end_node_labels\n",
    "\"\"\"\n",
    "\n",
    "result = execute_read(driver, query)\n",
    "pprint(result)"
   ]
  },
  {
   "cell_type": "markdown",
   "metadata": {},
   "source": [
    "### Finding Self-Referencing Relationships"
   ]
  },
  {
   "cell_type": "markdown",
   "metadata": {},
   "source": [
    "From our schema visualization, CITIES seems to be referencing back to iself. Let's try to understand that."
   ]
  },
  {
   "cell_type": "code",
   "execution_count": null,
   "metadata": {},
   "outputs": [],
   "source": [
    "query = \"\"\"\n",
    "MATCH (c:CITIES)-[r]->(c:CITIES)\n",
    "RETURN c, r\n",
    "\"\"\"\n",
    "\n",
    "result = execute_read(driver, query)\n",
    "pprint(result)"
   ]
  },
  {
   "cell_type": "markdown",
   "metadata": {},
   "source": [
    "From this query it seems like the CITIES [IN] CITIES relationship seen in the visualization is merely a graphical artifact."
   ]
  },
  {
   "cell_type": "markdown",
   "metadata": {},
   "source": [
    "From these queries we can conclude there are only one-directional relationships. We believe this makes sense, from our understanding of the database."
   ]
  },
  {
   "cell_type": "code",
   "execution_count": null,
   "metadata": {},
   "outputs": [],
   "source": [
    "# Check properties for each relationship\n",
    "\n",
    "query = \"\"\"\n",
    "        MATCH ()-[r]->()\n",
    "        RETURN DISTINCT type(r) AS relationship_type, keys(r) AS relationship_properties\n",
    "    \"\"\"\n",
    "\n",
    "result = execute_read(driver, query)\n",
    "\n",
    "pprint(result)"
   ]
  },
  {
   "cell_type": "code",
   "execution_count": null,
   "metadata": {},
   "outputs": [],
   "source": [
    "# Check for isolated nodes\n",
    "\n",
    "query = \"\"\"\n",
    "        MATCH (n)\n",
    "        WHERE NOT EXISTS ((n)--())\n",
    "        RETURN n\n",
    "    \"\"\"\n",
    "\n",
    "result = execute_read(driver, query)\n",
    "\n",
    "pprint(result)"
   ]
  },
  {
   "cell_type": "code",
   "execution_count": null,
   "metadata": {},
   "outputs": [],
   "source": [
    "# Get what type of isolated nodes we have \n",
    "\n",
    "query = \"\"\"\n",
    "        MATCH (n)\n",
    "        WHERE NOT EXISTS ((n)--())\n",
    "        RETURN DISTINCT labels(n)\n",
    "    \"\"\"\n",
    "\n",
    "result = execute_read(driver, query)\n",
    "\n",
    "pprint(result)"
   ]
  },
  {
   "cell_type": "markdown",
   "metadata": {},
   "source": [
    "- There are isolated nodes of all labels."
   ]
  },
  {
   "cell_type": "markdown",
   "metadata": {},
   "source": [
    "## 1.2 Check for inconsistencies: "
   ]
  },
  {
   "cell_type": "code",
   "execution_count": null,
   "metadata": {},
   "outputs": [],
   "source": [
    "# Checking for \"corrupt\" nodes - nodes with no labels\n",
    "\n",
    "query = \"\"\"\n",
    "MATCH (n)\n",
    "WHERE size(labels(n)) = 0\n",
    "RETURN id(n) AS node_id, labels(n) AS labels, properties(n) AS properties\n",
    "\"\"\"\n",
    "\n",
    "result = execute_read(driver, query)\n",
    "\n",
    "pprint(result)"
   ]
  },
  {
   "cell_type": "code",
   "execution_count": null,
   "metadata": {},
   "outputs": [],
   "source": [
    "# Checking for nodes with no properties\n",
    "\n",
    "query = \"\"\"\n",
    "MATCH (n)\n",
    "WHERE size(keys(n)) = 0\n",
    "RETURN id(n) AS node_id, labels(n) AS labels, properties(n) AS properties\n",
    "\"\"\"\n",
    "\n",
    "result = execute_read(driver, query)\n",
    "\n",
    "pprint(result)"
   ]
  },
  {
   "cell_type": "code",
   "execution_count": null,
   "metadata": {},
   "outputs": [],
   "source": [
    "# Check for duplicated nodes w/ label COUNTRIES and same name\n",
    "\n",
    "query = \"\"\"\n",
    "MATCH (c:COUNTRIES)\n",
    "WITH c.name AS name, COUNT(c) AS count\n",
    "WHERE count > 1\n",
    "RETURN name, count;\n",
    "\"\"\"\n",
    "\n",
    "result = execute_read(driver, query)\n",
    "\n",
    "pprint(result)"
   ]
  },
  {
   "cell_type": "code",
   "execution_count": null,
   "metadata": {},
   "outputs": [],
   "source": [
    "# Check for duplicated nodes w/ label CITIES and same name\n",
    "\n",
    "query = \"\"\"\n",
    "    MATCH (ci:CITIES)\n",
    "    WITH ci.name AS cityName, count(ci) AS cityCount\n",
    "    WHERE cityCount > 1\n",
    "    RETURN cityName, cityCount\n",
    "\"\"\"\n",
    "\n",
    "result = execute_read(driver, query)\n",
    "\n",
    "pprint(result)"
   ]
  },
  {
   "cell_type": "code",
   "execution_count": null,
   "metadata": {},
   "outputs": [],
   "source": [
    "# Check if one node is connected to more than one city\n",
    "\n",
    "query = \"\"\"\n",
    "MATCH (c:CITIES)-[:IN]->(co:COUNTRIES)\n",
    "WITH co.name AS name, COUNT(DISTINCT co) AS country_count, COLLECT(DISTINCT co) AS country_nodes\n",
    "WHERE country_count > 1\n",
    "RETURN name, country_count, country_nodes;\n",
    "\"\"\"\n",
    "\n",
    "result = execute_read(driver, query)\n",
    "\n",
    "pprint(result)"
   ]
  },
  {
   "cell_type": "markdown",
   "metadata": {},
   "source": [
    "Since each country is connected to one node, we can safely remove the duplicated CITIES and COUNTRIES nodes."
   ]
  },
  {
   "cell_type": "code",
   "execution_count": null,
   "metadata": {},
   "outputs": [],
   "source": [
    "# Check total nodes w/ label COUNTRIES \n",
    "\n",
    "query = \"\"\"\n",
    "MATCH (c:COUNTRIES)\n",
    "RETURN COUNT(c) AS total_nodes;\n",
    "\"\"\"\n",
    "\n",
    "result = execute_read(driver, query)\n",
    "\n",
    "pprint(result)"
   ]
  },
  {
   "cell_type": "code",
   "execution_count": null,
   "metadata": {},
   "outputs": [],
   "source": [
    "# Check total nodes w/ label CITIES\n",
    "\n",
    "query = \"\"\"\n",
    "MATCH (c:CITIES)\n",
    "RETURN COUNT(c) AS total_nodes;\n",
    "\"\"\"\n",
    "\n",
    "result = execute_read(driver, query)\n",
    "\n",
    "pprint(result)"
   ]
  },
  {
   "cell_type": "markdown",
   "metadata": {},
   "source": [
    "- Since that the only property for COUNTRIES, CITIES, STYLE and USER is name, having more than one node with the same name represents a duplicated node.\n",
    "- There are several duplicated nodes for both COUNTRIES and CITIES labels."
   ]
  },
  {
   "cell_type": "code",
   "execution_count": null,
   "metadata": {},
   "outputs": [],
   "source": [
    "# Check for duplicated nodes w/ label STYLE and same name\n",
    "\n",
    "query = \"\"\"\n",
    "    MATCH (st:STYLE)\n",
    "    WITH st.name AS styleName,\n",
    "    count(st) AS styleCount\n",
    "    WHERE styleCount > 1\n",
    "    RETURN styleName, styleCount\n",
    "\"\"\"\n",
    "\n",
    "result = execute_read(driver, query)\n",
    "\n",
    "pprint(result)"
   ]
  },
  {
   "cell_type": "code",
   "execution_count": null,
   "metadata": {},
   "outputs": [],
   "source": [
    "# Check for duplicated nodes w/ label USER and same name\n",
    "\n",
    "query = \"\"\"\n",
    "    MATCH (us:USER)\n",
    "    WITH us.name AS userName,\n",
    "    count(us) AS userCount\n",
    "    WHERE userCount > 1\n",
    "    RETURN userName, userCount\n",
    "\"\"\"\n",
    "\n",
    "result = execute_read(driver, query)\n",
    "\n",
    "pprint(result)"
   ]
  },
  {
   "cell_type": "code",
   "execution_count": null,
   "metadata": {},
   "outputs": [],
   "source": [
    "# Check for duplicated nodes w/ label BREWERY \n",
    "\n",
    "query = \"\"\"\n",
    "    MATCH (br:BREWERY)\n",
    "    WITH br.id AS breweryId, \n",
    "        br.state AS breweryState,\n",
    "        br.notes AS breweryNotes,\n",
    "        br.types AS breweryTypes,\n",
    "        br.name AS breweryName,\n",
    "    count(br) AS breweryCount\n",
    "    WHERE breweryCount > 1\n",
    "    RETURN breweryId, breweryName, breweryCount\n",
    "\"\"\"\n",
    "\n",
    "result = execute_read(driver, query)\n",
    "\n",
    "pprint(result)"
   ]
  },
  {
   "cell_type": "code",
   "execution_count": null,
   "metadata": {},
   "outputs": [],
   "source": [
    "# Check for duplicated nodes w/ label BREWERY and same id\n",
    "\n",
    "query = \"\"\"\n",
    "    MATCH (br:BREWERY)\n",
    "    WITH br.id AS breweryId, \n",
    "    count(br) AS breweryCount\n",
    "    WHERE breweryCount > 1\n",
    "    RETURN breweryId, breweryCount\n",
    "\"\"\"\n",
    "\n",
    "result = execute_read(driver, query)\n",
    "\n",
    "pprint(result)"
   ]
  },
  {
   "cell_type": "code",
   "execution_count": null,
   "metadata": {},
   "outputs": [],
   "source": [
    "# Check for duplicated nodes w/ label BREWERY and same name\n",
    "\n",
    "query = \"\"\"\n",
    "    MATCH (br:BREWERY)\n",
    "    WITH br.name AS breweryName,\n",
    "    count(br) AS breweryCount\n",
    "    WHERE breweryCount > 1\n",
    "    RETURN breweryName, breweryCount\n",
    "\"\"\"\n",
    "\n",
    "result = execute_read(driver, query)\n",
    "\n",
    "pprint(result)"
   ]
  },
  {
   "cell_type": "code",
   "execution_count": null,
   "metadata": {},
   "outputs": [],
   "source": [
    "# Check for duplicated nodes w/ label BEERS \n",
    "\n",
    "query = \"\"\"\n",
    "    MATCH (be:BEERS)\n",
    "    WITH be.id AS beerId, \n",
    "        be.retired AS beerRetired, \n",
    "        be.availability AS beerAvailability, \n",
    "        be.brewery_id AS beerBreId, \n",
    "        be.state AS beerState, \n",
    "        be.name AS beerName, \n",
    "        be.abv AS beerAbv, \n",
    "        be.notes AS beerNotes, \n",
    "    count(be) AS beerCount\n",
    "    WHERE beerCount > 1\n",
    "    RETURN beerId, beerName, beerCount\n",
    "\"\"\"\n",
    "\n",
    "result = execute_read(driver, query)\n",
    "\n",
    "pprint(result)"
   ]
  },
  {
   "cell_type": "markdown",
   "metadata": {},
   "source": [
    "- There are several nodes with the label BEERS duplicated for all properties."
   ]
  },
  {
   "cell_type": "code",
   "execution_count": null,
   "metadata": {},
   "outputs": [],
   "source": [
    "# Check for duplicated nodes w/ label REVIEWS \n",
    "\n",
    "query = \"\"\"\n",
    "    MATCH (re:REVIEWS)\n",
    "    WITH re.text AS reviewTest,\n",
    "        re.beer_id AS reviewBeerId,\n",
    "        re.smell AS reviewSmell,\n",
    "        re.look AS reviewLook,\n",
    "        re.score AS reviewScore,\n",
    "        re.taste AS reviewTaste,\n",
    "        re.feel AS reviewFeel,\n",
    "        re.overall AS reviewOverall,\n",
    "        re.id AS reviewId,\n",
    "        re.date AS reviewDate,\n",
    "    count(re) AS reviewCount\n",
    "    WHERE reviewCount > 1\n",
    "    RETURN reviewId, reviewCount\n",
    "\"\"\"\n",
    "\n",
    "result = execute_read(driver, query)\n",
    "\n",
    "pprint(result)"
   ]
  },
  {
   "cell_type": "markdown",
   "metadata": {},
   "source": [
    "- There are several nodes with the label REVIEWS duplicated for all properties."
   ]
  },
  {
   "cell_type": "markdown",
   "metadata": {},
   "source": [
    "Considerations:\n",
    "- One city should only be associated w/ one country.\n",
    "- One brewery should only be associated w/ one city.\n",
    "- One review should only be associated w/ one user.\n",
    "- One review should only be associated w/ one beer.\n",
    "- One beer should only be associated w/ one style\n",
    "- One beer should only be associated w/ one brewery"
   ]
  },
  {
   "cell_type": "code",
   "execution_count": null,
   "metadata": {},
   "outputs": [],
   "source": [
    "# Check if there is any brewery associated with more than one city\n",
    "# Retrieve all brewery to city relationships\n",
    "# In these relationships, count nº of cities for each brewery \n",
    "\n",
    "query = \"\"\"\n",
    "    MATCH (br:BREWERIES)-[:IN]->(ci:CITIES)\n",
    "    WITH br, count(ci) AS city_count\n",
    "    WHERE city_count > 1\n",
    "    RETURN br.name, city_count\n",
    "\"\"\"\n",
    "\n",
    "result = execute_read(driver, query)\n",
    "\n",
    "pprint(result)"
   ]
  },
  {
   "cell_type": "code",
   "execution_count": null,
   "metadata": {},
   "outputs": [],
   "source": [
    "# Check if there is any city associated with more than one country\n",
    "# Retrieve all city to country relationships\n",
    "# In these relationships, count nº of countries for each city \n",
    "\n",
    "query = \"\"\"\n",
    "    MATCH (ci:CITY)-[:IN]->(co:COUNTRIES)\n",
    "    WITH ci, count(co) AS country_count\n",
    "    WHERE country_count > 1\n",
    "    RETURN ci.name, country_count\n",
    "\"\"\"\n",
    "\n",
    "result = execute_read(driver, query)\n",
    "\n",
    "pprint(result)"
   ]
  },
  {
   "cell_type": "code",
   "execution_count": null,
   "metadata": {},
   "outputs": [],
   "source": [
    "# Check if there are REVIEWS posted by more than one USER\n",
    "query = \"\"\"\n",
    "    MATCH (us:USER)-[:POSTED]->(re:REVIEW)\n",
    "    WITH re, count(us) AS user_count\n",
    "    WHERE user_count > 1\n",
    "    RETURN re.id, user_count\n",
    "\"\"\"\n",
    "\n",
    "result = execute_read(driver, query)\n",
    "\n",
    "pprint(result)"
   ]
  },
  {
   "cell_type": "code",
   "execution_count": null,
   "metadata": {},
   "outputs": [],
   "source": [
    "# Check if each REVIEW is only linked ot one BEER\n",
    "query = \"\"\"\n",
    "    MATCH (re:REVIEW)-[:REVIEWED]->(be:BEERS)\n",
    "    WITH re, count(be) AS beer_count\n",
    "    WHERE beer_count > 1\n",
    "    RETURN re.id, beer_count\n",
    "\"\"\"\n",
    "\n",
    "result = execute_read(driver, query)\n",
    "\n",
    "pprint(result)"
   ]
  },
  {
   "cell_type": "code",
   "execution_count": null,
   "metadata": {},
   "outputs": [],
   "source": [
    "# Check if beers have more than one style\n",
    "query = \"\"\"\n",
    "    MATCH (re:BEERS)-[:HAS_STYLE]->(st:STYLES)\n",
    "    WITH re, count(st) AS style_count\n",
    "    WHERE style_count > 1\n",
    "    RETURN re.name, style_count\n",
    "\"\"\"\n",
    "\n",
    "result = execute_read(driver, query)\n",
    "\n",
    "pprint(result)"
   ]
  },
  {
   "cell_type": "code",
   "execution_count": null,
   "metadata": {},
   "outputs": [],
   "source": [
    "# Check if any beers are brewed in more than one brewery\n",
    "query = \"\"\"\n",
    "    MATCH (be:BEERS)-[:BREWED]->(br:BREWERIES)\n",
    "    WITH be, COUNT(br) AS brewery_count\n",
    "    WHERE brewery_count > 1\n",
    "    RETURN be.name, brewery_count\n",
    "\"\"\"\n",
    "\n",
    "result = execute_read(driver, query)\n",
    "\n",
    "pprint(result)"
   ]
  },
  {
   "cell_type": "markdown",
   "metadata": {},
   "source": [
    "Considerations:\n",
    "- All breweries should be associated with a city.\n",
    "- All cities should be associated with a country.\n",
    "- All reviews should be associated to a user.\n",
    "- All reviews shoul be associated with a beer. \n",
    "- All beers should be associated with a brewery. \n",
    "\n"
   ]
  },
  {
   "cell_type": "code",
   "execution_count": null,
   "metadata": {},
   "outputs": [],
   "source": [
    "# Check if there is any is any node w/ BREWERIES label\n",
    "# that does not have the specified relationship to a node w/ label CITIES\n",
    "\n",
    "query = \"\"\"\n",
    "    MATCH (br:BREWERIES)\n",
    "    WHERE NOT EXISTS ((br)-[:IN]->(:CITIES))\n",
    "    RETURN br\n",
    "\"\"\"\n",
    "result = execute_read(driver, query)\n",
    "\n",
    "pprint(result)"
   ]
  },
  {
   "cell_type": "code",
   "execution_count": null,
   "metadata": {},
   "outputs": [],
   "source": [
    "# Check if there are any CITIES nodes not linked to COUNTRIES\n",
    "query = \"\"\"\n",
    "    MATCH (ci:CITIES)\n",
    "    WHERE NOT EXISTS ((ci)-[:IN]->(:COUNTRIES))\n",
    "    RETURN ci\n",
    "\"\"\"\n",
    "result = execute_read(driver, query)\n",
    "\n",
    "pprint(result)"
   ]
  },
  {
   "cell_type": "code",
   "execution_count": null,
   "metadata": {},
   "outputs": [],
   "source": [
    "# Check if there are reviews not linked to user\n",
    "query = \"\"\"\n",
    "    MATCH (re:REVIEWS)\n",
    "    WHERE NOT EXISTS ((re)-[:POSTED]->(:USER))\n",
    "    RETURN re\n",
    "\"\"\"\n",
    "result = execute_read(driver, query)\n",
    "\n",
    "pprint(result)"
   ]
  },
  {
   "cell_type": "code",
   "execution_count": null,
   "metadata": {},
   "outputs": [],
   "source": [
    "# Check if there are breweries that are not linked to any beers \n",
    "query = \"\"\"\n",
    "    MATCH (br:BREWERY)\n",
    "    WHERE NOT EXISTS ((br)-[:BREWED]->(:BEERS))\n",
    "    RETURN br\n",
    "\"\"\"\n",
    "result = execute_read(driver, query)\n",
    "\n",
    "pprint(result)"
   ]
  },
  {
   "cell_type": "markdown",
   "metadata": {},
   "source": [
    "- There are breweries not associated w/ any city.\n",
    "- There are cities not associated w/ any country.\n",
    "- There are reviews not associated w/ any user or beer.\n",
    "- There are beers not associated w/ any brewery."
   ]
  },
  {
   "cell_type": "markdown",
   "metadata": {},
   "source": [
    "## 1.3 EXERCISE SUMMARY\n",
    "- Indexes: Style, user, countries and cities id is the property name.Reviews, Breweries, Beers id id the property id.\n",
    "- Labels: COUNTRIES, CITIES, BREWERIES, BEERS, REVIEWS, STYLE and USER.\n",
    "\n",
    "- Relationships:\n",
    "    - Relationship names: REVIEWED, BREWED, IN, HAS_STYLE and POSTED.\n",
    "    - Relationships are all unidrectional, which mnakes sense.\n",
    "    - Relationships have no properties. \n",
    "    - There are several isolated nodes. We will try to connect them, and delete the ones that we can't connect.\n",
    "\n",
    "- Properties:\n",
    "    - COUNTRIES, CITIES, USER and STYLE only property: ‘name’.\n",
    "    - REVIEWS properties: 'text', 'smell', 'look', 'taste', 'feel', 'overall', 'beer_id', 'id', 'date', 'score'\n",
    "    - There are several node w/ label REVIEWS that have no properties.\n",
    "    - BREWERIES properties: 'notes', 'types', 'id', 'name', 'state'\n",
    "    - BEERS properties: notes', 'abv', 'name', 'state', 'id', 'retired', 'availability', 'brewery_id'\n",
    "\n",
    "- Inconsistencies found:\n",
    "    - Duplicated nodes: There are several nodes with the label BEERS, COUNTRIES, CITIES and REVIEWS duplicated for all properties.\n",
    "    - There are breweries not associated w/ any city.\n",
    "    - There are cities not associated w/ any country.\n",
    "    - There are reviews not associated w/ any user or beer.\n",
    "    - There are beers not associated w/ any brewery."
   ]
  },
  {
   "cell_type": "markdown",
   "metadata": {},
   "source": [
    "# 2. Adjust the database and mention reasoning behind: e.g. clean errors, remove redundancies, adjust schema as necessary. Visualize the final version of database schema."
   ]
  },
  {
   "cell_type": "markdown",
   "metadata": {},
   "source": [
    "### Adjustments to be made"
   ]
  },
  {
   "cell_type": "markdown",
   "metadata": {},
   "source": [
    "- **2.1.** Connect isolated nodes where possible and delete the ones where it is not possible\n",
    "    - Try to connect BEERS with BREWERIES if possible based on BEERS properties\n",
    "    - Try to connect CITIES with COUNTRIES if possible\n",
    "    - Associate BREWERIES with CITIES if possible.\n",
    "- **2.2.** Delete nodes that are duplicated for all properties\n",
    "- **2.3.** Question: Should one beer only be associated to one brewery? Maybe many breweries can produce the same beer\n",
    "- **2.4.** Change REVIEWS - [POSTED] -> USERS to REVIEWS - [POSTED_BY] -> USERS\n",
    "- **2.5.** Connecting BEER to COUNTRY so that we know what beers are available in each country directly."
   ]
  },
  {
   "cell_type": "markdown",
   "metadata": {},
   "source": [
    "### **2.1.** Connecting isolated NODES where possible. Deleting the ones that can't be connected."
   ]
  },
  {
   "cell_type": "code",
   "execution_count": null,
   "metadata": {},
   "outputs": [],
   "source": [
    "# Checking isolated nodes for REVIEWS before we do anything\n",
    "\n",
    "query = \"\"\"\n",
    "    MATCH (n)\n",
    "    WHERE \"REVIEWS\" IN labels(n) AND NOT EXISTS ((n)--())\n",
    "    RETURN n\n",
    "    \"\"\"\n",
    "\n",
    "result = execute_read(driver, query)\n",
    "pprint(result)"
   ]
  },
  {
   "cell_type": "code",
   "execution_count": null,
   "metadata": {},
   "outputs": [],
   "source": [
    "# Connecting isolated REVIEWS nodes where possible\n",
    "# Connecting BEERS - [REVIEWED] -> REVIEWS\n",
    "\n",
    "query = \"\"\"\n",
    "MATCH (r:REVIEWS)\n",
    "WITH r\n",
    "MATCH (b:BEER WHERE b.id = r.beer_id)\n",
    "CREATE (b)-[:REVIEWED]->(r)\n",
    "\"\"\"\n",
    "\n",
    "result = execute_write(driver, query)\n",
    "pprint(result)"
   ]
  },
  {
   "cell_type": "code",
   "execution_count": null,
   "metadata": {},
   "outputs": [],
   "source": [
    "# Checking results\n",
    "\n",
    "query = \"\"\"\n",
    "    MATCH (n)\n",
    "    WHERE \"REVIEWS\" IN labels(n) AND NOT EXISTS ((n)--())\n",
    "    RETURN n\n",
    "    \"\"\"\n",
    "\n",
    "result = execute_read(driver, query)\n",
    "pprint(result)"
   ]
  },
  {
   "cell_type": "markdown",
   "metadata": {},
   "source": [
    "We were not able to connect any nodes. We thought that BEER.id could match with REVIEWED.beer_id but that doesn't seem to be the case."
   ]
  },
  {
   "cell_type": "code",
   "execution_count": null,
   "metadata": {},
   "outputs": [],
   "source": [
    "# Deleting nodes that we could not connect\n",
    "\n",
    "query = \"\"\"\n",
    "    MATCH (n)\n",
    "    WHERE \"REVIEWS\" IN labels(n) AND NOT EXISTS ((n)--())\n",
    "    DELETE n\n",
    "\"\"\"\n",
    "\n",
    "result = execute_write(driver, query)\n",
    "pprint(result)"
   ]
  },
  {
   "cell_type": "code",
   "execution_count": null,
   "metadata": {},
   "outputs": [],
   "source": [
    "# Checking results\n",
    "\n",
    "query = \"\"\"\n",
    "    MATCH (n)\n",
    "    WHERE \"REVIEWS\" IN labels(n) AND NOT EXISTS ((n)--())\n",
    "    RETURN n\n",
    "    \"\"\"\n",
    "\n",
    "result = execute_read(driver, query)\n",
    "pprint(result)"
   ]
  },
  {
   "cell_type": "markdown",
   "metadata": {},
   "source": [
    "We successfully deleted the isolated REVIEWS nodes."
   ]
  },
  {
   "cell_type": "code",
   "execution_count": null,
   "metadata": {},
   "outputs": [],
   "source": [
    "# Checking isolated nodes for USER before we do anything\n",
    "\n",
    "query = \"\"\"\n",
    "    MATCH (n)\n",
    "    WHERE \"USER\" IN labels(n) AND NOT EXISTS ((n)--())\n",
    "    RETURN n\n",
    "\"\"\"\n",
    "\n",
    "result = execute_read(driver, query)\n",
    "pprint(result)"
   ]
  },
  {
   "cell_type": "markdown",
   "metadata": {},
   "source": [
    "For users, the only node property is 'name', so we can't connect them. We will be deleting those."
   ]
  },
  {
   "cell_type": "code",
   "execution_count": null,
   "metadata": {},
   "outputs": [],
   "source": [
    "# Deleting nodes that we could not connect\n",
    "\n",
    "query = \"\"\"\n",
    "    MATCH (n)\n",
    "    WHERE \"USER\" IN labels(n) AND NOT EXISTS ((n)--())\n",
    "    DELETE n\n",
    "\"\"\"\n",
    "\n",
    "result = execute_write(driver, query)\n",
    "pprint(result)"
   ]
  },
  {
   "cell_type": "code",
   "execution_count": null,
   "metadata": {},
   "outputs": [],
   "source": [
    "# Checking result\n",
    "\n",
    "query = \"\"\"\n",
    "    MATCH (n)\n",
    "    WHERE \"USER\" IN labels(n) AND NOT EXISTS ((n)--())\n",
    "    RETURN n\n",
    "\"\"\"\n",
    "\n",
    "result = execute_read(driver, query)\n",
    "pprint(result)"
   ]
  },
  {
   "cell_type": "markdown",
   "metadata": {},
   "source": [
    "Sucessfully deleted isolated USERS nodes."
   ]
  },
  {
   "cell_type": "code",
   "execution_count": null,
   "metadata": {},
   "outputs": [],
   "source": [
    "# Checking isolated nodes for STYLE before we do anything\n",
    "\n",
    "query = \"\"\"\n",
    "    MATCH (n)\n",
    "    WHERE \"STYLE\" IN labels(n) AND NOT EXISTS ((n)--())\n",
    "    RETURN n\n",
    "    \"\"\"\n",
    "\n",
    "result = execute_read(driver, query)\n",
    "pprint(result)"
   ]
  },
  {
   "cell_type": "markdown",
   "metadata": {},
   "source": [
    "There are no isolated STYLE nodes."
   ]
  },
  {
   "cell_type": "code",
   "execution_count": null,
   "metadata": {},
   "outputs": [],
   "source": [
    "# Checking isolated nodes for BEERS before we do anything\n",
    "\n",
    "query = \"\"\"\n",
    "    MATCH (n)\n",
    "    WHERE \"BEERS\" IN labels(n) AND NOT EXISTS ((n)--())\n",
    "    RETURN n\n",
    "    \"\"\"\n",
    "\n",
    "result = execute_read(driver, query)\n",
    "pprint(result)"
   ]
  },
  {
   "cell_type": "code",
   "execution_count": null,
   "metadata": {},
   "outputs": [],
   "source": [
    "# Count of isolated nodes for beers before changes\n",
    "query = \"\"\"\n",
    "    MATCH (n)\n",
    "    WHERE \"BEERS\" IN labels(n) AND NOT EXISTS ((n)--())\n",
    "    RETURN count(n)\n",
    "    \"\"\"\n",
    "\n",
    "result = execute_read(driver, query)\n",
    "pprint(result)"
   ]
  },
  {
   "cell_type": "markdown",
   "metadata": {},
   "source": [
    "BREWERIES - [r] -> BEERS nodes connection attempt"
   ]
  },
  {
   "cell_type": "code",
   "execution_count": null,
   "metadata": {},
   "outputs": [],
   "source": [
    "# Number of BREWERIES - r -> BEERS connections existing before trying to connect the isolated nodes\n",
    "\n",
    "query = \"\"\"\n",
    "MATCH (b:BREWERIES)-[r:BREWED]->(beer:BEERS)\n",
    "RETURN COUNT(r) AS total_relationships;\n",
    "\"\"\"\n",
    "\n",
    "result = execute_write(driver, query)\n",
    "pprint(result)"
   ]
  },
  {
   "cell_type": "code",
   "execution_count": null,
   "metadata": {},
   "outputs": [],
   "source": [
    "# Trying to connect isolated BEERS nodes to BREWERIES: BREWERIES [BREWED] BEERS based on properties\n",
    "\n",
    "query = \"\"\"\n",
    "MATCH (beer:BEERS)\n",
    "MATCH (b:BREWERIES)\n",
    "WHERE b.id = beer.brewery_id\n",
    "MERGE (b)-[:BREWED]->(beer);\n",
    "\"\"\"\n",
    "\n",
    "result = execute_write(driver, query)\n",
    "pprint(result)"
   ]
  },
  {
   "cell_type": "code",
   "execution_count": null,
   "metadata": {},
   "outputs": [],
   "source": [
    "# Number of connections existing AFTER trying to connect the isolated nodes\n",
    "\n",
    "query = \"\"\"\n",
    "MATCH (b:BREWERIES)-[r:BREWED]->(beer:BEERS)\n",
    "RETURN COUNT(r) AS total_relationships;\n",
    "\"\"\"\n",
    "\n",
    "result = execute_write(driver, query)\n",
    "pprint(result)"
   ]
  },
  {
   "cell_type": "code",
   "execution_count": null,
   "metadata": {},
   "outputs": [],
   "source": [
    "# Checking isolated nodes for BEERS AFTER we do the process\n",
    "\n",
    "query = \"\"\"\n",
    "    MATCH (n)\n",
    "    WHERE \"BEERS\" IN labels(n) AND NOT EXISTS ((n)--())\n",
    "    RETURN n\n",
    "    \"\"\"\n",
    "\n",
    "result = execute_read(driver, query)\n",
    "pprint(result)"
   ]
  },
  {
   "cell_type": "code",
   "execution_count": null,
   "metadata": {},
   "outputs": [],
   "source": [
    "# Count of isolated nodes for beers AFTER changes\n",
    "query = \"\"\"\n",
    "    MATCH (n)\n",
    "    WHERE \"BEERS\" IN labels(n) AND NOT EXISTS ((n)--())\n",
    "    RETURN count(n)\n",
    "    \"\"\"\n",
    "\n",
    "result = execute_read(driver, query)\n",
    "pprint(result)"
   ]
  },
  {
   "cell_type": "markdown",
   "metadata": {},
   "source": [
    "**We were able to connect all isolated BEER nodes to BREWERIES.**"
   ]
  },
  {
   "cell_type": "code",
   "execution_count": null,
   "metadata": {},
   "outputs": [],
   "source": []
  },
  {
   "cell_type": "markdown",
   "metadata": {},
   "source": [
    "We can't connect CITIES with COUNTRIES as their only property is name. The only thing left to do with the isolated nodes in these two is to delete them."
   ]
  },
  {
   "cell_type": "code",
   "execution_count": null,
   "metadata": {},
   "outputs": [],
   "source": []
  },
  {
   "cell_type": "markdown",
   "metadata": {},
   "source": [
    "### After this point, it seems impossible to connect any other nodes taking into account the properties that we have. E.g. for BREWERIES we have the property state but not City. And City only has property name, not property State.<br>\n",
    "### As such, we will simply delete all the remaining isolated nodes."
   ]
  },
  {
   "cell_type": "code",
   "execution_count": null,
   "metadata": {},
   "outputs": [],
   "source": [
    "# Deleting all nodes that we could not connect\n",
    "\n",
    "query = \"\"\"\n",
    "MATCH (n)\n",
    "WHERE NOT (n)--()\n",
    "DELETE n;\n",
    "\"\"\"\n",
    "\n",
    "result = execute_write(driver, query)\n",
    "pprint(result)"
   ]
  },
  {
   "cell_type": "code",
   "execution_count": null,
   "metadata": {},
   "outputs": [],
   "source": [
    "# Checking if there are still isolated nodes\n",
    "\n",
    "query = \"\"\"\n",
    "MATCH (n)\n",
    "WHERE NOT (n)--()\n",
    "RETURN count(n);\n",
    "\"\"\"\n",
    "\n",
    "result = execute_read(driver, query)\n",
    "pprint(result)"
   ]
  },
  {
   "cell_type": "markdown",
   "metadata": {},
   "source": [
    "## 2.2 Deleting all duplicate nodes"
   ]
  },
  {
   "cell_type": "markdown",
   "metadata": {},
   "source": [
    "### Delete nodes duplicated for all properties"
   ]
  },
  {
   "cell_type": "code",
   "execution_count": null,
   "metadata": {},
   "outputs": [],
   "source": [
    "# Collecting the nodes and identifying duplicates\n",
    "\n",
    "query = \"\"\"\n",
    "MATCH (n)\n",
    "WITH n, LABELS(n) AS labels, KEYS(n) AS keys, [k IN KEYS(n) | n[k]] AS values\n",
    "WITH labels, values, COLLECT(n) AS nodes\n",
    "WHERE SIZE(nodes) > 1\n",
    "RETURN labels, values, nodes\n",
    "\"\"\"\n",
    "\n",
    "result = execute_read(driver, query)\n",
    "pprint(result)"
   ]
  },
  {
   "cell_type": "code",
   "execution_count": null,
   "metadata": {},
   "outputs": [],
   "source": [
    "# Removing duplicate nodes, keeping only one\n",
    "query = \"\"\"\n",
    "MATCH (n)\n",
    "WITH n, LABELS(n) AS labels, KEYS(n) AS keys, [k IN KEYS(n) | n[k]] AS values\n",
    "WITH labels, values, COLLECT(n) AS nodes\n",
    "WHERE SIZE(nodes) > 1\n",
    "CALL {\n",
    "  WITH nodes\n",
    "  UNWIND nodes[1..] AS duplicate  // Keep the first node, delete the rest\n",
    "  DETACH DELETE duplicate\n",
    "}\n",
    "RETURN COUNT(*) AS deleted_nodes\n",
    "\"\"\"\n",
    "\n",
    "result = execute_write(driver, query)\n",
    "pprint(result)"
   ]
  },
  {
   "cell_type": "code",
   "execution_count": null,
   "metadata": {},
   "outputs": [],
   "source": [
    "# Checking results\n",
    "\n",
    "# Collecting the nodes and identifying duplicates\n",
    "\n",
    "query = \"\"\"\n",
    "MATCH (n)\n",
    "WITH n, LABELS(n) AS labels, KEYS(n) AS keys, [k IN KEYS(n) | n[k]] AS values\n",
    "WITH labels, values, COLLECT(n) AS nodes\n",
    "WHERE SIZE(nodes) > 1\n",
    "RETURN labels, values, nodes\n",
    "\"\"\"\n",
    "\n",
    "result = execute_read(driver, query)\n",
    "pprint(result)"
   ]
  },
  {
   "cell_type": "markdown",
   "metadata": {},
   "source": [
    "### **2.3.** Do all BEERS have at least one BREWERY associated? Check ´brewery_id´ property"
   ]
  },
  {
   "cell_type": "code",
   "execution_count": null,
   "metadata": {},
   "outputs": [],
   "source": [
    "# Checking if all BEERS have BREWERY associated\n",
    "query = \"\"\"\n",
    "MATCH (b:BEERS)\n",
    "WHERE NOT EXISTS(b.brewery_id) OR b.brewery_id IS NULL\n",
    "RETURN b\n",
    "\"\"\"\n",
    "\n",
    "result = execute_read(driver, query)\n",
    "pprint(result)"
   ]
  },
  {
   "cell_type": "markdown",
   "metadata": {},
   "source": [
    "- Since all BEERS have a BREWERY associated, we do not need to make any changes here."
   ]
  },
  {
   "cell_type": "markdown",
   "metadata": {},
   "source": [
    "### **2.4** Changing [POSTED] to [POSTED_BY]"
   ]
  },
  {
   "cell_type": "code",
   "execution_count": null,
   "metadata": {},
   "outputs": [],
   "source": [
    "# Initial [POSTED] relationships\n",
    "query = \"\"\"\n",
    "MATCH (re:REVIEWS)-[r:POSTED]->(u:USER)\n",
    "RETURN COUNT(r)\n",
    "\"\"\"\n",
    "\n",
    "result = execute_read(driver, query)\n",
    "pprint(result)"
   ]
  },
  {
   "cell_type": "code",
   "execution_count": null,
   "metadata": {},
   "outputs": [],
   "source": [
    "deleted_count = 1\n",
    "\n",
    "query = \"\"\" \n",
    "MATCH (re:REVIEWS)-[r:POSTED]->(u:USER)\n",
    "WITH re, u, r LIMIT 100000  \n",
    "CREATE (re) -[:POSTED_BY {}] -> (u)\n",
    "DELETE r\n",
    "RETURN COUNT(r) AS deletedCount\n",
    "\"\"\"\n",
    "\n",
    "while deleted_count != 0:\n",
    "    start_time = time.time()\n",
    "\n",
    "    result = execute_write(driver, query)\n",
    "\n",
    "    print(f\"Result:{result}\")\n",
    "    \n",
    "    end_time = time.time()\n",
    "    \n",
    "    run_time = end_time - start_time\n",
    "\n",
    "    print(f\"Time taken for this iteration: {round(run_time,2)} seconds\")\n",
    "    \n",
    "    deleted_count = result[0][0]"
   ]
  },
  {
   "cell_type": "code",
   "execution_count": null,
   "metadata": {},
   "outputs": [],
   "source": [
    "# Checking final result\n",
    "query = \"\"\"\n",
    "MATCH (re:REVIEWS)-[r]->(u:USER)\n",
    "RETURN DISTINCT type(r) AS relationship_type\n",
    "\"\"\"\n",
    "\n",
    "result = execute_read(driver, query)\n",
    "pprint(result)"
   ]
  },
  {
   "cell_type": "code",
   "execution_count": null,
   "metadata": {},
   "outputs": [],
   "source": [
    "query = \"\"\"\n",
    "MATCH (re:REVIEWS)-[r:POSTED_BY]->(u:USER)\n",
    "RETURN COUNT(r)\n",
    "\"\"\"\n",
    "\n",
    "result = execute_read(driver, query)\n",
    "pprint(result)"
   ]
  },
  {
   "cell_type": "markdown",
   "metadata": {},
   "source": [
    "We have successfully replaced the [POSTED] relationship by [POSTED_BY]."
   ]
  },
  {
   "cell_type": "markdown",
   "metadata": {},
   "source": [
    "### **2.5** Creating [BEERS] - [AVAILABLE_IN] - [COUNTRIES]"
   ]
  },
  {
   "cell_type": "code",
   "execution_count": null,
   "metadata": {},
   "outputs": [],
   "source": [
    "# Creating new relationship\n",
    "\n",
    "query = \"\"\"\n",
    "MATCH (b:BREWERIES)-[:IN]->(c:COUNTRIES), (b)-[:BREWED]->(beer:BEERS)\n",
    "MERGE (beer)-[:AVAILABLE_IN]->(c)\n",
    "\"\"\"\n",
    "\n",
    "result = execute_write(driver, query)\n",
    "pprint(result)"
   ]
  },
  {
   "cell_type": "code",
   "execution_count": null,
   "metadata": {},
   "outputs": [],
   "source": [
    "# Checking all one-directional relationships after creating this one\n",
    "\n",
    "query = \"\"\"\n",
    "MATCH (a)-[r]->(b)\n",
    "WHERE NOT EXISTS {\n",
    "    MATCH (b)-[r_reverse]->(a)\n",
    "}\n",
    "RETURN DISTINCT\n",
    "  type(r) AS relationship_type,\n",
    "  labels(a) AS start_node_labels,\n",
    "  labels(b) AS end_node_labels\n",
    "\"\"\"\n",
    "\n",
    "result = execute_read(driver, query)\n",
    "\n",
    "pprint(result)"
   ]
  },
  {
   "cell_type": "code",
   "execution_count": null,
   "metadata": {},
   "outputs": [],
   "source": [
    "# Final schema visualization\n",
    "\n",
    "query = \"\"\"\n",
    "    call db.schema.visualization;\n",
    "    \"\"\"\n",
    "\n",
    "result = execute_read(driver, query)\n",
    "\n",
    "pprint(result)\n"
   ]
  },
  {
   "cell_type": "markdown",
   "metadata": {},
   "source": [
    "### **Summary of Changes to Dabatase**\n",
    "- Created a link between BEERS and COUNTRIES \n",
    "- Deleted isolated nodes that could not be connected\n",
    "- Deleted all duplicated nodes."
   ]
  },
  {
   "cell_type": "markdown",
   "metadata": {},
   "source": [
    "### 3.1 How many reviews has the beer with the most reviews?"
   ]
  },
  {
   "cell_type": "code",
   "execution_count": null,
   "metadata": {},
   "outputs": [],
   "source": [
    "query = \"\"\"\n",
    "        MATCH (b:BEERS)-[r]->(:REVIEWS)\n",
    "        WITH b, count(r) AS review_count\n",
    "        ORDER BY review_count DESC\n",
    "        LIMIT 1\n",
    "        RETURN b.name, review_count\n",
    "\n",
    "\n",
    "    \"\"\"\n",
    "\n",
    "result = execute_read(driver, query)\n",
    "pprint(result)\n"
   ]
  },
  {
   "cell_type": "markdown",
   "metadata": {},
   "source": [
    "OR"
   ]
  },
  {
   "cell_type": "code",
   "execution_count": null,
   "metadata": {},
   "outputs": [],
   "source": [
    "query = \"\"\"\n",
    "        MATCH (b:BEERS)-[r]->(:REVIEWS)\n",
    "        WITH b.name AS beer_name, count(r) AS review_count\n",
    "        ORDER BY review_count DESC\n",
    "        LIMIT 1 \n",
    "        RETURN beer_name, review_count\n",
    "\n",
    "    \"\"\"\n",
    "\n",
    "result = execute_read(driver, query)\n",
    "pprint(result)"
   ]
  },
  {
   "cell_type": "markdown",
   "metadata": {},
   "source": [
    "### 3.2 Which three users wrote the most reviews about beers?"
   ]
  },
  {
   "cell_type": "code",
   "execution_count": null,
   "metadata": {},
   "outputs": [],
   "source": [
    "query = \"\"\"\n",
    "        MATCH (r:REVIEWS)-[p:POSTED]->(u:USER)\n",
    "        WITH u, count(r) AS review_count\n",
    "        ORDER BY review_count DESC\n",
    "        LIMIT 3\n",
    "        RETURN u.name\n",
    "    \"\"\"\n",
    "\n",
    "result = execute_read(driver, query)\n",
    "pprint(result)"
   ]
  },
  {
   "cell_type": "markdown",
   "metadata": {},
   "source": [
    "### *REVIEW* 3.3 Find all beers that are described with following words: 'fruit', 'complex', 'nutty', 'dark'. *REVIEW*"
   ]
  },
  {
   "cell_type": "code",
   "execution_count": null,
   "metadata": {},
   "outputs": [],
   "source": [
    "words = ['fruit', 'complex', 'nutty', 'dark']\n",
    "\n",
    "query = f\"\"\"\n",
    "        WITH {words} AS words\n",
    "\n",
    "        MATCH (u:BEERS)-[r:REVIEWED]->(rs:REVIEWS)\n",
    "        \n",
    "\n",
    "        WHERE any(word IN words WHERE rs.text CONTAINS word)\n",
    "\n",
    "        RETURN DISTINCT u.name\n",
    "    \"\"\"\n",
    "\n",
    "result = execute_read(driver, query)\n",
    "\n",
    "pprint(result)"
   ]
  },
  {
   "cell_type": "markdown",
   "metadata": {},
   "source": [
    "### 3.5 Which top three breweries produce the largest variety of beer styles?"
   ]
  },
  {
   "cell_type": "code",
   "execution_count": null,
   "metadata": {},
   "outputs": [],
   "source": [
    "query = \"\"\"\n",
    "        MATCH (br:BREWERIES)-[:BREWED]->(b:BEERS)-[h:HAS_STYLE]->(s:STYLE)\n",
    "        RETURN br.name, count(s)\n",
    "        ORDER BY count(s) DESC\n",
    "        LIMIT 3 \n",
    "    \"\"\"\n",
    "\n",
    "result = execute_read(driver, query)\n",
    "pprint(result)"
   ]
  },
  {
   "cell_type": "markdown",
   "metadata": {},
   "source": [
    "### 3.5 Which country produces the most beer styles?"
   ]
  },
  {
   "cell_type": "code",
   "execution_count": null,
   "metadata": {},
   "outputs": [],
   "source": [
    "query = \"\"\"\n",
    "        MATCH (c:COUNTRIES)<-[:IN]-(ci:CITIES)<-[:IN]-(br:BREWERIES)-[:BREWED]->(b:BEERS)-[:HAS_STYLE]->(s:STYLE)\n",
    "        RETURN c.name, count(s)\n",
    "        ORDER BY count(s) DESC\n",
    "        LIMIT 1\n",
    "    \"\"\"\n",
    "\n",
    "result = execute_read(driver, query)\n",
    "pprint(result)"
   ]
  },
  {
   "cell_type": "code",
   "execution_count": null,
   "metadata": {},
   "outputs": [],
   "source": []
  },
  {
   "cell_type": "markdown",
   "metadata": {},
   "source": [
    "### **4.1.** Using ABV score, find five strongest beers, display their ABV score and the corresponding brewery? Keep in mind that the strongest known beer is Snake Venom, and deal with the error entries in the database."
   ]
  },
  {
   "cell_type": "code",
   "execution_count": null,
   "metadata": {},
   "outputs": [],
   "source": [
    "#without indexing\n",
    "query = \"\"\" \n",
    "    PROFILE\n",
    "    MATCH (be:BEERS)-[:BREWED]-(br:BREWERIES)\n",
    "    WHERE be.abv <> 'nan'\n",
    "    RETURN be.name AS Beer, be.abv AS ABV, br.name AS Brewery\n",
    "    ORDER BY be.abv DESC\n",
    "    LIMIT 5\n",
    "\"\"\"\n",
    "\n",
    "result = execute_read(driver, query)\n",
    "pprint(result)"
   ]
  },
  {
   "cell_type": "code",
   "execution_count": null,
   "metadata": {},
   "outputs": [],
   "source": [
    "query = \"\"\"\n",
    "        CREATE INDEX FOR (b:BEERS) ON (b.abv)\n",
    "    \"\"\"\n",
    "\n",
    "result = execute_write(driver, query)\n",
    "pprint(result)"
   ]
  },
  {
   "cell_type": "code",
   "execution_count": null,
   "metadata": {},
   "outputs": [],
   "source": [
    "#with indexing\n",
    "query = \"\"\"\n",
    "        PROFILE\n",
    "        MATCH (be:BEERS)-[:BREWED]-(br:BREWERIES)\n",
    "        WHERE be.abv <> 'nan'\n",
    "        RETURN be.name AS Beer, be.abv AS ABV, br.name AS Brewery\n",
    "        ORDER BY be.abv DESC\n",
    "        LIMIT 5\n",
    "    \"\"\"\n",
    "\n",
    "result = execute_read(driver, query)\n",
    "pprint(result)"
   ]
  },
  {
   "cell_type": "markdown",
   "metadata": {},
   "source": [
    "### **4.2.** Using the answer from question 2, find the top 5 distict beer styles with the highest average score of smell + feel that were reviewed by the third most productive user. Keep in mind that cleaning the database earlier should ensure correct results."
   ]
  },
  {
   "cell_type": "code",
   "execution_count": null,
   "metadata": {},
   "outputs": [],
   "source": [
    "query = \"\"\"\n",
    "    // 3rd most productive user\n",
    "    MATCH (u:USER)<-[:POSTED]-(r:REVIEWS)\n",
    "    WITH u, COUNT(r) AS review_count\n",
    "    ORDER BY review_count DESC\n",
    "    SKIP 2 LIMIT 1 // Skip the top 2 and get the 3rd most productive user\n",
    "    WITH u\n",
    "\n",
    "    // Average smell + feel score for each BEERS STYLE, filtered by the 3rd most productive user\n",
    "    MATCH (u)<-[:POSTED]-(r:REVIEWS)<-[:REVIEWED]-(b:BEERS)-[:HAS_STYLE]->(s:STYLE)\n",
    "    WHERE toFloat(r.smell) IS NOT NULL AND toFloat(r.feel) IS NOT NULL\n",
    "    WITH s.name AS style, ROUND(AVG(toFloat(r.smell) + toFloat(r.feel)), 2) AS avg_smell_feel\n",
    "    ORDER BY avg_smell_feel DESC\n",
    "\n",
    "    // Top 5 styles\n",
    "    LIMIT 5\n",
    "    RETURN style, avg_smell_feel\n",
    "\"\"\"\n",
    "\n",
    "result = execute_read(driver, query)\n",
    "\n",
    "pprint(result)"
   ]
  },
  {
   "cell_type": "code",
   "execution_count": null,
   "metadata": {},
   "outputs": [],
   "source": []
  },
  {
   "cell_type": "markdown",
   "metadata": {},
   "source": [
    "### **5.1** Which two countries are most similiar when it comes to their top five most produced Beer styles?"
   ]
  },
  {
   "cell_type": "code",
   "execution_count": null,
   "metadata": {},
   "outputs": [],
   "source": [
    "query = \"\"\"\n",
    "        CALL gds.graph.project.cypher(\n",
    "            'countryBeerGraph',\n",
    "            \"MATCH (c:COUNTRIES) RETURN id(c) AS id\",\n",
    "            \"MATCH (b:BREWERIES)-[:BREWED]->(beer:BEERS)-[:HAS_STYLE]->(style:STYLE)\n",
    "            WITH beer, style, COUNT(*) AS styleCount\n",
    "            MATCH (c1:COUNTRIES)<-[:IN]-(b)-[:IN]->(c2:COUNTRIES)\n",
    "            RETURN id(c1) AS source, id(c2) AS target, style, styleCount\"\n",
    ")\n",
    "    \"\"\"\n",
    "\n",
    "result = execute_read(driver, query)\n",
    "pprint(result)\n"
   ]
  },
  {
   "cell_type": "code",
   "execution_count": null,
   "metadata": {},
   "outputs": [],
   "source": [
    "#First getting the top 5 most produced Beer styles for each country\n",
    "\n",
    "query = \"\"\"\n",
    "        MATCH (c:COUNTRIES)<-[:IN]-(ci:CITIES)<-[:IN]-(br:BREWERIES)-[:BREWED]->(b:BEERS)-[:HAS_STYLE]->(s:STYLE)\n",
    "        WITH c.name AS country, s.name AS beer_style, COUNT(*) AS count\n",
    "        ORDER BY country, count DESC\n",
    "        WITH country, COLLECT(beer_style)[..5] AS top_styles\n",
    "        RETURN country, top_styles;\n",
    "    \"\"\"\n",
    "\n",
    "result = execute_read(driver, query)\n",
    "pprint(result)"
   ]
  },
  {
   "cell_type": "code",
   "execution_count": null,
   "metadata": {},
   "outputs": [],
   "source": [
    "try:\n",
    "    query = \"\"\"\n",
    "            CALL gds.graph.drop('countryBeerGraph') YIELD graphName;\n",
    "        \"\"\"\n",
    "\n",
    "    result = execute_read(driver, query)\n",
    "\n",
    "    pprint(result)\n",
    "except Exception as e:\n",
    "    pprint(e)"
   ]
  },
  {
   "cell_type": "code",
   "execution_count": null,
   "metadata": {},
   "outputs": [],
   "source": [
    "query = \"\"\"\n",
    "        CALL gds.graph.project.cypher(\n",
    "            'countryBeerGraph',\n",
    "            \"MATCH (c:COUNTRIES) RETURN id(c) AS id\",\n",
    "            \"\n",
    "            MATCH (b1:BREWERIES)-[:BREWED]->(beer1:BEERS)-[:HAS_STYLE]->(s:STYLE)<-[:HAS_STYLE]-(beer2:BEERS)<-[:BREWED]-(b2:BREWERIES)\n",
    "            WITH b1, b2, COUNT(DISTINCT s) AS weight\n",
    "            WHERE weight > 0\n",
    "            MATCH (c1:COUNTRIES)<-[:IN]-(b1)-[:IN]->(c2:COUNTRIES)\n",
    "            WHERE c1 <> c2\n",
    "            RETURN id(c1) AS source, id(c2) AS target, weight\"\n",
    "        )\n",
    "\n",
    "    \"\"\"\n",
    "\n",
    "result = execute_read(driver, query)\n",
    "pprint(result)"
   ]
  },
  {
   "cell_type": "code",
   "execution_count": null,
   "metadata": {},
   "outputs": [],
   "source": [
    "#Apply the Node Similarity Algorithm \n",
    "#Countries are nodes and edges represent similarities based on shared beer styles\n",
    "#edges have weights based on the number of shared beer styles\n",
    "\n",
    "#1-Create the graph for similarity analysis\n",
    "query = \"\"\"\n",
    "        CALL gds.graph.project.cypher(\n",
    "            'countryBeerGraph',\n",
    "            \"MATCH (c:COUNTRIES) RETURN id(c) AS id\",\n",
    "            \"MATCH (c1:COUNTRIES)<-[:IN]-(:CITIES)<-[:IN]-(b1:BREWERIES)-[:BREWED]->(beer1:BEERS)-[:HAS_STYLE]->(s:STYLE),\n",
    "                (c2:COUNTRIES)<-[:IN]-(:CITIES)<-[:IN]-(b2:BREWERIES)-[:BREWED]->(beer2:BEERS)-[:HAS_STYLE]->(s:STYLE)\n",
    "            WHERE c1 <> c2\n",
    "            WITH c1, c2, COUNT(DISTINCT s) AS weight \n",
    "            WHERE weight > 0 \n",
    "            RETURN id(c1) AS source, id(c2) AS target, weight\" \n",
    "        );\n",
    "\n",
    "    \"\"\"\n",
    "\n",
    "result = execute_read(driver, query)\n",
    "pprint(result)"
   ]
  },
  {
   "cell_type": "code",
   "execution_count": null,
   "metadata": {},
   "outputs": [],
   "source": [
    "query = \"\"\"\n",
    "        CALL gds.graph.list() YIELD graphName, nodeCount, relationshipCount\n",
    "        WHERE graphName = 'countryBeerGraph';\n",
    "\n",
    "\n",
    "\n",
    "    \"\"\"\n",
    "\n",
    "result = execute_read(driver, query)\n",
    "pprint(result)\n"
   ]
  },
  {
   "cell_type": "code",
   "execution_count": null,
   "metadata": {},
   "outputs": [],
   "source": [
    "#Apply the Node Similarity Algorithm \n",
    "\n",
    "#2- Run the algorithm\n",
    "\n",
    "query = \"\"\"\n",
    "        CALL gds.nodeSimilarity.stream('countryBeerGraph', { similarityMetric: 'JACCARD' })\n",
    "        YIELD node1, node2, similarity\n",
    "        RETURN gds.util.asNode(node1).name AS country1,\n",
    "            gds.util.asNode(node2).name AS country2,\n",
    "            similarity\n",
    "        ORDER BY similarity DESC\n",
    "        LIMIT 1\n",
    "\n",
    "    \"\"\"\n",
    "\n",
    "result = execute_read(driver, query)\n",
    "pprint(result)"
   ]
  },
  {
   "cell_type": "code",
   "execution_count": null,
   "metadata": {},
   "outputs": [],
   "source": []
  },
  {
   "cell_type": "markdown",
   "metadata": {},
   "source": [
    "### **5.2.** Which beer is the most popular when considering the number of users who reviewed it? "
   ]
  },
  {
   "cell_type": "code",
   "execution_count": null,
   "metadata": {},
   "outputs": [],
   "source": [
    "try:\n",
    "    query = \"\"\"\n",
    "            CALL gds.graph.drop('beer_popularity') YIELD graphName;\n",
    "        \"\"\"\n",
    "\n",
    "    result = execute_read(driver, query)\n",
    "\n",
    "    pprint(result)\n",
    "except Exception as e:\n",
    "    pprint(e)"
   ]
  },
  {
   "cell_type": "code",
   "execution_count": null,
   "metadata": {},
   "outputs": [],
   "source": [
    "# Create a graph projection for beers and reviews\n",
    "\n",
    "query = \"\"\"\n",
    "\n",
    "CALL gds.graph.project(\n",
    "    'beer_popularity',\n",
    "    ['BEERS', 'REVIEWS'],\n",
    "    {\n",
    "        REVIEWED: {\n",
    "            orientation: 'UNDIRECTED'\n",
    "        }\n",
    "    }\n",
    ")\n",
    "\"\"\"\n",
    "execute_write(driver, query)"
   ]
  },
  {
   "cell_type": "code",
   "execution_count": null,
   "metadata": {},
   "outputs": [],
   "source": [
    "# Compute Degree Centrality for beers\n",
    "\n",
    "query = \"\"\"\n",
    "\n",
    "CALL gds.degree.stream('beer_popularity')\n",
    "YIELD nodeId, score\n",
    "RETURN gds.util.asNode(nodeId).name AS beer_name, score AS num_reviews\n",
    "ORDER BY num_reviews DESC\n",
    "LIMIT 1\n",
    "\"\"\"\n",
    "\n",
    "result = execute_read(driver, query)\n",
    "pprint(result)"
   ]
  },
  {
   "cell_type": "code",
   "execution_count": null,
   "metadata": {},
   "outputs": [],
   "source": []
  },
  {
   "cell_type": "markdown",
   "metadata": {},
   "source": [
    "### **5.4.** Which user is the most influential when it comes to reviews of distinct beers by style?"
   ]
  },
  {
   "cell_type": "code",
   "execution_count": null,
   "metadata": {},
   "outputs": [],
   "source": [
    "try:\n",
    "    query = \"\"\"\n",
    "            CALL gds.graph.drop('user_influence_graph') YIELD graphName;\n",
    "        \"\"\"\n",
    "\n",
    "    result = execute_read(driver, query)\n",
    "\n",
    "    pprint(result)\n",
    "except Exception as e:\n",
    "    pprint(e)"
   ]
  },
  {
   "cell_type": "code",
   "execution_count": null,
   "metadata": {},
   "outputs": [],
   "source": [
    "try:\n",
    "    query = \"\"\"\n",
    "            CALL gds.graph.project.cypher(\n",
    "            'user_influence_graph',\n",
    "            'MATCH (u:USER) RETURN id(u) AS id\n",
    "            UNION\n",
    "            MATCH (s:STYLE) RETURN id(s) AS id',\n",
    "            'MATCH (u:USER)<-[:POSTED]-(r:REVIEWS)<-[:REVIEWED]-(b:BEERS)-[:HAS_STYLE]->(s:STYLE)\n",
    "            RETURN id(u) AS source, id(s) AS target'\n",
    "            );\n",
    "        \"\"\"\n",
    "\n",
    "    result = execute_read(driver, query)\n",
    "\n",
    "    pprint(result)\n",
    "except Exception as e:\n",
    "    pprint(e)"
   ]
  },
  {
   "cell_type": "code",
   "execution_count": null,
   "metadata": {},
   "outputs": [],
   "source": [
    "try:\n",
    "    query = \"\"\"\n",
    "        CALL gds.pageRank.stream('user_influence_graph')\n",
    "        YIELD nodeId, score\n",
    "        WHERE 'USER' IN labels(gds.util.asNode(nodeId))\n",
    "        RETURN gds.util.asNode(nodeId).name AS user, score AS influence_score\n",
    "        ORDER BY influence_score DESC\n",
    "        LIMIT 20;\n",
    "    \"\"\"\n",
    "    result = execute_read(driver, query)\n",
    "    pprint(result)\n",
    "\n",
    "except Exception as e:\n",
    "    pprint(e)"
   ]
  }
 ],
 "metadata": {
  "hide_input": false,
  "kernelspec": {
   "display_name": "bdmm",
   "language": "python",
   "name": "bdmm"
  },
  "language_info": {
   "codemirror_mode": {
    "name": "ipython",
    "version": 3
   },
   "file_extension": ".py",
   "mimetype": "text/x-python",
   "name": "python",
   "nbconvert_exporter": "python",
   "pygments_lexer": "ipython3",
   "version": "3.11.4"
  },
  "toc": {
   "base_numbering": 1,
   "nav_menu": {},
   "number_sections": true,
   "sideBar": true,
   "skip_h1_title": false,
   "title_cell": "Table of Contents",
   "title_sidebar": "Contents",
   "toc_cell": false,
   "toc_position": {},
   "toc_section_display": true,
   "toc_window_display": false
  },
  "varInspector": {
   "cols": {
    "lenName": 16,
    "lenType": 16,
    "lenVar": 40
   },
   "kernels_config": {
    "python": {
     "delete_cmd_postfix": "",
     "delete_cmd_prefix": "del ",
     "library": "var_list.py",
     "varRefreshCmd": "print(var_dic_list())"
    },
    "r": {
     "delete_cmd_postfix": ") ",
     "delete_cmd_prefix": "rm(",
     "library": "var_list.r",
     "varRefreshCmd": "cat(var_dic_list()) "
    }
   },
   "types_to_exclude": [
    "module",
    "function",
    "builtin_function_or_method",
    "instance",
    "_Feature"
   ],
   "window_display": false
  }
 },
 "nbformat": 4,
 "nbformat_minor": 4
}
