{
 "cells": [
  {
   "cell_type": "markdown",
   "metadata": {},
   "source": [
    "# Big Data Modeling and Management Assigment - Homework 1"
   ]
  },
  {
   "cell_type": "markdown",
   "metadata": {},
   "source": [
    "# Submission\n",
    "\n",
    "GROUP NUMBER: **1** \n",
    "\n",
    "GROUP MEMBERS:\n",
    "\n",
    "|STUDENT NAME|STUDENT NUMBER|\n",
    "|---|---|\n",
    "|Afonso Ascensão|20240684|\n",
    "|André Filipe Silva|20230972|\n",
    "|Joana Esteves|20240746|\n",
    "|Susana Reis|20240567|\n",
    "|Tomás Figueiredo|20240941|"
   ]
  },
  {
   "cell_type": "markdown",
   "metadata": {},
   "source": [
    "## 🍺 The Beer project  🍺 \n",
    "\n",
    "As it was shown in classes, graph databases are a natural way of navegating related information. For this first project we will be taking a graph database to analyse beer and breweries!   \n",
    "\n",
    "The project datasets are based on [kaggle](https://www.kaggle.com/ehallmar/beers-breweries-and-beer-reviews), released by Evan Hallmark. \n",
    "\n",
    "### Problem description\n",
    "\n",
    "Imagine you are working in the Data Management department of Analytics company.\n",
    "Explore the database via python neo4j connector and/or the graphical tool in the NEO4J webpage. Answer the questions while adjusting the database to meet the needs of your colleagues.\n",
    "Please record and keep track of your database changes, and submit the file with all cells run and with the output shown.\n",
    "\n",
    "### Questions\n",
    "\n",
    "1. Explore the database: get familiar with current schema, elements and other important database parameters. [1 point]\n",
    "2. Adjust the database and mention reasoning behind: e.g. clean errors, remove redundancies, adjust schema as necessary. Visualize the final version of database schema. [4 points]\n",
    "3. Analytics department requires the following information for the biweekly reporting: [5 points]\n",
    "    1. How many reviews has the beer with the most reviews?\n",
    "    2. Which three users wrote the most reviews about beers?\n",
    "    3. Find all beers that are described with following words: 'fruit', 'complex', 'nutty', 'dark'.\n",
    "    4. Which top three breweries produce the largest variety of beer styles?\n",
    "    5. Which country produces the most beer styles?\n",
    "4. Market Analysis department in your company accesses and updates the trends data on the daily basis. Given that, consider how you need to optimize the database and its performance so that the following queries are efficient. Measure performance to communicate your improvements using PROFILE before final query. Answer the following: [4 points]\n",
    "    1. Using ABV score, find five strongest beers, display their ABV score and the corresponding brewery? Keep in mind that the strongest known beer is Snake Venom, and deal with the error entries in the database.\n",
    "    2. Using the answer from question 2, find the top 5 distict beer styles with the highest average score of smell + feel that were reviewed by the third most productive user. Keep in mind that cleaning the database earlier should ensure correct results.\n",
    "5. Answer **two out of four** of the following questions using Graph Algorithms (gds): [NB: make sure to clear the graph before using it again] For the quarterly report, Analytics department the follownig information. [6 points]\n",
    "    1. Which two countries are most similiar when it comes to their top five most produced Beer styles?\n",
    "    2. Which beer is the most popular when considering the number of users who reviewed it? \n",
    "    3. Users are connected together by their reviews of beers, taking into consideration the \"smell\" score they assign as a weight, how many communities are formed from these relationships? How many users are in the three largest communities? \n",
    "    4. Which user is the most influential when it comes to reviews of distinct beers by style?\n",
    " \n",
    "### Groups  \n",
    "\n",
    "Groups should have 4 people maximum. Please mark which group you are here: https://shorturl.at/zE0QP \n",
    "\n",
    "### Submission      \n",
    "\n",
    "The code used to produce the results and to-the-point explations should be uploaded to moodle. They should have a clear reference to the group, either on the file name or on the document itself. Preferably one Jupyter notebook per group.\n",
    "\n",
    "Delivery date: Until the **midnight of March 18, 2025**\n",
    "\n",
    "### Evaluation   \n",
    "\n",
    "This will be 20% of the final grade.   \n",
    "Each solution will be evaluated on 2 components: correctness of results and efficiency of the query (based on database schema).  \n",
    "All code will go through plagiarism automated checks. Groups with the same code will undergo investigation."
   ]
  },
  {
   "cell_type": "code",
   "execution_count": null,
   "metadata": {
    "ExecuteTime": {
     "end_time": "2024-02-29T21:45:57.447501Z",
     "start_time": "2024-02-29T21:45:56.625014Z"
    }
   },
   "outputs": [],
   "source": [
    "from neo4j import GraphDatabase\n",
    "from pprint import pprint\n",
    "from py2neo import Graph\n",
    "import networkx as nx\n",
    "import matplotlib.pyplot as plt"
   ]
  },
  {
   "cell_type": "code",
   "execution_count": null,
   "metadata": {
    "ExecuteTime": {
     "end_time": "2024-02-29T21:46:09.652569Z",
     "start_time": "2024-02-29T21:46:09.648166Z"
    }
   },
   "outputs": [],
   "source": [
    "NEO4J_URI=\"neo4j://localhost:7687\"\n",
    "NEO4J_USERNAME=\"neo4j\"\n",
    "NEO4J_PASSWORD=\"test\""
   ]
  },
  {
   "cell_type": "code",
   "execution_count": null,
   "metadata": {
    "ExecuteTime": {
     "end_time": "2024-02-29T21:46:10.939324Z",
     "start_time": "2024-02-29T21:46:10.934651Z"
    }
   },
   "outputs": [],
   "source": [
    "driver = GraphDatabase.driver(NEO4J_URI, auth=(NEO4J_USERNAME, NEO4J_PASSWORD), )"
   ]
  },
  {
   "cell_type": "markdown",
   "metadata": {},
   "source": [
    "# Functions to run queries in Neo4J"
   ]
  },
  {
   "cell_type": "code",
   "execution_count": null,
   "metadata": {},
   "outputs": [],
   "source": [
    "def execute_write(driver, query):\n",
    "    with driver.session(database=\"neo4j\") as session:\n",
    "        # Write transactions allow the driver to handle retries and transient errors\n",
    "        result = session.execute_write(lambda tx, query: list(tx.run(query)), query)\n",
    "    return result"
   ]
  },
  {
   "cell_type": "code",
   "execution_count": null,
   "metadata": {
    "ExecuteTime": {
     "end_time": "2024-02-29T21:46:14.291655Z",
     "start_time": "2024-02-29T21:46:14.286865Z"
    }
   },
   "outputs": [],
   "source": [
    "def execute_read(driver, query):    \n",
    "    with driver.session(database=\"neo4j\") as session:\n",
    "        result = session.execute_read(lambda tx, query: list(tx.run(query)), query)\n",
    "    return result"
   ]
  },
  {
   "cell_type": "markdown",
   "metadata": {},
   "source": [
    "# 1. Explore the database"
   ]
  },
  {
   "cell_type": "markdown",
   "metadata": {},
   "source": [
    "## 1.1 Explore schema:"
   ]
  },
  {
   "cell_type": "code",
   "execution_count": null,
   "metadata": {},
   "outputs": [],
   "source": [
    "# Get \"visualization\" schema. This generates the visualization schema and is better ran using the browser, but we put the query here for completion.\n",
    "\n",
    "query = \"\"\"\n",
    "    call db.schema.visualization;\n",
    "    \"\"\"\n",
    "\n",
    "result = execute_read(driver, query)\n",
    "\n",
    "pprint(result)"
   ]
  },
  {
   "cell_type": "code",
   "execution_count": null,
   "metadata": {},
   "outputs": [],
   "source": [
    "## Below is code for plotting the database statically in the notebook. Needs fix to include relationships and not only nodes. Will look at it later.\n",
    "# This consumes quite a lot of memory so it is commented out for now"
   ]
  },
  {
   "cell_type": "code",
   "execution_count": null,
   "metadata": {},
   "outputs": [],
   "source": [
    "# graph = Graph(\"bolt://localhost:7687\", auth=(\"neo4j\", \"test\"))"
   ]
  },
  {
   "cell_type": "code",
   "execution_count": null,
   "metadata": {},
   "outputs": [],
   "source": [
    "# # Fetch schema visualization data\n",
    "# query = \"CALL db.schema.visualization()\"\n",
    "# results = graph.run(query).data()\n",
    "\n",
    "# # Extract graph schema\n",
    "# G = nx.Graph()\n",
    "\n",
    "# # Add nodes (labels)\n",
    "# for node in results[0]['nodes']:\n",
    "#     label = node.get('name')  # Ensure we get the node label\n",
    "#     if label:\n",
    "#         G.add_node(label)\n",
    "\n",
    "# # Add relationships\n",
    "# for rel in results[0]['relationships']:\n",
    "#     start = rel.get('startNode')\n",
    "#     end = rel.get('endNode')\n",
    "#     rel_type = rel.get('type', 'rel')  # Default relationship type\n",
    "\n",
    "#     if start and end:  # Avoid None values\n",
    "#         G.add_edge(start, end, label=rel_type)\n",
    "\n",
    "# # Draw the graph\n",
    "# plt.figure(figsize=(8, 6))\n",
    "# pos = nx.spring_layout(G)  # Layout for visualization\n",
    "# nx.draw(G, pos, with_labels=True, node_color='lightblue', edge_color='gray', node_size=2000, font_size=10)\n",
    "\n",
    "# plt.title(\"Neo4j Schema Visualization\")\n",
    "# plt.show()"
   ]
  },
  {
   "cell_type": "code",
   "execution_count": null,
   "metadata": {},
   "outputs": [],
   "source": [
    "# Get number of observations \n",
    "\n",
    "query = \"\"\"\n",
    "        MATCH () RETURN count(*)\n",
    "    \"\"\"\n",
    "\n",
    "result = execute_read(driver, query)\n",
    "\n",
    "print(f\"We have {result[0][0]} observations in the database.\")"
   ]
  },
  {
   "cell_type": "code",
   "execution_count": null,
   "metadata": {},
   "outputs": [],
   "source": [
    "# Check indexes\n",
    "\n",
    "query = \"\"\"\n",
    "        call db.indexes;\n",
    "    \"\"\"\n",
    "\n",
    "result = execute_read(driver, query)\n",
    "\n",
    "pprint(result)"
   ]
  },
  {
   "cell_type": "markdown",
   "metadata": {},
   "source": [
    "Indexes:\n",
    "- Style, user, countries and cities id is the property name.\n",
    "- Reviews, Brewries, Beers id id the property id.\n",
    "- We have to make sure these properties have unique values."
   ]
  },
  {
   "cell_type": "code",
   "execution_count": null,
   "metadata": {},
   "outputs": [],
   "source": [
    "# Check constraints\n",
    "\n",
    "query = \"\"\"\n",
    "        call db.constraints;\n",
    "    \"\"\"\n",
    "\n",
    "result = execute_read(driver, query)\n",
    "\n",
    "pprint(result)"
   ]
  },
  {
   "cell_type": "code",
   "execution_count": null,
   "metadata": {},
   "outputs": [],
   "source": [
    "# Check all labels\n",
    "\n",
    "query = \"\"\"\n",
    "        call db.labels;\n",
    "    \"\"\"\n",
    "\n",
    "result = execute_read(driver, query)\n",
    "\n",
    "pprint(result)"
   ]
  },
  {
   "cell_type": "code",
   "execution_count": null,
   "metadata": {},
   "outputs": [],
   "source": [
    "# Retrieve all nodes in the database\n",
    "# group them by label and count how many nodes exist for each label\n",
    "\n",
    "query = \"\"\"\n",
    "        MATCH (n)\n",
    "        RETURN labels(n) AS node_label, count(n) AS node_count\n",
    "        ORDER BY node_count DESC\n",
    "    \"\"\"\n",
    "\n",
    "result = execute_read(driver, query)\n",
    "\n",
    "pprint(result)"
   ]
  },
  {
   "cell_type": "code",
   "execution_count": null,
   "metadata": {},
   "outputs": [],
   "source": [
    "# Check all types of relationships\n",
    "\n",
    "query = \"\"\"\n",
    "        call db.relationshipTypes();\n",
    "    \"\"\"\n",
    "\n",
    "result = execute_read(driver, query)\n",
    "\n",
    "pprint(result)"
   ]
  },
  {
   "cell_type": "code",
   "execution_count": null,
   "metadata": {},
   "outputs": [],
   "source": [
    "# Check all properties of the BEERS node\n",
    "query = \"\"\"\n",
    "MATCH (n:BEERS) \n",
    "RETURN n, keys(n) AS propertyKeys\n",
    "LIMIT 1\n",
    "\"\"\"\n",
    "\n",
    "result = execute_read(driver, query)\n",
    "pprint(result[0][\"propertyKeys\"])"
   ]
  },
  {
   "cell_type": "code",
   "execution_count": null,
   "metadata": {},
   "outputs": [],
   "source": [
    "# Check all properties of the BREWERIES node\n",
    "query = \"\"\"\n",
    "MATCH (n:BREWERIES) \n",
    "RETURN n, keys(n) AS propertyKeys\n",
    "LIMIT 1\n",
    "\"\"\"\n",
    "\n",
    "result = execute_read(driver, query)\n",
    "pprint(result[0][\"propertyKeys\"])"
   ]
  },
  {
   "cell_type": "code",
   "execution_count": null,
   "metadata": {},
   "outputs": [],
   "source": [
    "# Check all properties of the USER node\n",
    "query = \"\"\"\n",
    "MATCH (n:USER) \n",
    "RETURN n, keys(n) AS propertyKeys\n",
    "LIMIT 1\n",
    "\"\"\"\n",
    "\n",
    "result = execute_read(driver, query)\n",
    "pprint(result[0][\"propertyKeys\"])"
   ]
  },
  {
   "cell_type": "code",
   "execution_count": null,
   "metadata": {},
   "outputs": [],
   "source": [
    "# Check all properties of the REVIEWS node\n",
    "query = \"\"\"\n",
    "MATCH (n:REVIEWS) \n",
    "RETURN n, keys(n) AS propertyKeys\n",
    "LIMIT 1\n",
    "\"\"\"\n",
    "\n",
    "result = execute_read(driver, query)\n",
    "pprint(result[0][\"propertyKeys\"])"
   ]
  },
  {
   "cell_type": "code",
   "execution_count": null,
   "metadata": {},
   "outputs": [],
   "source": [
    "# Check all properties of the CITIES node\n",
    "query = \"\"\"\n",
    "MATCH (n:CITIES) \n",
    "RETURN n, keys(n) AS propertyKeys\n",
    "LIMIT 1\n",
    "\"\"\"\n",
    "\n",
    "result = execute_read(driver, query)\n",
    "pprint(result[0][\"propertyKeys\"])"
   ]
  },
  {
   "cell_type": "code",
   "execution_count": null,
   "metadata": {},
   "outputs": [],
   "source": [
    "# Check all properties of the COUNTRIES node\n",
    "query = \"\"\"\n",
    "MATCH (n:COUNTRIES) \n",
    "RETURN n, keys(n) AS propertyKeys\n",
    "LIMIT 1\n",
    "\"\"\"\n",
    "\n",
    "result = execute_read(driver, query)\n",
    "pprint(result[0][\"propertyKeys\"])"
   ]
  },
  {
   "cell_type": "code",
   "execution_count": null,
   "metadata": {},
   "outputs": [],
   "source": [
    "# Check all properties of the STYLE node\n",
    "query = \"\"\"\n",
    "MATCH (n:STYLE) \n",
    "RETURN n, keys(n) AS propertyKeys\n",
    "LIMIT 1\n",
    "\"\"\"\n",
    "\n",
    "result = execute_read(driver, query)\n",
    "pprint(result[0][\"propertyKeys\"])"
   ]
  },
  {
   "cell_type": "code",
   "execution_count": null,
   "metadata": {},
   "outputs": [],
   "source": [
    "# Retrieve all unique relationship patterns in the database \n",
    "# Return the labels of the starting node, the type of relationship, and the labels of the ending node\n",
    "# Not specifying direction\n",
    "\n",
    "query = \"\"\"\n",
    "        MATCH (a)-[r]-(b)\n",
    "        RETURN DISTINCT \n",
    "        labels(a) AS start_node_labels, \n",
    "        type(r) AS relationship_type, \n",
    "        labels(b) AS end_node_labels\n",
    "    \"\"\"\n",
    "\n",
    "result = execute_read(driver, query)\n",
    "\n",
    "pprint(result)\n"
   ]
  },
  {
   "cell_type": "markdown",
   "metadata": {},
   "source": [
    "- All relationships are bidirectional. \n",
    "- It may make more sense for relationships to be unidirectional, because for example:\n",
    "    - A brewery brews beer, but a beer does not brew breweries. \n",
    "- Analyze if we should change relationships to be unidirectional.\n",
    "- Suggestions: \n",
    "    - (USERS)-[POSTED]->(REVIEWS)\n",
    "    - (CITIES)-[IN]->(COUNTRIES)\n",
    "    - (BREWERIES)-[IN]->(CITIES)\n",
    "    - (BREWERIES)-[BREWS]->(BEER)\n",
    "    - (BEERS)->[HAS_STYLE]->(STYLE)\n",
    "    - (REVIEWS)->[REVIEWED]->(BEERS)\n",
    "    - (BEERS)->[HAS_STYLE]->(STYLE)\n"
   ]
  },
  {
   "cell_type": "markdown",
   "metadata": {},
   "source": [
    "**André** - A query abaixo está a retornar duplicados acho eu. acima fiz individualmente para cada node,  as properties de cada um"
   ]
  },
  {
   "cell_type": "code",
   "execution_count": null,
   "metadata": {},
   "outputs": [],
   "source": [
    "# # Check properties for each node \n",
    "\n",
    "# query = \"\"\"\n",
    "#         MATCH (n)\n",
    "#         RETURN DISTINCT labels(n) AS node_label, keys(n) AS node_properties\n",
    "#     \"\"\"\n",
    "\n",
    "# result = execute_read(driver, query)\n",
    "\n",
    "# pprint(result)"
   ]
  },
  {
   "cell_type": "code",
   "execution_count": null,
   "metadata": {},
   "outputs": [],
   "source": [
    "# Check properties for each relationship\n",
    "\n",
    "query = \"\"\"\n",
    "        MATCH ()-[r]->()\n",
    "        RETURN DISTINCT type(r) AS relationship_type, keys(r) AS relationship_properties\n",
    "    \"\"\"\n",
    "\n",
    "result = execute_read(driver, query)\n",
    "\n",
    "pprint(result)"
   ]
  },
  {
   "cell_type": "code",
   "execution_count": null,
   "metadata": {},
   "outputs": [],
   "source": [
    "# Check for isolated nodes\n",
    "\n",
    "query = \"\"\"\n",
    "        MATCH (n)\n",
    "        WHERE NOT EXISTS ((n)--())\n",
    "        RETURN n\n",
    "    \"\"\"\n",
    "\n",
    "result = execute_read(driver, query)\n",
    "\n",
    "pprint(result)"
   ]
  },
  {
   "cell_type": "markdown",
   "metadata": {},
   "source": [
    "- There are several nodes with the label REVIEWS that don't have any relationship (isolated nodes)."
   ]
  },
  {
   "cell_type": "code",
   "execution_count": null,
   "metadata": {},
   "outputs": [],
   "source": [
    "# Check if there are any nodes w/ label REVIEWS that don't have any property\n",
    "query = \"\"\"\n",
    "    MATCH (re:REVIEWS)\n",
    "WHERE size(keys(re)) = 0\n",
    "RETURN re\n",
    "\"\"\"\n",
    "result = execute_read(driver, query)\n",
    "\n",
    "pprint(result)"
   ]
  },
  {
   "cell_type": "markdown",
   "metadata": {},
   "source": [
    "- There are several reviews that have no properties."
   ]
  },
  {
   "cell_type": "markdown",
   "metadata": {},
   "source": [
    "## 1.2 Check for inconsistencies: "
   ]
  },
  {
   "cell_type": "code",
   "execution_count": null,
   "metadata": {},
   "outputs": [],
   "source": [
    "# Check for duplicated nodes w/ label COUNTRIES and same name\n",
    "\n",
    "query = \"\"\"\n",
    "    MATCH (co:COUNTRIES)\n",
    "    WITH co.name AS countryName, count(co) AS countryCount\n",
    "    WHERE countryCount > 1\n",
    "    RETURN countryName, countryCount\n",
    "\"\"\"\n",
    "\n",
    "result = execute_read(driver, query)\n",
    "\n",
    "pprint(result)"
   ]
  },
  {
   "cell_type": "code",
   "execution_count": null,
   "metadata": {},
   "outputs": [],
   "source": [
    "# Check for duplicated nodes w/ label CITIES and same name\n",
    "\n",
    "query = \"\"\"\n",
    "    MATCH (ci:CITIES)\n",
    "    WITH ci.name AS cityName, count(ci) AS cityCount\n",
    "    WHERE cityCount > 1\n",
    "    RETURN cityName, cityCount\n",
    "\"\"\"\n",
    "\n",
    "result = execute_read(driver, query)\n",
    "\n",
    "pprint(result)"
   ]
  },
  {
   "cell_type": "markdown",
   "metadata": {},
   "source": [
    "- Since that the only property for COUNTRIES, CITIES, STYLE and USER is name, having more than one node with the same name represents a duplicated node.\n",
    "- There are several duplicated nodes for both COUNTRIES and CITIES labels."
   ]
  },
  {
   "cell_type": "code",
   "execution_count": null,
   "metadata": {},
   "outputs": [],
   "source": [
    "# Check for duplicated nodes w/ label STYLE and same name\n",
    "\n",
    "query = \"\"\"\n",
    "    MATCH (st:STYLE)\n",
    "    WITH st.name AS styleName,\n",
    "    count(st) AS styleCount\n",
    "    WHERE styleCount > 1\n",
    "    RETURN styleName, styleCount\n",
    "\"\"\"\n",
    "\n",
    "result = execute_read(driver, query)\n",
    "\n",
    "pprint(result)"
   ]
  },
  {
   "cell_type": "code",
   "execution_count": null,
   "metadata": {},
   "outputs": [],
   "source": [
    "# Check for duplicated nodes w/ label USER and same name\n",
    "\n",
    "query = \"\"\"\n",
    "    MATCH (us:USER)\n",
    "    WITH us.name AS userName,\n",
    "    count(us) AS userCount\n",
    "    WHERE userCount > 1\n",
    "    RETURN userName, userCount\n",
    "\"\"\"\n",
    "\n",
    "result = execute_read(driver, query)\n",
    "\n",
    "pprint(result)"
   ]
  },
  {
   "cell_type": "code",
   "execution_count": null,
   "metadata": {},
   "outputs": [],
   "source": [
    "# Check for duplicated nodes w/ label BREWERY \n",
    "\n",
    "query = \"\"\"\n",
    "    MATCH (br:BREWERY)\n",
    "    WITH br.id AS breweryId, \n",
    "        br.state AS breweryState,\n",
    "        br.notes AS breweryNotes,\n",
    "        br.types AS breweryTypes,\n",
    "        br.name AS breweryName,\n",
    "    count(br) AS breweryCount\n",
    "    WHERE breweryCount > 1\n",
    "    RETURN breweryId, breweryName, breweryCount\n",
    "\"\"\"\n",
    "\n",
    "result = execute_read(driver, query)\n",
    "\n",
    "pprint(result)"
   ]
  },
  {
   "cell_type": "code",
   "execution_count": null,
   "metadata": {},
   "outputs": [],
   "source": [
    "# Check for duplicated nodes w/ label BREWERY and same id\n",
    "\n",
    "query = \"\"\"\n",
    "    MATCH (br:BREWERY)\n",
    "    WITH br.id AS breweryId, \n",
    "    count(br) AS breweryCount\n",
    "    WHERE breweryCount > 1\n",
    "    RETURN breweryId, breweryCount\n",
    "\"\"\"\n",
    "\n",
    "result = execute_read(driver, query)\n",
    "\n",
    "pprint(result)"
   ]
  },
  {
   "cell_type": "code",
   "execution_count": null,
   "metadata": {},
   "outputs": [],
   "source": [
    "# Check for duplicated nodes w/ label BREWERY and same name\n",
    "\n",
    "query = \"\"\"\n",
    "    MATCH (br:BREWERY)\n",
    "    WITH br.name AS breweryName,\n",
    "    count(br) AS breweryCount\n",
    "    WHERE breweryCount > 1\n",
    "    RETURN breweryName, breweryCount\n",
    "\"\"\"\n",
    "\n",
    "result = execute_read(driver, query)\n",
    "\n",
    "pprint(result)"
   ]
  },
  {
   "cell_type": "code",
   "execution_count": null,
   "metadata": {},
   "outputs": [],
   "source": [
    "# Check for duplicated nodes w/ label BEERS \n",
    "\n",
    "query = \"\"\"\n",
    "    MATCH (be:BEERS)\n",
    "    WITH be.id AS beerId, \n",
    "        be.retired AS beerRetired, \n",
    "        be.availability AS beerAvailability, \n",
    "        be.brewery_id AS beerBreId, \n",
    "        be.state AS beerState, \n",
    "        be.name AS beerName, \n",
    "        be.abv AS beerAbv, \n",
    "        be.notes AS beerNotes, \n",
    "    count(be) AS beerCount\n",
    "    WHERE beerCount > 1\n",
    "    RETURN beerId, beerName, beerCount\n",
    "\"\"\"\n",
    "\n",
    "result = execute_read(driver, query)\n",
    "\n",
    "pprint(result)"
   ]
  },
  {
   "cell_type": "markdown",
   "metadata": {},
   "source": [
    "- There are several nodes with the label BEERS duplicated for all properties."
   ]
  },
  {
   "cell_type": "code",
   "execution_count": null,
   "metadata": {},
   "outputs": [],
   "source": [
    "# Check for duplicated nodes w/ label REVIEWS \n",
    "\n",
    "query = \"\"\"\n",
    "    MATCH (re:REVIEWS)\n",
    "    WITH re.text AS reviewTest,\n",
    "        re.beer_id AS reviewBeerId,\n",
    "        re.smell AS reviewSmell,\n",
    "        re.look AS reviewLook,\n",
    "        re.score AS reviewScore,\n",
    "        re.taste AS reviewTaste,\n",
    "        re.feel AS reviewFeel,\n",
    "        re.overall AS reviewOverall,\n",
    "        re.id AS reviewId,\n",
    "        re.date AS reviewDate,\n",
    "    count(re) AS reviewCount\n",
    "    WHERE reviewCount > 1\n",
    "    RETURN reviewId, reviewCount\n",
    "\"\"\"\n",
    "\n",
    "result = execute_read(driver, query)\n",
    "\n",
    "pprint(result)"
   ]
  },
  {
   "cell_type": "markdown",
   "metadata": {},
   "source": [
    "- There are several nodes with the label REVIEWS duplicated for all properties."
   ]
  },
  {
   "cell_type": "markdown",
   "metadata": {},
   "source": [
    "Considerations:\n",
    "- One city should only be associated w/ one country.\n",
    "- One brewery should only be associated w/ one city.\n",
    "- One review should only be associated w/ one user.\n",
    "- One review should only be associated w/ one beer.\n",
    "- One beer should only be associated w/ one style? -- **Andre: Uma beer nao pode ter mais de um estilo?**\n",
    "- One beer should only be associated w/ one brewery? -- **Andre: Nao necessariamente? uma beer pode ser feita em diferentes breweries talvez?** "
   ]
  },
  {
   "cell_type": "code",
   "execution_count": null,
   "metadata": {},
   "outputs": [],
   "source": [
    "# Check if there is any brewery associated with more than one city\n",
    "# Retrieve all brewery to city relationships\n",
    "# In these relationships, count nº of cities for each brewery \n",
    "\n",
    "query = \"\"\"\n",
    "    MATCH (br:BREWERIES)-[:IN]->(ci:CITIES)\n",
    "    WITH br, count(ci) AS city_count\n",
    "    WHERE city_count > 1\n",
    "    RETURN br.name, city_count\n",
    "\"\"\"\n",
    "\n",
    "result = execute_read(driver, query)\n",
    "\n",
    "pprint(result)"
   ]
  },
  {
   "cell_type": "code",
   "execution_count": null,
   "metadata": {},
   "outputs": [],
   "source": [
    "# Check if there is any city associated with more than one country\n",
    "# Retrieve all city to country relationships\n",
    "# In these relationships, count nº of countries for each city \n",
    "\n",
    "query = \"\"\"\n",
    "    MATCH (ci:CITY)-[:IN]->(co:COUNTRIES)\n",
    "    WITH ci, count(co) AS country_count\n",
    "    WHERE country_count > 1\n",
    "    RETURN ci.name, country_count\n",
    "\"\"\"\n",
    "\n",
    "result = execute_read(driver, query)\n",
    "\n",
    "pprint(result)"
   ]
  },
  {
   "cell_type": "code",
   "execution_count": null,
   "metadata": {},
   "outputs": [],
   "source": [
    "query = \"\"\"\n",
    "    MATCH (us:USER)-[:POSTED]->(re:REVIEW)\n",
    "    WITH re, count(us) AS user_count\n",
    "    WHERE user_count > 1\n",
    "    RETURN re.id, user_count\n",
    "\"\"\"\n",
    "\n",
    "result = execute_read(driver, query)\n",
    "\n",
    "pprint(result)"
   ]
  },
  {
   "cell_type": "code",
   "execution_count": null,
   "metadata": {},
   "outputs": [],
   "source": [
    "query = \"\"\"\n",
    "    MATCH (re:REVIEW)-[:REVIEWD]->(be:BEERS)\n",
    "    WITH re, count(be) AS beer_count\n",
    "    WHERE beer_count > 1\n",
    "    RETURN re.id, beer_count\n",
    "\"\"\"\n",
    "\n",
    "result = execute_read(driver, query)\n",
    "\n",
    "pprint(result)"
   ]
  },
  {
   "cell_type": "code",
   "execution_count": null,
   "metadata": {},
   "outputs": [],
   "source": [
    "query = \"\"\"\n",
    "    MATCH (re:BEERS)-[:HAS_STYLE]->(st:STYLES)\n",
    "    WITH re, count(st) AS style_count\n",
    "    WHERE style_count > 1\n",
    "    RETURN re.name, style_count\n",
    "\"\"\"\n",
    "\n",
    "result = execute_read(driver, query)\n",
    "\n",
    "pprint(result)"
   ]
  },
  {
   "cell_type": "code",
   "execution_count": null,
   "metadata": {},
   "outputs": [],
   "source": [
    "query = \"\"\"\n",
    "    MATCH (be:BEERS)-[:BREWED]->(br:BREWERIES)\n",
    "    WITH be, COUNT(br) AS brewery_count\n",
    "    WHERE brewery_count > 1\n",
    "    RETURN be.name, brewery_count\n",
    "\"\"\"\n",
    "\n",
    "result = execute_read(driver, query)\n",
    "\n",
    "pprint(result)"
   ]
  },
  {
   "cell_type": "markdown",
   "metadata": {},
   "source": [
    "Considerations:\n",
    "- All breweries should be associated with a city.\n",
    "- All cities should be associated with a country.\n",
    "- All reviews should be associated to a user.\n",
    "- All reviews shoul be associated with a beer. \n",
    "- All beers should be associated with a brewery. \n",
    "\n"
   ]
  },
  {
   "cell_type": "code",
   "execution_count": null,
   "metadata": {},
   "outputs": [],
   "source": [
    "# Check if there is any is any node w/ BREWERIES label\n",
    "# that does not have the specified relationship to a node w/ label CITIES\n",
    "\n",
    "query = \"\"\"\n",
    "    MATCH (br:BREWERIES)\n",
    "    WHERE NOT EXISTS ((br)-[:IN]->(:CITIES))\n",
    "    RETURN br\n",
    "\"\"\"\n",
    "result = execute_read(driver, query)\n",
    "\n",
    "pprint(result)"
   ]
  },
  {
   "cell_type": "code",
   "execution_count": null,
   "metadata": {},
   "outputs": [],
   "source": [
    "query = \"\"\"\n",
    "    MATCH (ci:CITIES)\n",
    "    WHERE NOT EXISTS ((ci)-[:IN]->(:COUNTRIES))\n",
    "    RETURN ci\n",
    "\"\"\"\n",
    "result = execute_read(driver, query)\n",
    "\n",
    "pprint(result)"
   ]
  },
  {
   "cell_type": "code",
   "execution_count": null,
   "metadata": {},
   "outputs": [],
   "source": [
    "query = \"\"\"\n",
    "    MATCH (re:REVIEWS)\n",
    "    WHERE NOT EXISTS ((re)-[:POSTED]->(:USER))\n",
    "    RETURN re\n",
    "\"\"\"\n",
    "result = execute_read(driver, query)\n",
    "\n",
    "pprint(result)"
   ]
  },
  {
   "cell_type": "code",
   "execution_count": null,
   "metadata": {},
   "outputs": [],
   "source": [
    "query = \"\"\"\n",
    "    MATCH (re:REVIEWS)\n",
    "    WHERE NOT EXISTS ((re)-[:REVIEWED]->(:BEERS))\n",
    "    RETURN re\n",
    "\"\"\"\n",
    "result = execute_read(driver, query)\n",
    "\n",
    "pprint(result)"
   ]
  },
  {
   "cell_type": "code",
   "execution_count": null,
   "metadata": {},
   "outputs": [],
   "source": [
    "query = \"\"\"\n",
    "    MATCH (br:BREWERY)\n",
    "    WHERE NOT EXISTS ((br)-[:BREWES]->(:BEERS))\n",
    "    RETURN br\n",
    "\"\"\"\n",
    "result = execute_read(driver, query)\n",
    "\n",
    "pprint(result)"
   ]
  },
  {
   "cell_type": "markdown",
   "metadata": {},
   "source": [
    "- There are breweries not associated w/ any city.\n",
    "- There are cities not associated w/ any country.\n",
    "- There are reviews not associated w/ any user or beer.\n",
    "- There are beers not associated w/ any brewery."
   ]
  },
  {
   "cell_type": "markdown",
   "metadata": {},
   "source": [
    "## 1.3 EXERCISE SUMMARY\n",
    "- Indexes: Style, user, countries and cities id is the property name.Reviews, Breweries, Beers id id the property id.\n",
    "- Labels: COUNTRIES, CITIES, BREWERIES, BEERS, REVIEWS, STYLE and USER.\n",
    "\n",
    "- Relationships:\n",
    "    - Relationship names: REVIEWED, BREWED, IN, HAS_STYLE and POSTED.\n",
    "    - Relationships are all bidirectional, in all cases cases it seems more appropriate to have unidirectional rel.\n",
    "    - Relationships have no properties. \n",
    "    - There are several nodes with the label REVIEWS that don't have any relationship (isolated nodes).\n",
    "\n",
    "- Properties:\n",
    "    - COUNTRIES, CITIES, USER and STYLE only property: ‘name’.\n",
    "    - REVIEWS properties: 'text', 'smell', 'look', 'taste', 'feel', 'overall', 'beer_id', 'id', 'date', 'score'\n",
    "    - There are several node w/ label REVIEWS that have no properties.\n",
    "    - BREWERIES properties: 'notes', 'types', 'id', 'name', 'state'\n",
    "    - BEERS properties: notes', 'abv', 'name', 'state', 'id', 'retired', 'availability', 'brewery_id'\n",
    "\n",
    "- Inconsistencies found:\n",
    "    - Duplicated nodes: There are several nodes with the label BEERS, COUNTRIES, CITIES and REVIEWS duplicated for all properties.\n",
    "    - There are breweries not associated w/ any city.\n",
    "    - There are cities not associated w/ any country.\n",
    "    - There are reviews not associated w/ any user or beer.\n",
    "    - There are beers not associated w/ any brewery."
   ]
  },
  {
   "cell_type": "code",
   "execution_count": null,
   "metadata": {},
   "outputs": [],
   "source": []
  },
  {
   "cell_type": "markdown",
   "metadata": {},
   "source": [
    "# 2. Adjust the database and mention reasoning behind: e.g. clean errors, remove redundancies, adjust schema as necessary. Visualize the final version of database schema."
   ]
  },
  {
   "cell_type": "code",
   "execution_count": null,
   "metadata": {},
   "outputs": [],
   "source": [
    "# The first query below is not efficient. Try the second one. I still haven't tried it -- Andre"
   ]
  },
  {
   "cell_type": "code",
   "execution_count": null,
   "metadata": {},
   "outputs": [],
   "source": [
    "# ## Changing from bidirectional relationships to unidirectional where it makes sense\n",
    "\n",
    "# query = \"\"\"\n",
    "# MATCH (a)-[r]->(b)\n",
    "# WHERE (type(r) = \"IN\" AND labels(a) = [\"CITIES\"] AND labels(b) = [\"COUNTRIES\"])\n",
    "#    OR (type(r) = \"IN\" AND labels(a) = [\"BREWERIES\"] AND labels(b) = [\"CITIES\"])\n",
    "#    OR (type(r) = \"BREWS\" AND labels(a) = [\"BREWERIES\"] AND labels(b) = [\"BEERS\"])\n",
    "#    OR (type(r) = \"HAS_STYLE\" AND labels(a) = [\"BEERS\"] AND labels(b) = [\"STYLE\"])\n",
    "#    OR (type(r) = \"REVIEWED\" AND labels(a) = [\"REVIEWS\"] AND labels(b) = [\"BEERS\"])\n",
    "#    OR (type(r) = \"POSTED\" AND labels(a) = [\"USER\"] AND labels(b) = [\"REVIEWS\"])\n",
    "# DELETE r\n",
    "# \"\"\"\n",
    "\n",
    "# result = execute_write(driver, query)\n",
    "# pprint(result)"
   ]
  },
  {
   "cell_type": "code",
   "execution_count": null,
   "metadata": {},
   "outputs": [],
   "source": [
    "## Changing from bidirectional relationships to unidirectional where it makes sense\n",
    "## using batch processing for faster computation\n",
    "\n",
    "query = \"\"\"\n",
    "CALL apoc.periodic.iterate(\n",
    "  \"MATCH (a)-[r1]->(b) MATCH (b)-[r2]->(a)\n",
    "   WHERE type(r1) = type(r2) \n",
    "   AND (\n",
    "       (type(r1) = 'IN' AND labels(a) = ['CITIES'] AND labels(b) = ['COUNTRIES']) OR\n",
    "       (type(r1) = 'IN' AND labels(a) = ['BREWERIES'] AND labels(b) = ['CITIES']) OR\n",
    "       (type(r1) = 'BREWS' AND labels(a) = ['BREWERIES'] AND labels(b) = ['BEERS']) OR\n",
    "       (type(r1) = 'HAS_STYLE' AND labels(a) = ['BEERS'] AND labels(b) = ['STYLE']) OR\n",
    "       (type(r1) = 'REVIEWED' AND labels(a) = ['REVIEWS'] AND labels(b) = ['BEERS']) OR\n",
    "       (type(r1) = 'POSTED' AND labels(a) = ['USER'] AND labels(b) = ['REVIEWS'])\n",
    "   )\n",
    "   AND id(r1) > id(r2)\n",
    "   RETURN r2\",\n",
    "  \"DELETE r2\",\n",
    "  {batchSize:1000}\n",
    ");\n",
    "\"\"\"\n",
    "\n",
    "result = execute_write(driver, query)\n",
    "pprint(result)"
   ]
  },
  {
   "cell_type": "code",
   "execution_count": null,
   "metadata": {},
   "outputs": [],
   "source": [
    "# Checking how it looks after the changes\n",
    "\n",
    "query = \"\"\"\n",
    "        MATCH (a)-[r]-(b)\n",
    "        RETURN DISTINCT \n",
    "        labels(a) AS start_node_labels, \n",
    "        type(r) AS relationship_type, \n",
    "        labels(b) AS end_node_labels\n",
    "    \"\"\"\n",
    "\n",
    "result = execute_read(driver, query)\n",
    "\n",
    "pprint(result)"
   ]
  },
  {
   "cell_type": "markdown",
   "metadata": {},
   "source": [
    "### 3.1 How many reviews has the beer with the most reviews?"
   ]
  },
  {
   "cell_type": "code",
   "execution_count": null,
   "metadata": {},
   "outputs": [],
   "source": [
    "query = \"\"\"\n",
    "        MATCH (b:BEERS)-[r]->(:REVIEWS)\n",
    "        WITH b, count(r) AS review_count\n",
    "        ORDER BY review_count DESC\n",
    "        LIMIT 1\n",
    "        RETURN b.name, review_count\n",
    "\n",
    "\n",
    "    \"\"\"\n",
    "\n",
    "result = execute_read(driver, query)\n",
    "pprint(result)\n"
   ]
  },
  {
   "cell_type": "markdown",
   "metadata": {},
   "source": [
    "OR"
   ]
  },
  {
   "cell_type": "code",
   "execution_count": null,
   "metadata": {},
   "outputs": [],
   "source": [
    "query = \"\"\"\n",
    "        MATCH (b:BEERS)-[r]->(:REVIEWS)\n",
    "        WITH b.name AS beer_name, count(r) AS review_count\n",
    "        ORDER BY review_count DESC\n",
    "        LIMIT 1 \n",
    "        RETURN beer_name, review_count\n",
    "\n",
    "    \"\"\"\n",
    "\n",
    "result = execute_read(driver, query)\n",
    "pprint(result)"
   ]
  },
  {
   "cell_type": "markdown",
   "metadata": {},
   "source": [
    "### 3.2 Which three users wrote the most reviews about beers?"
   ]
  },
  {
   "cell_type": "code",
   "execution_count": null,
   "metadata": {},
   "outputs": [],
   "source": [
    "query = \"\"\"\n",
    "        MATCH (r:REVIEWS)-[p:POSTED]->(u:USER)\n",
    "        WITH u, count(r) AS review_count\n",
    "        ORDER BY review_count DESC\n",
    "        LIMIT 3\n",
    "        RETURN u.name\n",
    "    \"\"\"\n",
    "\n",
    "result = execute_read(driver, query)\n",
    "pprint(result)"
   ]
  },
  {
   "cell_type": "markdown",
   "metadata": {},
   "source": [
    "### *REVIEW* 3.3 Find all beers that are described with following words: 'fruit', 'complex', 'nutty', 'dark'. *REVIEW*"
   ]
  },
  {
   "cell_type": "code",
   "execution_count": null,
   "metadata": {},
   "outputs": [],
   "source": [
    "words = ['fruit', 'complex', 'nutty', 'dark']\n",
    "\n",
    "query = f\"\"\"\n",
    "        WITH {words} AS words\n",
    "\n",
    "        MATCH (u:BEERS)-[r:REVIEWED]->(rs:REVIEWS)\n",
    "        \n",
    "\n",
    "        WHERE any(word IN words WHERE rs.text CONTAINS word)\n",
    "\n",
    "        RETURN DISTINCT u.name\n",
    "    \"\"\"\n",
    "\n",
    "result = execute_read(driver, query)\n",
    "\n",
    "pprint(result)"
   ]
  },
  {
   "cell_type": "markdown",
   "metadata": {},
   "source": [
    "### 3.5 Which top three breweries produce the largest variety of beer styles?"
   ]
  },
  {
   "cell_type": "code",
   "execution_count": null,
   "metadata": {},
   "outputs": [],
   "source": [
    "query = \"\"\"\n",
    "        MATCH (br:BREWERIES)-[:BREWED]->(b:BEERS)-[h:HAS_STYLE]->(s:STYLE)\n",
    "        RETURN br.name, count(s)\n",
    "        ORDER BY count(s) DESC\n",
    "        LIMIT 3 \n",
    "    \"\"\"\n",
    "\n",
    "result = execute_read(driver, query)\n",
    "pprint(result)"
   ]
  },
  {
   "cell_type": "markdown",
   "metadata": {},
   "source": [
    "### 3.5 Which country produces the most beer styles?"
   ]
  },
  {
   "cell_type": "code",
   "execution_count": null,
   "metadata": {},
   "outputs": [],
   "source": [
    "query = \"\"\"\n",
    "        MATCH (c:COUNTRIES)<-[:IN]-(ci:CITIES)<-[:IN]-(br:BREWERIES)-[:BREWED]->(b:BEERS)-[:HAS_STYLE]->(s:STYLE)\n",
    "        RETURN c.name, count(s)\n",
    "        ORDER BY count(s) DESC\n",
    "        LIMIT 1\n",
    "    \"\"\"\n",
    "\n",
    "result = execute_read(driver, query)\n",
    "pprint(result)"
   ]
  }
 ],
 "metadata": {
  "hide_input": false,
  "kernelspec": {
   "display_name": "bdmm",
   "language": "python",
   "name": "bdmm"
  },
  "language_info": {
   "codemirror_mode": {
    "name": "ipython",
    "version": 3
   },
   "file_extension": ".py",
   "mimetype": "text/x-python",
   "name": "python",
   "nbconvert_exporter": "python",
   "pygments_lexer": "ipython3",
   "version": "3.11.4"
  },
  "toc": {
   "base_numbering": 1,
   "nav_menu": {},
   "number_sections": true,
   "sideBar": true,
   "skip_h1_title": false,
   "title_cell": "Table of Contents",
   "title_sidebar": "Contents",
   "toc_cell": false,
   "toc_position": {},
   "toc_section_display": true,
   "toc_window_display": false
  },
  "varInspector": {
   "cols": {
    "lenName": 16,
    "lenType": 16,
    "lenVar": 40
   },
   "kernels_config": {
    "python": {
     "delete_cmd_postfix": "",
     "delete_cmd_prefix": "del ",
     "library": "var_list.py",
     "varRefreshCmd": "print(var_dic_list())"
    },
    "r": {
     "delete_cmd_postfix": ") ",
     "delete_cmd_prefix": "rm(",
     "library": "var_list.r",
     "varRefreshCmd": "cat(var_dic_list()) "
    }
   },
   "types_to_exclude": [
    "module",
    "function",
    "builtin_function_or_method",
    "instance",
    "_Feature"
   ],
   "window_display": false
  }
 },
 "nbformat": 4,
 "nbformat_minor": 4
}
