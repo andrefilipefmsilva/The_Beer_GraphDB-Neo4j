{
 "cells": [
  {
   "cell_type": "markdown",
   "metadata": {},
   "source": [
    "## Big Data Modeling and Management Assigment - Homework 1"
   ]
  },
  {
   "cell_type": "markdown",
   "metadata": {},
   "source": [
    "### Submission\n",
    "\n",
    "GROUP NUMBER: **1** \n",
    "\n",
    "GROUP MEMBERS:\n",
    "\n",
    "|STUDENT NAME|STUDENT NUMBER|\n",
    "|---|---|\n",
    "|Afonso Ascensão|20240684|\n",
    "|André Filipe Silva|20230972|\n",
    "|Joana Esteves|20240746|\n",
    "|Susana Reis|20240567|\n",
    "|Tomás Figueiredo|20240941|"
   ]
  },
  {
   "cell_type": "markdown",
   "metadata": {},
   "source": [
    "## 🍺 The Beer project  🍺 \n",
    "\n",
    "As it was shown in classes, graph databases are a natural way of navegating related information. For this first project we will be taking a graph database to analyse beer and breweries!   \n",
    "\n",
    "The project datasets are based on [kaggle](https://www.kaggle.com/ehallmar/beers-breweries-and-beer-reviews), released by Evan Hallmark. \n",
    "\n",
    "### Problem description\n",
    "\n",
    "Imagine you are working in the Data Management department of Analytics company.\n",
    "Explore the database via python neo4j connector and/or the graphical tool in the NEO4J webpage. Answer the questions while adjusting the database to meet the needs of your colleagues.\n",
    "Please record and keep track of your database changes, and submit the file with all cells run and with the output shown.\n",
    "\n",
    "### Questions\n",
    "\n",
    "1. Explore the database: get familiar with current schema, elements and other important database parameters. [1 point]\n",
    "2. Adjust the database and mention reasoning behind: e.g. clean errors, remove redundancies, adjust schema as necessary. Visualize the final version of database schema. [4 points]\n",
    "3. Analytics department requires the following information for the biweekly reporting: [5 points]\n",
    "    1. How many reviews has the beer with the most reviews?\n",
    "    2. Which three users wrote the most reviews about beers?\n",
    "    3. Find all beers that are described with following words: 'fruit', 'complex', 'nutty', 'dark'.\n",
    "    4. Which top three breweries produce the largest variety of beer styles?\n",
    "    5. Which country produces the most beer styles?\n",
    "4. Market Analysis department in your company accesses and updates the trends data on the daily basis. Given that, consider how you need to optimize the database and its performance so that the following queries are efficient. Measure performance to communicate your improvements using PROFILE before final query. Answer the following: [4 points]\n",
    "    1. Using ABV score, find five strongest beers, display their ABV score and the corresponding brewery? Keep in mind that the strongest known beer is Snake Venom, and deal with the error entries in the database.\n",
    "    2. Using the answer from question 2, find the top 5 distict beer styles with the highest average score of smell + feel that were reviewed by the third most productive user. Keep in mind that cleaning the database earlier should ensure correct results.\n",
    "5. Answer **two out of four** of the following questions using Graph Algorithms (gds): [NB: make sure to clear the graph before using it again] For the quarterly report, Analytics department the follownig information. [6 points]\n",
    "    1. Which two countries are most similiar when it comes to their top five most produced Beer styles?\n",
    "    2. Which beer is the most popular when considering the number of users who reviewed it? \n",
    "    3. Users are connected together by their reviews of beers, taking into consideration the \"smell\" score they assign as a weight, how many communities are formed from these relationships? How many users are in the three largest communities? \n",
    "    4. Which user is the most influential when it comes to reviews of distinct beers by style?\n",
    " \n",
    "### Groups  \n",
    "\n",
    "Groups should have 4 people maximum. Please mark which group you are here: https://shorturl.at/zE0QP \n",
    "\n",
    "### Submission      \n",
    "\n",
    "The code used to produce the results and to-the-point explations should be uploaded to moodle. They should have a clear reference to the group, either on the file name or on the document itself. Preferably one Jupyter notebook per group.\n",
    "\n",
    "Delivery date: Until the **midnight of March 18, 2025**\n",
    "\n",
    "### Evaluation   \n",
    "\n",
    "This will be 20% of the final grade.   \n",
    "Each solution will be evaluated on 2 components: correctness of results and efficiency of the query (based on database schema).  \n",
    "All code will go through plagiarism automated checks. Groups with the same code will undergo investigation."
   ]
  },
  {
   "cell_type": "code",
   "execution_count": 1,
   "metadata": {
    "ExecuteTime": {
     "end_time": "2024-02-29T21:45:57.447501Z",
     "start_time": "2024-02-29T21:45:56.625014Z"
    }
   },
   "outputs": [],
   "source": [
    "from neo4j import GraphDatabase\n",
    "from pprint import pprint\n",
    "from py2neo import Graph\n",
    "import networkx as nx\n",
    "import matplotlib.pyplot as plt\n",
    "import time"
   ]
  },
  {
   "cell_type": "code",
   "execution_count": 2,
   "metadata": {
    "ExecuteTime": {
     "end_time": "2024-02-29T21:46:09.652569Z",
     "start_time": "2024-02-29T21:46:09.648166Z"
    }
   },
   "outputs": [],
   "source": [
    "NEO4J_URI=\"neo4j://localhost:7687\"\n",
    "NEO4J_USERNAME=\"neo4j\"\n",
    "NEO4J_PASSWORD=\"test\""
   ]
  },
  {
   "cell_type": "code",
   "execution_count": 3,
   "metadata": {
    "ExecuteTime": {
     "end_time": "2024-02-29T21:46:10.939324Z",
     "start_time": "2024-02-29T21:46:10.934651Z"
    }
   },
   "outputs": [],
   "source": [
    "driver = GraphDatabase.driver(NEO4J_URI, auth=(NEO4J_USERNAME, NEO4J_PASSWORD), )"
   ]
  },
  {
   "cell_type": "markdown",
   "metadata": {},
   "source": [
    "## Functions to run queries in Neo4J"
   ]
  },
  {
   "cell_type": "code",
   "execution_count": 5,
   "metadata": {},
   "outputs": [],
   "source": [
    "def execute_write(driver, query):\n",
    "    with driver.session(database=\"neo4j\") as session:\n",
    "        # Write transactions allow the driver to handle retries and transient errors\n",
    "        result = session.execute_write(lambda tx, query: list(tx.run(query)), query)\n",
    "    return result"
   ]
  },
  {
   "cell_type": "code",
   "execution_count": 6,
   "metadata": {
    "ExecuteTime": {
     "end_time": "2024-02-29T21:46:14.291655Z",
     "start_time": "2024-02-29T21:46:14.286865Z"
    }
   },
   "outputs": [],
   "source": [
    "def execute_read(driver, query):    \n",
    "    with driver.session(database=\"neo4j\") as session:\n",
    "        result = session.execute_read(lambda tx, query: list(tx.run(query)), query)\n",
    "    return result"
   ]
  },
  {
   "cell_type": "markdown",
   "metadata": {},
   "source": [
    "# Explore the database"
   ]
  },
  {
   "cell_type": "markdown",
   "metadata": {},
   "source": [
    "## Explore schema:"
   ]
  },
  {
   "cell_type": "code",
   "execution_count": 12,
   "metadata": {},
   "outputs": [
    {
     "name": "stdout",
     "output_type": "stream",
     "text": [
      "[<Record nodes=[<Node element_id='-13' labels=frozenset({'REVIEWS'}) properties={'name': 'REVIEWS', 'indexes': ['id'], 'constraints': []}>, <Node element_id='-12' labels=frozenset({'BEERS'}) properties={'name': 'BEERS', 'indexes': ['id'], 'constraints': []}>, <Node element_id='-9' labels=frozenset({'COUNTRIES'}) properties={'name': 'COUNTRIES', 'indexes': ['name'], 'constraints': []}>, <Node element_id='-11' labels=frozenset({'BREWERIES'}) properties={'name': 'BREWERIES', 'indexes': ['id'], 'constraints': []}>, <Node element_id='-14' labels=frozenset({'STYLE'}) properties={'name': 'STYLE', 'indexes': ['name'], 'constraints': []}>, <Node element_id='-10' labels=frozenset({'CITIES'}) properties={'name': 'CITIES', 'indexes': ['name'], 'constraints': []}>, <Node element_id='-15' labels=frozenset({'USER'}) properties={'name': 'USER', 'indexes': ['name'], 'constraints': []}>, <Node element_id='-16' labels=frozenset({'USERS'}) properties={'name': 'USERS', 'indexes': ['name'], 'constraints': []}>] relationships=[<Relationship element_id='-9' nodes=(<Node element_id='-12' labels=frozenset({'BEERS'}) properties={'name': 'BEERS', 'indexes': ['id'], 'constraints': []}>, <Node element_id='-13' labels=frozenset({'REVIEWS'}) properties={'name': 'REVIEWS', 'indexes': ['id'], 'constraints': []}>) type='REVIEWED' properties={}>, <Relationship element_id='-10' nodes=(<Node element_id='-11' labels=frozenset({'BREWERIES'}) properties={'name': 'BREWERIES', 'indexes': ['id'], 'constraints': []}>, <Node element_id='-12' labels=frozenset({'BEERS'}) properties={'name': 'BEERS', 'indexes': ['id'], 'constraints': []}>) type='BREWED' properties={}>, <Relationship element_id='-14' nodes=(<Node element_id='-11' labels=frozenset({'BREWERIES'}) properties={'name': 'BREWERIES', 'indexes': ['id'], 'constraints': []}>, <Node element_id='-10' labels=frozenset({'CITIES'}) properties={'name': 'CITIES', 'indexes': ['name'], 'constraints': []}>) type='IN' properties={}>, <Relationship element_id='-11' nodes=(<Node element_id='-10' labels=frozenset({'CITIES'}) properties={'name': 'CITIES', 'indexes': ['name'], 'constraints': []}>, <Node element_id='-9' labels=frozenset({'COUNTRIES'}) properties={'name': 'COUNTRIES', 'indexes': ['name'], 'constraints': []}>) type='IN' properties={}>, <Relationship element_id='-12' nodes=(<Node element_id='-10' labels=frozenset({'CITIES'}) properties={'name': 'CITIES', 'indexes': ['name'], 'constraints': []}>, <Node element_id='-10' labels=frozenset({'CITIES'}) properties={'name': 'CITIES', 'indexes': ['name'], 'constraints': []}>) type='IN' properties={}>, <Relationship element_id='-13' nodes=(<Node element_id='-11' labels=frozenset({'BREWERIES'}) properties={'name': 'BREWERIES', 'indexes': ['id'], 'constraints': []}>, <Node element_id='-9' labels=frozenset({'COUNTRIES'}) properties={'name': 'COUNTRIES', 'indexes': ['name'], 'constraints': []}>) type='IN' properties={}>, <Relationship element_id='-15' nodes=(<Node element_id='-12' labels=frozenset({'BEERS'}) properties={'name': 'BEERS', 'indexes': ['id'], 'constraints': []}>, <Node element_id='-14' labels=frozenset({'STYLE'}) properties={'name': 'STYLE', 'indexes': ['name'], 'constraints': []}>) type='HAS_STYLE' properties={}>, <Relationship element_id='-16' nodes=(<Node element_id='-13' labels=frozenset({'REVIEWS'}) properties={'name': 'REVIEWS', 'indexes': ['id'], 'constraints': []}>, <Node element_id='-15' labels=frozenset({'USER'}) properties={'name': 'USER', 'indexes': ['name'], 'constraints': []}>) type='POSTED' properties={}>]>]\n"
     ]
    }
   ],
   "source": [
    "# Get \"visualization\" schema. This generates the visualization schema and is better ran using the browser, but we put the query here for completion.\n",
    "\n",
    "query = \"\"\"\n",
    "    call db.schema.visualization;\n",
    "    \"\"\"\n",
    "\n",
    "result = execute_read(driver, query)\n",
    "\n",
    "pprint(result)"
   ]
  },
  {
   "cell_type": "code",
   "execution_count": 12,
   "metadata": {},
   "outputs": [
    {
     "data": {
      "text/plain": [
       "[]"
      ]
     },
     "execution_count": 12,
     "metadata": {},
     "output_type": "execute_result"
    }
   ],
   "source": [
    "# Creating indexes for faster processing of queries\n",
    "query1 = \"\"\"CREATE INDEX beer_id_index IF NOT EXISTS FOR (b:BEERS) ON (b.id)\"\"\"\n",
    "query2 = \"\"\"CREATE INDEX brewery_id_index IF NOT EXISTS FOR (b:BREWERIES) ON (b.id)\"\"\"\n",
    "query3 = \"\"\"CREATE INDEX user_name_index IF NOT EXISTS FOR (u:USERS) ON (u.name)\"\"\"\n",
    "query4 = \"\"\"CREATE INDEX review_id_index IF NOT EXISTS FOR (r:REVIEWS) ON (r.id)\"\"\"\n",
    "query5 = \"\"\"CREATE INDEX city_name_index IF NOT EXISTS FOR (c:CITIES) ON (c.name)\"\"\"\n",
    "query6 = \"\"\"CREATE INDEX country_name_index IF NOT EXISTS FOR (c:COUNTRIES) ON (c.name)\"\"\"\n",
    "query7 = \"\"\"CREATE INDEX style_name_index IF NOT EXISTS FOR (s:STYLE) ON (s.name)\"\"\"\n",
    "\n",
    "# Execute each query separately\n",
    "execute_write(driver, query1)\n",
    "execute_write(driver, query2)\n",
    "execute_write(driver, query3)\n",
    "execute_write(driver, query4)\n",
    "execute_write(driver, query5)\n",
    "execute_write(driver, query6)\n",
    "execute_write(driver, query7)"
   ]
  },
  {
   "cell_type": "code",
   "execution_count": 16,
   "metadata": {},
   "outputs": [
    {
     "name": "stdout",
     "output_type": "stream",
     "text": [
      "We have 3141348 observations in the database.\n"
     ]
    }
   ],
   "source": [
    "# Get number of observations \n",
    "\n",
    "query = \"\"\"\n",
    "        MATCH () RETURN count(*)\n",
    "    \"\"\"\n",
    "\n",
    "result = execute_read(driver, query)\n",
    "\n",
    "print(f\"We have {result[0][0]} observations in the database.\")"
   ]
  },
  {
   "cell_type": "code",
   "execution_count": 18,
   "metadata": {},
   "outputs": [
    {
     "name": "stdout",
     "output_type": "stream",
     "text": [
      "[<Record id=8 name='index_268c309e' state='ONLINE' populationPercent=100.0 uniqueness='NONUNIQUE' type='BTREE' entityType='NODE' labelsOrTypes=['STYLE'] properties=['name'] provider='native-btree-1.0'>,\n",
      " <Record id=1 name='index_343aff4e' state='ONLINE' populationPercent=100.0 uniqueness='NONUNIQUE' type='LOOKUP' entityType='NODE' labelsOrTypes=[] properties=[] provider='token-lookup-1.0'>,\n",
      " <Record id=3 name='index_476bd9ac' state='ONLINE' populationPercent=100.0 uniqueness='NONUNIQUE' type='BTREE' entityType='NODE' labelsOrTypes=['COUNTRIES'] properties=['name'] provider='native-btree-1.0'>,\n",
      " <Record id=4 name='index_69b3ab56' state='ONLINE' populationPercent=100.0 uniqueness='NONUNIQUE' type='BTREE' entityType='NODE' labelsOrTypes=['CITIES'] properties=['name'] provider='native-btree-1.0'>,\n",
      " <Record id=7 name='index_7d8f6eb8' state='ONLINE' populationPercent=100.0 uniqueness='NONUNIQUE' type='BTREE' entityType='NODE' labelsOrTypes=['REVIEWS'] properties=['id'] provider='native-btree-1.0'>,\n",
      " <Record id=5 name='index_8281b4be' state='ONLINE' populationPercent=100.0 uniqueness='NONUNIQUE' type='BTREE' entityType='NODE' labelsOrTypes=['BREWERIES'] properties=['id'] provider='native-btree-1.0'>,\n",
      " <Record id=6 name='index_ac86b32' state='ONLINE' populationPercent=100.0 uniqueness='NONUNIQUE' type='BTREE' entityType='NODE' labelsOrTypes=['BEERS'] properties=['id'] provider='native-btree-1.0'>,\n",
      " <Record id=9 name='index_b84165c2' state='ONLINE' populationPercent=100.0 uniqueness='NONUNIQUE' type='BTREE' entityType='NODE' labelsOrTypes=['USER'] properties=['name'] provider='native-btree-1.0'>,\n",
      " <Record id=2 name='index_f7700477' state='ONLINE' populationPercent=100.0 uniqueness='NONUNIQUE' type='LOOKUP' entityType='RELATIONSHIP' labelsOrTypes=[] properties=[] provider='token-lookup-1.0'>,\n",
      " <Record id=10 name='user_name_index' state='ONLINE' populationPercent=100.0 uniqueness='NONUNIQUE' type='BTREE' entityType='NODE' labelsOrTypes=['USERS'] properties=['name'] provider='native-btree-1.0'>]\n"
     ]
    }
   ],
   "source": [
    "# Check indexes\n",
    "\n",
    "query = \"\"\"\n",
    "        call db.indexes;\n",
    "    \"\"\"\n",
    "\n",
    "result = execute_read(driver, query)\n",
    "\n",
    "pprint(result)"
   ]
  },
  {
   "cell_type": "markdown",
   "metadata": {},
   "source": [
    "Indexes:\n",
    "- Style, user, countries and cities id is the property name.\n",
    "- Reviews, Breweries, Beers id id the property id.\n",
    "- We have to make sure these properties have unique values."
   ]
  },
  {
   "cell_type": "code",
   "execution_count": 17,
   "metadata": {},
   "outputs": [
    {
     "name": "stdout",
     "output_type": "stream",
     "text": [
      "[]\n"
     ]
    }
   ],
   "source": [
    "# Check constraints\n",
    "\n",
    "query = \"\"\"\n",
    "        call db.constraints;\n",
    "    \"\"\"\n",
    "\n",
    "result = execute_read(driver, query)\n",
    "\n",
    "pprint(result)"
   ]
  },
  {
   "cell_type": "code",
   "execution_count": 18,
   "metadata": {},
   "outputs": [
    {
     "name": "stdout",
     "output_type": "stream",
     "text": [
      "[<Record label='COUNTRIES'>,\n",
      " <Record label='CITIES'>,\n",
      " <Record label='BREWERIES'>,\n",
      " <Record label='BEERS'>,\n",
      " <Record label='REVIEWS'>,\n",
      " <Record label='STYLE'>,\n",
      " <Record label='USER'>,\n",
      " <Record label='USERS'>]\n"
     ]
    }
   ],
   "source": [
    "# Check all labels\n",
    "\n",
    "query = \"\"\"\n",
    "        call db.labels;\n",
    "    \"\"\"\n",
    "\n",
    "result = execute_read(driver, query)\n",
    "\n",
    "pprint(result)"
   ]
  },
  {
   "cell_type": "code",
   "execution_count": 19,
   "metadata": {},
   "outputs": [
    {
     "name": "stdout",
     "output_type": "stream",
     "text": [
      "[<Record node_label=['BEERS'] node_count=417746>,\n",
      " <Record node_label=['BREWERIES'] node_count=66916>,\n",
      " <Record node_label=['CITIES'] node_count=11665>,\n",
      " <Record node_label=['COUNTRIES'] node_count=200>,\n",
      " <Record node_label=['REVIEWS'] node_count=2538044>,\n",
      " <Record node_label=['STYLE'] node_count=113>,\n",
      " <Record node_label=['USER'] node_count=106645>]\n"
     ]
    }
   ],
   "source": [
    "# Retrieve all nodes in the database\n",
    "# group them by label and count how many nodes exist for each label\n",
    "\n",
    "query = \"\"\"\n",
    "        MATCH (n)\n",
    "        RETURN labels(n) AS node_label, count(n) AS node_count\n",
    "        ORDER BY node_label ASC\n",
    "    \"\"\"\n",
    "\n",
    "result = execute_read(driver, query)\n",
    "\n",
    "pprint(result)"
   ]
  },
  {
   "cell_type": "code",
   "execution_count": 20,
   "metadata": {},
   "outputs": [
    {
     "name": "stdout",
     "output_type": "stream",
     "text": [
      "[<Record relationshipType='REVIEWED'>,\n",
      " <Record relationshipType='BREWED'>,\n",
      " <Record relationshipType='IN'>,\n",
      " <Record relationshipType='HAS_STYLE'>,\n",
      " <Record relationshipType='POSTED'>]\n"
     ]
    }
   ],
   "source": [
    "# Check all types of relationships\n",
    "\n",
    "query = \"\"\"\n",
    "        call db.relationshipTypes();\n",
    "    \"\"\"\n",
    "\n",
    "result = execute_read(driver, query)\n",
    "\n",
    "pprint(result)"
   ]
  },
  {
   "cell_type": "markdown",
   "metadata": {},
   "source": [
    "## Properties for each Node"
   ]
  },
  {
   "cell_type": "code",
   "execution_count": 22,
   "metadata": {},
   "outputs": [
    {
     "name": "stdout",
     "output_type": "stream",
     "text": [
      "['notes', 'abv', 'name', 'state', 'id', 'retired', 'availability', 'brewery_id']\n"
     ]
    }
   ],
   "source": [
    "# Check all properties of the BEERS node\n",
    "query = \"\"\"\n",
    "MATCH (n:BEERS) \n",
    "RETURN n, keys(n) AS propertyKeys\n",
    "LIMIT 1\n",
    "\"\"\"\n",
    "\n",
    "result = execute_read(driver, query)\n",
    "pprint(result[0][\"propertyKeys\"])"
   ]
  },
  {
   "cell_type": "code",
   "execution_count": 23,
   "metadata": {},
   "outputs": [
    {
     "name": "stdout",
     "output_type": "stream",
     "text": [
      "['notes', 'types', 'id', 'name', 'state']\n"
     ]
    }
   ],
   "source": [
    "# Check all properties of the BREWERIES node\n",
    "query = \"\"\"\n",
    "MATCH (n:BREWERIES) \n",
    "RETURN n, keys(n) AS propertyKeys\n",
    "LIMIT 1\n",
    "\"\"\"\n",
    "\n",
    "result = execute_read(driver, query)\n",
    "pprint(result[0][\"propertyKeys\"])"
   ]
  },
  {
   "cell_type": "code",
   "execution_count": 24,
   "metadata": {},
   "outputs": [
    {
     "name": "stdout",
     "output_type": "stream",
     "text": [
      "['name']\n"
     ]
    }
   ],
   "source": [
    "# Check all properties of the USER node\n",
    "query = \"\"\"\n",
    "MATCH (n:USER) \n",
    "RETURN n, keys(n) AS propertyKeys\n",
    "LIMIT 1\n",
    "\"\"\"\n",
    "\n",
    "result = execute_read(driver, query)\n",
    "pprint(result[0][\"propertyKeys\"])"
   ]
  },
  {
   "cell_type": "code",
   "execution_count": 25,
   "metadata": {},
   "outputs": [
    {
     "name": "stdout",
     "output_type": "stream",
     "text": [
      "['text',\n",
      " 'smell',\n",
      " 'look',\n",
      " 'taste',\n",
      " 'feel',\n",
      " 'overall',\n",
      " 'beer_id',\n",
      " 'id',\n",
      " 'date',\n",
      " 'score']\n"
     ]
    }
   ],
   "source": [
    "# Check all properties of the REVIEWS node\n",
    "query = \"\"\"\n",
    "MATCH (n:REVIEWS) \n",
    "RETURN n, keys(n) AS propertyKeys\n",
    "LIMIT 1\n",
    "\"\"\"\n",
    "\n",
    "result = execute_read(driver, query)\n",
    "pprint(result[0][\"propertyKeys\"])"
   ]
  },
  {
   "cell_type": "code",
   "execution_count": 26,
   "metadata": {},
   "outputs": [
    {
     "name": "stdout",
     "output_type": "stream",
     "text": [
      "['name']\n"
     ]
    }
   ],
   "source": [
    "# Check all properties of the CITIES node\n",
    "query = \"\"\"\n",
    "MATCH (n:CITIES) \n",
    "RETURN n, keys(n) AS propertyKeys\n",
    "LIMIT 1\n",
    "\"\"\"\n",
    "\n",
    "result = execute_read(driver, query)\n",
    "pprint(result[0][\"propertyKeys\"])"
   ]
  },
  {
   "cell_type": "code",
   "execution_count": 27,
   "metadata": {},
   "outputs": [
    {
     "name": "stdout",
     "output_type": "stream",
     "text": [
      "['name']\n"
     ]
    }
   ],
   "source": [
    "# Check all properties of the COUNTRIES node\n",
    "query = \"\"\"\n",
    "MATCH (n:COUNTRIES) \n",
    "RETURN n, keys(n) AS propertyKeys\n",
    "LIMIT 1\n",
    "\"\"\"\n",
    "\n",
    "result = execute_read(driver, query)\n",
    "pprint(result[0][\"propertyKeys\"])"
   ]
  },
  {
   "cell_type": "code",
   "execution_count": 28,
   "metadata": {},
   "outputs": [
    {
     "name": "stdout",
     "output_type": "stream",
     "text": [
      "['name']\n"
     ]
    }
   ],
   "source": [
    "# Check all properties of the STYLE node\n",
    "query = \"\"\"\n",
    "MATCH (n:STYLE) \n",
    "RETURN n, keys(n) AS propertyKeys\n",
    "LIMIT 1\n",
    "\"\"\"\n",
    "\n",
    "result = execute_read(driver, query)\n",
    "pprint(result[0][\"propertyKeys\"])"
   ]
  },
  {
   "cell_type": "markdown",
   "metadata": {},
   "source": [
    "### Finding all One-Directional Relationships"
   ]
  },
  {
   "cell_type": "code",
   "execution_count": 30,
   "metadata": {},
   "outputs": [
    {
     "name": "stdout",
     "output_type": "stream",
     "text": [
      "[<Record relationship_type='IN' start_node_labels=['CITIES'] end_node_labels=['COUNTRIES']>,\n",
      " <Record relationship_type='BREWED' start_node_labels=['BREWERIES'] end_node_labels=['BEERS']>,\n",
      " <Record relationship_type='IN' start_node_labels=['BREWERIES'] end_node_labels=['CITIES']>,\n",
      " <Record relationship_type='HAS_STYLE' start_node_labels=['BEERS'] end_node_labels=['STYLE']>,\n",
      " <Record relationship_type='REVIEWED' start_node_labels=['BEERS'] end_node_labels=['REVIEWS']>,\n",
      " <Record relationship_type='POSTED' start_node_labels=['REVIEWS'] end_node_labels=['USER']>]\n"
     ]
    }
   ],
   "source": [
    "query = \"\"\"\n",
    "MATCH (a)-[r]->(b)\n",
    "WHERE NOT EXISTS {\n",
    "    MATCH (b)-[r_reverse]->(a)\n",
    "}\n",
    "RETURN DISTINCT\n",
    "  type(r) AS relationship_type,\n",
    "  labels(a) AS start_node_labels,\n",
    "  labels(b) AS end_node_labels\n",
    "\"\"\"\n",
    "\n",
    "result = execute_read(driver, query)\n",
    "\n",
    "pprint(result)"
   ]
  },
  {
   "cell_type": "markdown",
   "metadata": {},
   "source": [
    "### Finding all Bidirectional Relationships"
   ]
  },
  {
   "cell_type": "code",
   "execution_count": null,
   "metadata": {},
   "outputs": [],
   "source": [
    "query = \"\"\"\n",
    "MATCH (a)-[r]->(b)\n",
    "MATCH (b)-[r_reverse]->(a)\n",
    "WHERE type(r) = type(r_reverse)\n",
    "RETURN DISTINCT\n",
    "  type(r) AS relationship_type,\n",
    "  labels(a) AS start_node_labels,\n",
    "  labels(b) AS end_node_labels\n",
    "\"\"\"\n",
    "\n",
    "result = execute_read(driver, query)\n",
    "pprint(result)"
   ]
  },
  {
   "cell_type": "markdown",
   "metadata": {},
   "source": [
    "### Finding Self-Referencing Relationships"
   ]
  },
  {
   "cell_type": "markdown",
   "metadata": {},
   "source": [
    "From our schema visualization, CITIES seems to be referencing back to iself. Let's try to understand that."
   ]
  },
  {
   "cell_type": "code",
   "execution_count": null,
   "metadata": {},
   "outputs": [],
   "source": [
    "query = \"\"\"\n",
    "MATCH (c:CITIES)-[r]->(c:CITIES)\n",
    "RETURN c, r\n",
    "\"\"\"\n",
    "\n",
    "result = execute_read(driver, query)\n",
    "pprint(result)"
   ]
  },
  {
   "cell_type": "markdown",
   "metadata": {},
   "source": [
    "From this query it seems like the CITIES [IN] CITIES relationship seen in the visualization is merely a graphical artifact."
   ]
  },
  {
   "cell_type": "markdown",
   "metadata": {},
   "source": [
    "From these queries we can conclude there are only one-directional relationships. We believe this makes sense, from our understanding of the database."
   ]
  },
  {
   "cell_type": "code",
   "execution_count": null,
   "metadata": {},
   "outputs": [],
   "source": [
    "# Check properties for each relationship\n",
    "\n",
    "query = \"\"\"\n",
    "        MATCH ()-[r]->()\n",
    "        RETURN DISTINCT type(r) AS relationship_type, keys(r) AS relationship_properties\n",
    "    \"\"\"\n",
    "\n",
    "result = execute_read(driver, query)\n",
    "\n",
    "pprint(result)"
   ]
  },
  {
   "cell_type": "code",
   "execution_count": null,
   "metadata": {},
   "outputs": [],
   "source": [
    "# Check for isolated nodes\n",
    "\n",
    "query = \"\"\"\n",
    "        MATCH (n)\n",
    "        WHERE NOT EXISTS ((n)--())\n",
    "        RETURN n\n",
    "    \"\"\"\n",
    "\n",
    "result = execute_read(driver, query)\n",
    "\n",
    "pprint(result)"
   ]
  },
  {
   "cell_type": "code",
   "execution_count": null,
   "metadata": {},
   "outputs": [],
   "source": [
    "# Get what type of isolated nodes we have \n",
    "\n",
    "query = \"\"\"\n",
    "        MATCH (n)\n",
    "        WHERE NOT EXISTS ((n)--())\n",
    "        RETURN DISTINCT labels(n)\n",
    "    \"\"\"\n",
    "\n",
    "result = execute_read(driver, query)\n",
    "\n",
    "pprint(result)"
   ]
  },
  {
   "cell_type": "markdown",
   "metadata": {},
   "source": [
    "- There are isolated nodes of all labels."
   ]
  },
  {
   "cell_type": "markdown",
   "metadata": {},
   "source": [
    "## Check for inconsistencies: "
   ]
  },
  {
   "cell_type": "code",
   "execution_count": null,
   "metadata": {},
   "outputs": [],
   "source": [
    "# Checking for \"corrupt\" nodes - nodes with no labels\n",
    "\n",
    "query = \"\"\"\n",
    "MATCH (n)\n",
    "WHERE size(labels(n)) = 0\n",
    "RETURN id(n) AS node_id, labels(n) AS labels, properties(n) AS properties\n",
    "\"\"\"\n",
    "\n",
    "result = execute_read(driver, query)\n",
    "\n",
    "pprint(result)"
   ]
  },
  {
   "cell_type": "code",
   "execution_count": null,
   "metadata": {},
   "outputs": [],
   "source": [
    "# Checking for nodes with no properties\n",
    "\n",
    "query = \"\"\"\n",
    "MATCH (n)\n",
    "WHERE size(keys(n)) = 0\n",
    "RETURN id(n) AS node_id, labels(n) AS labels, properties(n) AS properties\n",
    "\"\"\"\n",
    "\n",
    "result = execute_read(driver, query)\n",
    "\n",
    "pprint(result)"
   ]
  },
  {
   "cell_type": "code",
   "execution_count": null,
   "metadata": {},
   "outputs": [],
   "source": [
    "# Check for duplicated nodes w/ label COUNTRIES and same name\n",
    "\n",
    "query = \"\"\"\n",
    "MATCH (c:COUNTRIES)\n",
    "WITH c.name AS name, COUNT(c) AS count\n",
    "WHERE count > 1\n",
    "RETURN name, count;\n",
    "\"\"\"\n",
    "\n",
    "result = execute_read(driver, query)\n",
    "\n",
    "pprint(result)"
   ]
  },
  {
   "cell_type": "code",
   "execution_count": null,
   "metadata": {},
   "outputs": [],
   "source": [
    "# Check for duplicated nodes w/ label CITIES and same name\n",
    "\n",
    "query = \"\"\"\n",
    "    MATCH (ci:CITIES)\n",
    "    WITH ci.name AS cityName, count(ci) AS cityCount\n",
    "    WHERE cityCount > 1\n",
    "    RETURN cityName, cityCount\n",
    "\"\"\"\n",
    "\n",
    "result = execute_read(driver, query)\n",
    "\n",
    "pprint(result)"
   ]
  },
  {
   "cell_type": "code",
   "execution_count": null,
   "metadata": {},
   "outputs": [],
   "source": [
    "# Check if one node is connected to more than one city\n",
    "\n",
    "query = \"\"\"\n",
    "MATCH (c:CITIES)-[:IN]->(co:COUNTRIES)\n",
    "WITH co.name AS name, COUNT(DISTINCT co) AS country_count, COLLECT(DISTINCT co) AS country_nodes\n",
    "WHERE country_count > 1\n",
    "RETURN name, country_count, country_nodes;\n",
    "\"\"\"\n",
    "\n",
    "result = execute_read(driver, query)\n",
    "\n",
    "pprint(result)"
   ]
  },
  {
   "cell_type": "markdown",
   "metadata": {},
   "source": [
    "Since each country is connected to one node, we can safely remove the duplicated CITIES and COUNTRIES nodes."
   ]
  },
  {
   "cell_type": "code",
   "execution_count": null,
   "metadata": {},
   "outputs": [],
   "source": [
    "# Check total nodes w/ label COUNTRIES \n",
    "\n",
    "query = \"\"\"\n",
    "MATCH (c:COUNTRIES)\n",
    "RETURN COUNT(c) AS total_nodes;\n",
    "\"\"\"\n",
    "\n",
    "result = execute_read(driver, query)\n",
    "\n",
    "pprint(result)"
   ]
  },
  {
   "cell_type": "code",
   "execution_count": null,
   "metadata": {},
   "outputs": [],
   "source": [
    "# Check total nodes w/ label CITIES\n",
    "\n",
    "query = \"\"\"\n",
    "MATCH (c:CITIES)\n",
    "RETURN COUNT(c) AS total_nodes;\n",
    "\"\"\"\n",
    "\n",
    "result = execute_read(driver, query)\n",
    "\n",
    "pprint(result)"
   ]
  },
  {
   "cell_type": "markdown",
   "metadata": {},
   "source": [
    "- Since that the only property for COUNTRIES, CITIES, STYLE and USER is name, having more than one node with the same name represents a duplicated node.\n",
    "- There are several duplicated nodes for both COUNTRIES and CITIES labels."
   ]
  },
  {
   "cell_type": "code",
   "execution_count": null,
   "metadata": {},
   "outputs": [],
   "source": [
    "# Check for duplicated nodes w/ label STYLE and same name\n",
    "\n",
    "query = \"\"\"\n",
    "    MATCH (st:STYLE)\n",
    "    WITH st.name AS styleName,\n",
    "    count(st) AS styleCount\n",
    "    WHERE styleCount > 1\n",
    "    RETURN styleName, styleCount\n",
    "\"\"\"\n",
    "\n",
    "result = execute_read(driver, query)\n",
    "\n",
    "pprint(result)"
   ]
  },
  {
   "cell_type": "code",
   "execution_count": null,
   "metadata": {},
   "outputs": [],
   "source": [
    "# Check for duplicated nodes w/ label USER and same name\n",
    "\n",
    "query = \"\"\"\n",
    "    MATCH (us:USER)\n",
    "    WITH us.name AS userName,\n",
    "    count(us) AS userCount\n",
    "    WHERE userCount > 1\n",
    "    RETURN userName, userCount\n",
    "\"\"\"\n",
    "\n",
    "result = execute_read(driver, query)\n",
    "\n",
    "pprint(result)"
   ]
  },
  {
   "cell_type": "code",
   "execution_count": null,
   "metadata": {},
   "outputs": [],
   "source": [
    "# Check for duplicated nodes w/ label BREWERY \n",
    "\n",
    "query = \"\"\"\n",
    "    MATCH (br:BREWERY)\n",
    "    WITH br.id AS breweryId, \n",
    "        br.state AS breweryState,\n",
    "        br.notes AS breweryNotes,\n",
    "        br.types AS breweryTypes,\n",
    "        br.name AS breweryName,\n",
    "    count(br) AS breweryCount\n",
    "    WHERE breweryCount > 1\n",
    "    RETURN breweryId, breweryName, breweryCount\n",
    "\"\"\"\n",
    "\n",
    "result = execute_read(driver, query)\n",
    "\n",
    "pprint(result)"
   ]
  },
  {
   "cell_type": "code",
   "execution_count": null,
   "metadata": {},
   "outputs": [],
   "source": [
    "# Check for duplicated nodes w/ label BREWERY and same id\n",
    "\n",
    "query = \"\"\"\n",
    "    MATCH (br:BREWERY)\n",
    "    WITH br.id AS breweryId, \n",
    "    count(br) AS breweryCount\n",
    "    WHERE breweryCount > 1\n",
    "    RETURN breweryId, breweryCount\n",
    "\"\"\"\n",
    "\n",
    "result = execute_read(driver, query)\n",
    "\n",
    "pprint(result)"
   ]
  },
  {
   "cell_type": "code",
   "execution_count": null,
   "metadata": {},
   "outputs": [],
   "source": [
    "# Check for duplicated nodes w/ label BREWERY and same name\n",
    "\n",
    "query = \"\"\"\n",
    "    MATCH (br:BREWERY)\n",
    "    WITH br.name AS breweryName,\n",
    "    count(br) AS breweryCount\n",
    "    WHERE breweryCount > 1\n",
    "    RETURN breweryName, breweryCount\n",
    "\"\"\"\n",
    "\n",
    "result = execute_read(driver, query)\n",
    "\n",
    "pprint(result)"
   ]
  },
  {
   "cell_type": "code",
   "execution_count": null,
   "metadata": {},
   "outputs": [],
   "source": [
    "# Check for duplicated nodes w/ label BEERS \n",
    "\n",
    "query = \"\"\"\n",
    "    MATCH (be:BEERS)\n",
    "    WITH be.id AS beerId, \n",
    "        be.retired AS beerRetired, \n",
    "        be.availability AS beerAvailability, \n",
    "        be.brewery_id AS beerBreId, \n",
    "        be.state AS beerState, \n",
    "        be.name AS beerName, \n",
    "        be.abv AS beerAbv, \n",
    "        be.notes AS beerNotes, \n",
    "    count(be) AS beerCount\n",
    "    WHERE beerCount > 1\n",
    "    RETURN beerId, beerName, beerCount\n",
    "\"\"\"\n",
    "\n",
    "result = execute_read(driver, query)\n",
    "\n",
    "pprint(result)"
   ]
  },
  {
   "cell_type": "markdown",
   "metadata": {},
   "source": [
    "- There are several nodes with the label BEERS duplicated for all properties."
   ]
  },
  {
   "cell_type": "code",
   "execution_count": null,
   "metadata": {},
   "outputs": [],
   "source": [
    "# Check for duplicated nodes w/ label REVIEWS \n",
    "\n",
    "query = \"\"\"\n",
    "    MATCH (re:REVIEWS)\n",
    "    WITH re.text AS reviewTest,\n",
    "        re.beer_id AS reviewBeerId,\n",
    "        re.smell AS reviewSmell,\n",
    "        re.look AS reviewLook,\n",
    "        re.score AS reviewScore,\n",
    "        re.taste AS reviewTaste,\n",
    "        re.feel AS reviewFeel,\n",
    "        re.overall AS reviewOverall,\n",
    "        re.id AS reviewId,\n",
    "        re.date AS reviewDate,\n",
    "    count(re) AS reviewCount\n",
    "    WHERE reviewCount > 1\n",
    "    RETURN reviewId, reviewCount\n",
    "\"\"\"\n",
    "\n",
    "result = execute_read(driver, query)\n",
    "\n",
    "pprint(result)"
   ]
  },
  {
   "cell_type": "markdown",
   "metadata": {},
   "source": [
    "- There are several nodes with the label REVIEWS duplicated for all properties."
   ]
  },
  {
   "cell_type": "markdown",
   "metadata": {},
   "source": [
    "Considerations:\n",
    "- One city should only be associated w/ one country.\n",
    "- One brewery should only be associated w/ one city.\n",
    "- One review should only be associated w/ one user.\n",
    "- One review should only be associated w/ one beer.\n",
    "- One beer should only be associated w/ one style\n",
    "- One beer should only be associated w/ one brewery"
   ]
  },
  {
   "cell_type": "code",
   "execution_count": null,
   "metadata": {},
   "outputs": [],
   "source": [
    "# Check if there is any brewery associated with more than one city\n",
    "# Retrieve all brewery to city relationships\n",
    "# In these relationships, count nº of cities for each brewery \n",
    "\n",
    "query = \"\"\"\n",
    "    MATCH (br:BREWERIES)-[:IN]->(ci:CITIES)\n",
    "    WITH br, count(ci) AS city_count\n",
    "    WHERE city_count > 1\n",
    "    RETURN br.name, city_count\n",
    "\"\"\"\n",
    "\n",
    "result = execute_read(driver, query)\n",
    "\n",
    "pprint(result)"
   ]
  },
  {
   "cell_type": "code",
   "execution_count": null,
   "metadata": {},
   "outputs": [],
   "source": [
    "# Check if there is any city associated with more than one country\n",
    "# Retrieve all city to country relationships\n",
    "# In these relationships, count nº of countries for each city \n",
    "\n",
    "query = \"\"\"\n",
    "    MATCH (ci:CITY)-[:IN]->(co:COUNTRIES)\n",
    "    WITH ci, count(co) AS country_count\n",
    "    WHERE country_count > 1\n",
    "    RETURN ci.name, country_count\n",
    "\"\"\"\n",
    "\n",
    "result = execute_read(driver, query)\n",
    "\n",
    "pprint(result)"
   ]
  },
  {
   "cell_type": "code",
   "execution_count": null,
   "metadata": {},
   "outputs": [],
   "source": [
    "# Check if there are REVIEWS posted by more than one USER\n",
    "query = \"\"\"\n",
    "    MATCH (us:USER)-[:POSTED]->(re:REVIEW)\n",
    "    WITH re, count(us) AS user_count\n",
    "    WHERE user_count > 1\n",
    "    RETURN re.id, user_count\n",
    "\"\"\"\n",
    "\n",
    "result = execute_read(driver, query)\n",
    "\n",
    "pprint(result)"
   ]
  },
  {
   "cell_type": "code",
   "execution_count": null,
   "metadata": {},
   "outputs": [],
   "source": [
    "# Check if each REVIEW is only linked ot one BEER\n",
    "query = \"\"\"\n",
    "    MATCH (re:REVIEW)-[:REVIEWED]->(be:BEERS)\n",
    "    WITH re, count(be) AS beer_count\n",
    "    WHERE beer_count > 1\n",
    "    RETURN re.id, beer_count\n",
    "\"\"\"\n",
    "\n",
    "result = execute_read(driver, query)\n",
    "\n",
    "pprint(result)"
   ]
  },
  {
   "cell_type": "code",
   "execution_count": null,
   "metadata": {},
   "outputs": [],
   "source": [
    "# Check if beers have more than one style\n",
    "query = \"\"\"\n",
    "    MATCH (re:BEERS)-[:HAS_STYLE]->(st:STYLES)\n",
    "    WITH re, count(st) AS style_count\n",
    "    WHERE style_count > 1\n",
    "    RETURN re.name, style_count\n",
    "\"\"\"\n",
    "\n",
    "result = execute_read(driver, query)\n",
    "\n",
    "pprint(result)"
   ]
  },
  {
   "cell_type": "code",
   "execution_count": null,
   "metadata": {},
   "outputs": [],
   "source": [
    "# Check if any beers are brewed in more than one brewery\n",
    "query = \"\"\"\n",
    "    MATCH (be:BEERS)-[:BREWED]->(br:BREWERIES)\n",
    "    WITH be, COUNT(br) AS brewery_count\n",
    "    WHERE brewery_count > 1\n",
    "    RETURN be.name, brewery_count\n",
    "\"\"\"\n",
    "\n",
    "result = execute_read(driver, query)\n",
    "\n",
    "pprint(result)"
   ]
  },
  {
   "cell_type": "markdown",
   "metadata": {},
   "source": [
    "Considerations:\n",
    "- All breweries should be associated with a city.\n",
    "- All cities should be associated with a country.\n",
    "- All reviews should be associated to a user.\n",
    "- All reviews shoul be associated with a beer. \n",
    "- All beers should be associated with a brewery. \n",
    "\n"
   ]
  },
  {
   "cell_type": "code",
   "execution_count": null,
   "metadata": {},
   "outputs": [],
   "source": [
    "# Check if there is any is any node w/ BREWERIES label\n",
    "# that does not have the specified relationship to a node w/ label CITIES\n",
    "\n",
    "query = \"\"\"\n",
    "    MATCH (br:BREWERIES)\n",
    "    WHERE NOT EXISTS ((br)-[:IN]->(:CITIES))\n",
    "    RETURN br\n",
    "\"\"\"\n",
    "result = execute_read(driver, query)\n",
    "\n",
    "pprint(result)"
   ]
  },
  {
   "cell_type": "code",
   "execution_count": null,
   "metadata": {},
   "outputs": [],
   "source": [
    "# Check if there are any CITIES nodes not linked to COUNTRIES\n",
    "query = \"\"\"\n",
    "    MATCH (ci:CITIES)\n",
    "    WHERE NOT EXISTS ((ci)-[:IN]->(:COUNTRIES))\n",
    "    RETURN ci\n",
    "\"\"\"\n",
    "result = execute_read(driver, query)\n",
    "\n",
    "pprint(result)"
   ]
  },
  {
   "cell_type": "code",
   "execution_count": null,
   "metadata": {},
   "outputs": [],
   "source": [
    "# Check if there are reviews not linked to user\n",
    "query = \"\"\"\n",
    "    MATCH (re:REVIEWS)\n",
    "    WHERE NOT EXISTS ((re)-[:POSTED]->(:USER))\n",
    "    RETURN re\n",
    "\"\"\"\n",
    "result = execute_read(driver, query)\n",
    "\n",
    "pprint(result)"
   ]
  },
  {
   "cell_type": "code",
   "execution_count": null,
   "metadata": {},
   "outputs": [],
   "source": [
    "# Check if there are breweries that are not linked to any beers \n",
    "query = \"\"\"\n",
    "    MATCH (br:BREWERY)\n",
    "    WHERE NOT EXISTS ((br)-[:BREWED]->(:BEERS))\n",
    "    RETURN br\n",
    "\"\"\"\n",
    "result = execute_read(driver, query)\n",
    "\n",
    "pprint(result)"
   ]
  },
  {
   "cell_type": "markdown",
   "metadata": {},
   "source": [
    "- There are breweries not associated w/ any city.\n",
    "- There are cities not associated w/ any country.\n",
    "- There are reviews not associated w/ any user or beer.\n",
    "- There are beers not associated w/ any brewery."
   ]
  },
  {
   "cell_type": "markdown",
   "metadata": {},
   "source": [
    "## EXERCISE SUMMARY\n",
    "- Indexes: Style, user, countries and cities id is the property name.Reviews, Breweries, Beers id id the property id.\n",
    "- Labels: COUNTRIES, CITIES, BREWERIES, BEERS, REVIEWS, STYLE and USER.\n",
    "\n",
    "- Relationships:\n",
    "    - Relationship names: REVIEWED, BREWED, IN, HAS_STYLE and POSTED.\n",
    "    - Relationships are all unidrectional, which mnakes sense.\n",
    "    - Relationships have no properties. \n",
    "    - There are several isolated nodes. We will try to connect them, and delete the ones that we can't connect.\n",
    "\n",
    "- Properties:\n",
    "    - COUNTRIES, CITIES, USER and STYLE only property: ‘name’.\n",
    "    - REVIEWS properties: 'text', 'smell', 'look', 'taste', 'feel', 'overall', 'beer_id', 'id', 'date', 'score'\n",
    "    - There are several node w/ label REVIEWS that have no properties.\n",
    "    - BREWERIES properties: 'notes', 'types', 'id', 'name', 'state'\n",
    "    - BEERS properties: notes', 'abv', 'name', 'state', 'id', 'retired', 'availability', 'brewery_id'\n",
    "\n",
    "- Inconsistencies found:\n",
    "    - Duplicated nodes: There are several nodes with the label BEERS, COUNTRIES, CITIES and REVIEWS duplicated for all properties.\n",
    "    - There are breweries not associated w/ any city.\n",
    "    - There are cities not associated w/ any country.\n",
    "    - There are reviews not associated w/ any user or beer.\n",
    "    - There are beers not associated w/ any brewery."
   ]
  },
  {
   "cell_type": "markdown",
   "metadata": {},
   "source": [
    "# Adjust the database and mention reasoning behind: e.g. clean errors, remove redundancies, adjust schema as necessary. Visualize the final version of database schema."
   ]
  },
  {
   "cell_type": "markdown",
   "metadata": {},
   "source": [
    "Adjustments to be made:\n",
    "\n",
    "- Connect isolated nodes where possible and delete the ones where it is not possible\n",
    "    - Try to connect BEERS with BREWERIES if possible based on BEERS properties\n",
    "    - Try to connect CITIES with COUNTRIES if possible\n",
    "    - Associate BREWERIES with CITIES if possible.\n",
    "- Delete nodes that are duplicated for all properties\n",
    "- Question: Should one beer only be associated to one brewery? Maybe many breweries can produce the same beer\n",
    "- Change REVIEWS - [POSTED] -> USERS to REVIEWS - [POSTED_BY] -> USERS\n",
    "- Connecting BEER to COUNTRY so that we know what beers are available in each country directly."
   ]
  },
  {
   "cell_type": "markdown",
   "metadata": {},
   "source": [
    "## Connecting isolated NODES where possible. Deleting the ones that can't be connected."
   ]
  },
  {
   "cell_type": "code",
   "execution_count": null,
   "metadata": {},
   "outputs": [],
   "source": [
    "# Checking isolated nodes for REVIEWS before we do anything\n",
    "\n",
    "query = \"\"\"\n",
    "    MATCH (n)\n",
    "    WHERE \"REVIEWS\" IN labels(n) AND NOT EXISTS ((n)--())\n",
    "    RETURN n\n",
    "    \"\"\"\n",
    "\n",
    "result = execute_read(driver, query)\n",
    "pprint(result)"
   ]
  },
  {
   "cell_type": "code",
   "execution_count": 14,
   "metadata": {},
   "outputs": [
    {
     "name": "stdout",
     "output_type": "stream",
     "text": [
      "[]\n"
     ]
    }
   ],
   "source": [
    "# Connecting isolated REVIEWS nodes where possible\n",
    "# Connecting BEERS - [REVIEWED] -> REVIEWS\n",
    "\n",
    "query = \"\"\"\n",
    "MATCH (r:REVIEWS)\n",
    "WITH r\n",
    "MATCH (b:BEER WHERE b.id = r.beer_id)\n",
    "CREATE (b)-[:REVIEWED]->(r)\n",
    "\"\"\"\n",
    "\n",
    "result = execute_write(driver, query)\n",
    "pprint(result)"
   ]
  },
  {
   "cell_type": "code",
   "execution_count": null,
   "metadata": {},
   "outputs": [],
   "source": [
    "# Checking results\n",
    "\n",
    "query = \"\"\"\n",
    "    MATCH (n)\n",
    "    WHERE \"REVIEWS\" IN labels(n) AND NOT EXISTS ((n)--())\n",
    "    RETURN n\n",
    "    \"\"\"\n",
    "\n",
    "result = execute_read(driver, query)\n",
    "pprint(result)"
   ]
  },
  {
   "cell_type": "markdown",
   "metadata": {},
   "source": [
    "We were not able to connect any nodes. We thought that BEER.id could match with REVIEWED.beer_id but that doesn't seem to be the case."
   ]
  },
  {
   "cell_type": "code",
   "execution_count": 16,
   "metadata": {},
   "outputs": [
    {
     "name": "stdout",
     "output_type": "stream",
     "text": [
      "[]\n"
     ]
    }
   ],
   "source": [
    "# Deleting nodes that we could not connect\n",
    "\n",
    "query = \"\"\"\n",
    "    MATCH (n)\n",
    "    WHERE \"REVIEWS\" IN labels(n) AND NOT EXISTS ((n)--())\n",
    "    DELETE n\n",
    "\"\"\"\n",
    "\n",
    "result = execute_write(driver, query)\n",
    "pprint(result)"
   ]
  },
  {
   "cell_type": "code",
   "execution_count": null,
   "metadata": {},
   "outputs": [],
   "source": [
    "# Checking results\n",
    "\n",
    "query = \"\"\"\n",
    "    MATCH (n)\n",
    "    WHERE \"REVIEWS\" IN labels(n) AND NOT EXISTS ((n)--())\n",
    "    RETURN n\n",
    "    \"\"\"\n",
    "\n",
    "result = execute_read(driver, query)\n",
    "pprint(result)"
   ]
  },
  {
   "cell_type": "markdown",
   "metadata": {},
   "source": [
    "We successfully deleted the isolated REVIEWS nodes."
   ]
  },
  {
   "cell_type": "code",
   "execution_count": null,
   "metadata": {},
   "outputs": [],
   "source": [
    "# Checking isolated nodes for USER before we do anything\n",
    "\n",
    "query = \"\"\"\n",
    "    MATCH (n)\n",
    "    WHERE \"USER\" IN labels(n) AND NOT EXISTS ((n)--())\n",
    "    RETURN n\n",
    "\"\"\"\n",
    "\n",
    "result = execute_read(driver, query)\n",
    "pprint(result)"
   ]
  },
  {
   "cell_type": "markdown",
   "metadata": {},
   "source": [
    "For users, the only node property is 'name', so we can't connect them. We will be deleting those."
   ]
  },
  {
   "cell_type": "code",
   "execution_count": 18,
   "metadata": {},
   "outputs": [
    {
     "name": "stdout",
     "output_type": "stream",
     "text": [
      "[]\n"
     ]
    }
   ],
   "source": [
    "# Deleting nodes that we could not connect\n",
    "\n",
    "query = \"\"\"\n",
    "    MATCH (n)\n",
    "    WHERE \"USER\" IN labels(n) AND NOT EXISTS ((n)--())\n",
    "    DELETE n\n",
    "\"\"\"\n",
    "\n",
    "result = execute_write(driver, query)\n",
    "pprint(result)"
   ]
  },
  {
   "cell_type": "code",
   "execution_count": null,
   "metadata": {},
   "outputs": [],
   "source": [
    "# Checking result\n",
    "\n",
    "query = \"\"\"\n",
    "    MATCH (n)\n",
    "    WHERE \"USER\" IN labels(n) AND NOT EXISTS ((n)--())\n",
    "    RETURN n\n",
    "\"\"\"\n",
    "\n",
    "result = execute_read(driver, query)\n",
    "pprint(result)"
   ]
  },
  {
   "cell_type": "markdown",
   "metadata": {},
   "source": [
    "Sucessfully deleted isolated USERS nodes."
   ]
  },
  {
   "cell_type": "code",
   "execution_count": 20,
   "metadata": {},
   "outputs": [
    {
     "name": "stdout",
     "output_type": "stream",
     "text": [
      "[]\n"
     ]
    }
   ],
   "source": [
    "# Checking isolated nodes for STYLE before we do anything\n",
    "\n",
    "query = \"\"\"\n",
    "    MATCH (n)\n",
    "    WHERE \"STYLE\" IN labels(n) AND NOT EXISTS ((n)--())\n",
    "    RETURN n\n",
    "    \"\"\"\n",
    "\n",
    "result = execute_read(driver, query)\n",
    "pprint(result)"
   ]
  },
  {
   "cell_type": "markdown",
   "metadata": {},
   "source": [
    "There are no isolated STYLE nodes."
   ]
  },
  {
   "cell_type": "code",
   "execution_count": null,
   "metadata": {},
   "outputs": [],
   "source": [
    "# Checking isolated nodes for BEERS before we do anything\n",
    "\n",
    "query = \"\"\"\n",
    "    MATCH (n)\n",
    "    WHERE \"BEERS\" IN labels(n) AND NOT EXISTS ((n)--())\n",
    "    RETURN n\n",
    "    \"\"\"\n",
    "\n",
    "result = execute_read(driver, query)\n",
    "pprint(result)"
   ]
  },
  {
   "cell_type": "code",
   "execution_count": null,
   "metadata": {},
   "outputs": [],
   "source": [
    "# Count of isolated nodes for beers before changes\n",
    "query = \"\"\"\n",
    "    MATCH (n)\n",
    "    WHERE \"BEERS\" IN labels(n) AND NOT EXISTS ((n)--())\n",
    "    RETURN count(n)\n",
    "    \"\"\"\n",
    "\n",
    "result = execute_read(driver, query)\n",
    "pprint(result)"
   ]
  },
  {
   "cell_type": "markdown",
   "metadata": {},
   "source": [
    "BREWERIES - [r] -> BEERS nodes connection attempt"
   ]
  },
  {
   "cell_type": "code",
   "execution_count": null,
   "metadata": {},
   "outputs": [],
   "source": [
    "# Number of BREWERIES - r -> BEERS connections existing before trying to connect the isolated nodes\n",
    "\n",
    "query = \"\"\"\n",
    "MATCH (b:BREWERIES)-[r:BREWED]->(beer:BEERS)\n",
    "RETURN COUNT(r) AS total_relationships;\n",
    "\"\"\"\n",
    "\n",
    "result = execute_write(driver, query)\n",
    "pprint(result)"
   ]
  },
  {
   "cell_type": "code",
   "execution_count": 22,
   "metadata": {},
   "outputs": [
    {
     "name": "stdout",
     "output_type": "stream",
     "text": [
      "[]\n"
     ]
    }
   ],
   "source": [
    "# Trying to connect isolated BEERS nodes to BREWERIES: BREWERIES [BREWED] BEERS based on properties\n",
    "\n",
    "query = \"\"\"\n",
    "MATCH (beer:BEERS)\n",
    "MATCH (b:BREWERIES)\n",
    "WHERE b.id = beer.brewery_id\n",
    "MERGE (b)-[:BREWED]->(beer);\n",
    "\"\"\"\n",
    "\n",
    "result = execute_write(driver, query)\n",
    "pprint(result)"
   ]
  },
  {
   "cell_type": "code",
   "execution_count": null,
   "metadata": {},
   "outputs": [],
   "source": [
    "# Number of connections existing AFTER trying to connect the isolated nodes\n",
    "\n",
    "query = \"\"\"\n",
    "MATCH (b:BREWERIES)-[r:BREWED]->(beer:BEERS)\n",
    "RETURN COUNT(r) AS total_relationships;\n",
    "\"\"\"\n",
    "\n",
    "result = execute_write(driver, query)\n",
    "pprint(result)"
   ]
  },
  {
   "cell_type": "code",
   "execution_count": null,
   "metadata": {},
   "outputs": [],
   "source": [
    "# Checking isolated nodes for BEERS AFTER we do the process\n",
    "\n",
    "query = \"\"\"\n",
    "    MATCH (n)\n",
    "    WHERE \"BEERS\" IN labels(n) AND NOT EXISTS ((n)--())\n",
    "    RETURN n\n",
    "    \"\"\"\n",
    "\n",
    "result = execute_read(driver, query)\n",
    "pprint(result)"
   ]
  },
  {
   "cell_type": "code",
   "execution_count": 28,
   "metadata": {},
   "outputs": [
    {
     "name": "stdout",
     "output_type": "stream",
     "text": [
      "[<Record count(n)=0>]\n"
     ]
    }
   ],
   "source": [
    "# Count of isolated nodes for beers AFTER changes\n",
    "query = \"\"\"\n",
    "    MATCH (n)\n",
    "    WHERE \"BEERS\" IN labels(n) AND NOT EXISTS ((n)--())\n",
    "    RETURN count(n)\n",
    "    \"\"\"\n",
    "\n",
    "result = execute_read(driver, query)\n",
    "pprint(result)"
   ]
  },
  {
   "cell_type": "markdown",
   "metadata": {},
   "source": [
    "**We were able to connect all isolated BEER nodes to BREWERIES.**"
   ]
  },
  {
   "cell_type": "code",
   "execution_count": null,
   "metadata": {},
   "outputs": [],
   "source": []
  },
  {
   "cell_type": "markdown",
   "metadata": {},
   "source": [
    "We can't connect CITIES with COUNTRIES as their only property is name. The only thing left to do with the isolated nodes in these two is to delete them."
   ]
  },
  {
   "cell_type": "code",
   "execution_count": null,
   "metadata": {},
   "outputs": [],
   "source": []
  },
  {
   "cell_type": "markdown",
   "metadata": {},
   "source": [
    "After this point, it seems impossible to connect any other nodes taking into account the properties that we have. E.g. for BREWERIES we have the property state but not City. And City only has property name, not property State.<br>\n",
    "As such, we will simply delete all the remaining isolated nodes."
   ]
  },
  {
   "cell_type": "code",
   "execution_count": 24,
   "metadata": {},
   "outputs": [
    {
     "name": "stderr",
     "output_type": "stream",
     "text": [
      "Received notification from DBMS server: {severity: WARNING} {code: Neo.ClientNotification.Statement.FeatureDeprecationWarning} {category: } {title: This feature is deprecated and will be removed in future versions.} {description: Coercion of list to boolean is deprecated. Please consider using `NOT isEmpty(...)` instead.} {position: line: 3, column: 11, offset: 21} for query: '\\nMATCH (n)\\nWHERE NOT (n)--()\\nDELETE n;\\n'\n"
     ]
    },
    {
     "name": "stdout",
     "output_type": "stream",
     "text": [
      "[]\n"
     ]
    }
   ],
   "source": [
    "# Deleting all nodes that we could not connect\n",
    "\n",
    "query = \"\"\"\n",
    "MATCH (n)\n",
    "WHERE NOT (n)--()\n",
    "DELETE n;\n",
    "\"\"\"\n",
    "\n",
    "result = execute_write(driver, query)\n",
    "pprint(result)"
   ]
  },
  {
   "cell_type": "code",
   "execution_count": 31,
   "metadata": {},
   "outputs": [
    {
     "name": "stderr",
     "output_type": "stream",
     "text": [
      "Received notification from DBMS server: {severity: WARNING} {code: Neo.ClientNotification.Statement.FeatureDeprecationWarning} {category: } {title: This feature is deprecated and will be removed in future versions.} {description: Coercion of list to boolean is deprecated. Please consider using `NOT isEmpty(...)` instead.} {position: line: 3, column: 11, offset: 21} for query: '\\nMATCH (n)\\nWHERE NOT (n)--()\\nRETURN count(n);\\n'\n"
     ]
    },
    {
     "name": "stdout",
     "output_type": "stream",
     "text": [
      "[<Record count(n)=0>]\n"
     ]
    }
   ],
   "source": [
    "# Checking if there are still isolated nodes\n",
    "\n",
    "query = \"\"\"\n",
    "MATCH (n)\n",
    "WHERE NOT (n)--()\n",
    "RETURN count(n);\n",
    "\"\"\"\n",
    "\n",
    "result = execute_read(driver, query)\n",
    "pprint(result)"
   ]
  },
  {
   "cell_type": "markdown",
   "metadata": {},
   "source": [
    "### Deleting all duplicate nodes"
   ]
  },
  {
   "cell_type": "markdown",
   "metadata": {},
   "source": [
    "#### Delete nodes duplicated for all properties"
   ]
  },
  {
   "cell_type": "code",
   "execution_count": null,
   "metadata": {},
   "outputs": [],
   "source": [
    "# Collecting the nodes and identifying duplicates\n",
    "\n",
    "query = \"\"\"\n",
    "MATCH (n)\n",
    "WITH n, LABELS(n) AS labels, KEYS(n) AS keys, [k IN KEYS(n) | n[k]] AS values\n",
    "WITH labels, values, COLLECT(n) AS nodes\n",
    "WHERE SIZE(nodes) > 1\n",
    "RETURN labels, values, nodes\n",
    "\"\"\"\n",
    "\n",
    "result = execute_read(driver, query)\n",
    "pprint(result)"
   ]
  },
  {
   "cell_type": "code",
   "execution_count": 34,
   "metadata": {},
   "outputs": [
    {
     "name": "stderr",
     "output_type": "stream",
     "text": [
      "Transaction failed and will be retried in 0.9216389820778623s (There is not enough memory to perform the current task. Please try increasing 'dbms.memory.heap.max_size' in the neo4j configuration (normally in 'conf/neo4j.conf' or, if you are using Neo4j Desktop, found through the user interface) or if you are running an embedded installation increase the heap by using '-Xmx' command line flag, and then restart the database.)\n",
      "[#CCC5]  _: <CONNECTION> error: Failed to read from defunct connection IPv4Address(('localhost', 7687)) (ResolvedIPv6Address(('::1', 7687, 0, 0))): ConnectionAbortedError(10053, 'Uma ligação estabelecida foi anulada pelo software no computador anfitrião', None, 10053, None)\n"
     ]
    },
    {
     "ename": "IncompleteCommit",
     "evalue": "Failed to read from defunct connection IPv4Address(('localhost', 7687)) (ResolvedIPv6Address(('::1', 7687, 0, 0)))",
     "output_type": "error",
     "traceback": [
      "\u001b[1;31m---------------------------------------------------------------------------\u001b[0m",
      "\u001b[1;31mConnectionAbortedError\u001b[0m                    Traceback (most recent call last)",
      "File \u001b[1;32m~\\anaconda3\\lib\\site-packages\\neo4j\\_sync\\io\\_common.py:54\u001b[0m, in \u001b[0;36mInbox._buffer_one_chunk\u001b[1;34m(self)\u001b[0m\n\u001b[0;32m     52\u001b[0m \u001b[38;5;28;01mwhile\u001b[39;00m chunk_size \u001b[38;5;241m==\u001b[39m \u001b[38;5;241m0\u001b[39m:\n\u001b[0;32m     53\u001b[0m     \u001b[38;5;66;03m# Determine the chunk size and skip noop\u001b[39;00m\n\u001b[1;32m---> 54\u001b[0m     \u001b[43mreceive_into_buffer\u001b[49m\u001b[43m(\u001b[49m\u001b[38;5;28;43mself\u001b[39;49m\u001b[38;5;241;43m.\u001b[39;49m\u001b[43m_socket\u001b[49m\u001b[43m,\u001b[49m\u001b[43m \u001b[49m\u001b[38;5;28;43mself\u001b[39;49m\u001b[38;5;241;43m.\u001b[39;49m\u001b[43m_buffer\u001b[49m\u001b[43m,\u001b[49m\u001b[43m \u001b[49m\u001b[38;5;241;43m2\u001b[39;49m\u001b[43m)\u001b[49m\n\u001b[0;32m     55\u001b[0m     chunk_size \u001b[38;5;241m=\u001b[39m \u001b[38;5;28mself\u001b[39m\u001b[38;5;241m.\u001b[39m_buffer\u001b[38;5;241m.\u001b[39mpop_u16()\n",
      "File \u001b[1;32m~\\anaconda3\\lib\\site-packages\\neo4j\\_sync\\io\\_common.py:345\u001b[0m, in \u001b[0;36mreceive_into_buffer\u001b[1;34m(sock, buffer, n_bytes)\u001b[0m\n\u001b[0;32m    344\u001b[0m \u001b[38;5;28;01mwhile\u001b[39;00m buffer\u001b[38;5;241m.\u001b[39mused \u001b[38;5;241m<\u001b[39m end:\n\u001b[1;32m--> 345\u001b[0m     n \u001b[38;5;241m=\u001b[39m \u001b[43msock\u001b[49m\u001b[38;5;241;43m.\u001b[39;49m\u001b[43mrecv_into\u001b[49m\u001b[43m(\u001b[49m\n\u001b[0;32m    346\u001b[0m \u001b[43m        \u001b[49m\u001b[43mview\u001b[49m\u001b[43m[\u001b[49m\u001b[43mbuffer\u001b[49m\u001b[38;5;241;43m.\u001b[39;49m\u001b[43mused\u001b[49m\u001b[43m \u001b[49m\u001b[43m:\u001b[49m\u001b[43m \u001b[49m\u001b[43mend\u001b[49m\u001b[43m]\u001b[49m\u001b[43m,\u001b[49m\u001b[43m \u001b[49m\u001b[43mend\u001b[49m\u001b[43m \u001b[49m\u001b[38;5;241;43m-\u001b[39;49m\u001b[43m \u001b[49m\u001b[43mbuffer\u001b[49m\u001b[38;5;241;43m.\u001b[39;49m\u001b[43mused\u001b[49m\n\u001b[0;32m    347\u001b[0m \u001b[43m    \u001b[49m\u001b[43m)\u001b[49m\n\u001b[0;32m    348\u001b[0m     \u001b[38;5;28;01mif\u001b[39;00m n \u001b[38;5;241m==\u001b[39m \u001b[38;5;241m0\u001b[39m:\n",
      "File \u001b[1;32m~\\anaconda3\\lib\\site-packages\\neo4j\\_async_compat\\network\\_bolt_socket.py:364\u001b[0m, in \u001b[0;36mBoltSocketBase.recv_into\u001b[1;34m(self, buffer, nbytes)\u001b[0m\n\u001b[0;32m    363\u001b[0m \u001b[38;5;28;01mdef\u001b[39;00m \u001b[38;5;21mrecv_into\u001b[39m(\u001b[38;5;28mself\u001b[39m, buffer, nbytes):\n\u001b[1;32m--> 364\u001b[0m     \u001b[38;5;28;01mreturn\u001b[39;00m \u001b[38;5;28;43mself\u001b[39;49m\u001b[38;5;241;43m.\u001b[39;49m\u001b[43m_wait_for_io\u001b[49m\u001b[43m(\u001b[49m\u001b[38;5;28;43mself\u001b[39;49m\u001b[38;5;241;43m.\u001b[39;49m\u001b[43m_socket\u001b[49m\u001b[38;5;241;43m.\u001b[39;49m\u001b[43mrecv_into\u001b[49m\u001b[43m,\u001b[49m\u001b[43m \u001b[49m\u001b[43mbuffer\u001b[49m\u001b[43m,\u001b[49m\u001b[43m \u001b[49m\u001b[43mnbytes\u001b[49m\u001b[43m)\u001b[49m\n",
      "File \u001b[1;32m~\\anaconda3\\lib\\site-packages\\neo4j\\_async_compat\\network\\_bolt_socket.py:339\u001b[0m, in \u001b[0;36mBoltSocketBase._wait_for_io\u001b[1;34m(self, func, *args, **kwargs)\u001b[0m\n\u001b[0;32m    338\u001b[0m \u001b[38;5;28;01mif\u001b[39;00m \u001b[38;5;28mself\u001b[39m\u001b[38;5;241m.\u001b[39m_deadline \u001b[38;5;129;01mis\u001b[39;00m \u001b[38;5;28;01mNone\u001b[39;00m:\n\u001b[1;32m--> 339\u001b[0m     \u001b[38;5;28;01mreturn\u001b[39;00m func(\u001b[38;5;241m*\u001b[39margs, \u001b[38;5;241m*\u001b[39m\u001b[38;5;241m*\u001b[39mkwargs)\n\u001b[0;32m    340\u001b[0m timeout \u001b[38;5;241m=\u001b[39m \u001b[38;5;28mself\u001b[39m\u001b[38;5;241m.\u001b[39m_socket\u001b[38;5;241m.\u001b[39mgettimeout()\n",
      "\u001b[1;31mConnectionAbortedError\u001b[0m: [WinError 10053] Uma ligação estabelecida foi anulada pelo software no computador anfitrião",
      "\nThe above exception was the direct cause of the following exception:\n",
      "\u001b[1;31mIncompleteCommit\u001b[0m                          Traceback (most recent call last)",
      "Cell \u001b[1;32mIn[34], line 15\u001b[0m\n\u001b[0;32m      1\u001b[0m \u001b[38;5;66;03m# Removing duplicate nodes, keeping only one\u001b[39;00m\n\u001b[0;32m      2\u001b[0m query \u001b[38;5;241m=\u001b[39m \u001b[38;5;124m\"\"\"\u001b[39m\n\u001b[0;32m      3\u001b[0m \u001b[38;5;124mMATCH (n)\u001b[39m\n\u001b[0;32m      4\u001b[0m \u001b[38;5;124mWITH n, LABELS(n) AS labels, KEYS(n) AS keys, [k IN KEYS(n) | n[k]] AS values\u001b[39m\n\u001b[1;32m   (...)\u001b[0m\n\u001b[0;32m     12\u001b[0m \u001b[38;5;124mRETURN COUNT(*) AS deleted_nodes\u001b[39m\n\u001b[0;32m     13\u001b[0m \u001b[38;5;124m\"\"\"\u001b[39m\n\u001b[1;32m---> 15\u001b[0m result \u001b[38;5;241m=\u001b[39m \u001b[43mexecute_write\u001b[49m\u001b[43m(\u001b[49m\u001b[43mdriver\u001b[49m\u001b[43m,\u001b[49m\u001b[43m \u001b[49m\u001b[43mquery\u001b[49m\u001b[43m)\u001b[49m\n\u001b[0;32m     16\u001b[0m pprint(result)\n",
      "Cell \u001b[1;32mIn[8], line 4\u001b[0m, in \u001b[0;36mexecute_write\u001b[1;34m(driver, query)\u001b[0m\n\u001b[0;32m      1\u001b[0m \u001b[38;5;28;01mdef\u001b[39;00m \u001b[38;5;21mexecute_write\u001b[39m(driver, query):\n\u001b[0;32m      2\u001b[0m     \u001b[38;5;28;01mwith\u001b[39;00m driver\u001b[38;5;241m.\u001b[39msession(database\u001b[38;5;241m=\u001b[39m\u001b[38;5;124m\"\u001b[39m\u001b[38;5;124mneo4j\u001b[39m\u001b[38;5;124m\"\u001b[39m) \u001b[38;5;28;01mas\u001b[39;00m session:\n\u001b[0;32m      3\u001b[0m         \u001b[38;5;66;03m# Write transactions allow the driver to handle retries and transient errors\u001b[39;00m\n\u001b[1;32m----> 4\u001b[0m         result \u001b[38;5;241m=\u001b[39m \u001b[43msession\u001b[49m\u001b[38;5;241;43m.\u001b[39;49m\u001b[43mexecute_write\u001b[49m\u001b[43m(\u001b[49m\u001b[38;5;28;43;01mlambda\u001b[39;49;00m\u001b[43m \u001b[49m\u001b[43mtx\u001b[49m\u001b[43m,\u001b[49m\u001b[43m \u001b[49m\u001b[43mquery\u001b[49m\u001b[43m:\u001b[49m\u001b[43m \u001b[49m\u001b[38;5;28;43mlist\u001b[39;49m\u001b[43m(\u001b[49m\u001b[43mtx\u001b[49m\u001b[38;5;241;43m.\u001b[39;49m\u001b[43mrun\u001b[49m\u001b[43m(\u001b[49m\u001b[43mquery\u001b[49m\u001b[43m)\u001b[49m\u001b[43m)\u001b[49m\u001b[43m,\u001b[49m\u001b[43m \u001b[49m\u001b[43mquery\u001b[49m\u001b[43m)\u001b[49m\n\u001b[0;32m      5\u001b[0m     \u001b[38;5;28;01mreturn\u001b[39;00m result\n",
      "File \u001b[1;32m~\\anaconda3\\lib\\site-packages\\neo4j\\_sync\\work\\session.py:803\u001b[0m, in \u001b[0;36mSession.execute_write\u001b[1;34m(self, transaction_function, *args, **kwargs)\u001b[0m\n\u001b[0;32m    750\u001b[0m \u001b[38;5;129m@NonConcurrentMethodChecker\u001b[39m\u001b[38;5;241m.\u001b[39m_non_concurrent_method\n\u001b[0;32m    751\u001b[0m \u001b[38;5;28;01mdef\u001b[39;00m \u001b[38;5;21mexecute_write\u001b[39m(\n\u001b[0;32m    752\u001b[0m     \u001b[38;5;28mself\u001b[39m,\n\u001b[1;32m   (...)\u001b[0m\n\u001b[0;32m    757\u001b[0m     \u001b[38;5;241m*\u001b[39m\u001b[38;5;241m*\u001b[39mkwargs: _P\u001b[38;5;241m.\u001b[39mkwargs,\n\u001b[0;32m    758\u001b[0m ) \u001b[38;5;241m-\u001b[39m\u001b[38;5;241m>\u001b[39m _R:\n\u001b[0;32m    759\u001b[0m \u001b[38;5;250m    \u001b[39m\u001b[38;5;124;03m\"\"\"\u001b[39;00m\n\u001b[0;32m    760\u001b[0m \u001b[38;5;124;03m    Execute a unit of work in a managed write transaction.\u001b[39;00m\n\u001b[0;32m    761\u001b[0m \n\u001b[1;32m   (...)\u001b[0m\n\u001b[0;32m    801\u001b[0m \u001b[38;5;124;03m    .. versionadded:: 5.0\u001b[39;00m\n\u001b[0;32m    802\u001b[0m \u001b[38;5;124;03m    \"\"\"\u001b[39;00m  \u001b[38;5;66;03m# noqa: E501 example code isn't too long\u001b[39;00m\n\u001b[1;32m--> 803\u001b[0m     \u001b[38;5;28;01mreturn\u001b[39;00m \u001b[38;5;28;43mself\u001b[39;49m\u001b[38;5;241;43m.\u001b[39;49m\u001b[43m_run_transaction\u001b[49m\u001b[43m(\u001b[49m\n\u001b[0;32m    804\u001b[0m \u001b[43m        \u001b[49m\u001b[43mWRITE_ACCESS\u001b[49m\u001b[43m,\u001b[49m\n\u001b[0;32m    805\u001b[0m \u001b[43m        \u001b[49m\u001b[43mTelemetryAPI\u001b[49m\u001b[38;5;241;43m.\u001b[39;49m\u001b[43mTX_FUNC\u001b[49m\u001b[43m,\u001b[49m\n\u001b[0;32m    806\u001b[0m \u001b[43m        \u001b[49m\u001b[43mtransaction_function\u001b[49m\u001b[43m,\u001b[49m\n\u001b[0;32m    807\u001b[0m \u001b[43m        \u001b[49m\u001b[43margs\u001b[49m\u001b[43m,\u001b[49m\n\u001b[0;32m    808\u001b[0m \u001b[43m        \u001b[49m\u001b[43mkwargs\u001b[49m\u001b[43m,\u001b[49m\n\u001b[0;32m    809\u001b[0m \u001b[43m    \u001b[49m\u001b[43m)\u001b[49m\n",
      "File \u001b[1;32m~\\anaconda3\\lib\\site-packages\\neo4j\\_sync\\work\\session.py:595\u001b[0m, in \u001b[0;36mSession._run_transaction\u001b[1;34m(self, access_mode, api, transaction_function, args, kwargs)\u001b[0m\n\u001b[0;32m    593\u001b[0m         \u001b[38;5;28;01mraise\u001b[39;00m\n\u001b[0;32m    594\u001b[0m     \u001b[38;5;28;01melse\u001b[39;00m:\n\u001b[1;32m--> 595\u001b[0m         \u001b[43mtx\u001b[49m\u001b[38;5;241;43m.\u001b[39;49m\u001b[43m_commit\u001b[49m\u001b[43m(\u001b[49m\u001b[43m)\u001b[49m\n\u001b[0;32m    596\u001b[0m \u001b[38;5;28;01mexcept\u001b[39;00m (DriverError, Neo4jError) \u001b[38;5;28;01mas\u001b[39;00m error:\n\u001b[0;32m    597\u001b[0m     \u001b[38;5;28mself\u001b[39m\u001b[38;5;241m.\u001b[39m_disconnect()\n",
      "File \u001b[1;32m~\\anaconda3\\lib\\site-packages\\neo4j\\_sync\\work\\transaction.py:225\u001b[0m, in \u001b[0;36mTransactionBase._commit\u001b[1;34m(self)\u001b[0m\n\u001b[0;32m    223\u001b[0m \u001b[38;5;28mself\u001b[39m\u001b[38;5;241m.\u001b[39m_connection\u001b[38;5;241m.\u001b[39mcommit(on_success\u001b[38;5;241m=\u001b[39mmetadata\u001b[38;5;241m.\u001b[39mupdate)\n\u001b[0;32m    224\u001b[0m \u001b[38;5;28mself\u001b[39m\u001b[38;5;241m.\u001b[39m_connection\u001b[38;5;241m.\u001b[39msend_all()\n\u001b[1;32m--> 225\u001b[0m \u001b[38;5;28;43mself\u001b[39;49m\u001b[38;5;241;43m.\u001b[39;49m\u001b[43m_connection\u001b[49m\u001b[38;5;241;43m.\u001b[39;49m\u001b[43mfetch_all\u001b[49m\u001b[43m(\u001b[49m\u001b[43m)\u001b[49m\n\u001b[0;32m    226\u001b[0m \u001b[38;5;28mself\u001b[39m\u001b[38;5;241m.\u001b[39m_bookmark \u001b[38;5;241m=\u001b[39m metadata\u001b[38;5;241m.\u001b[39mget(\u001b[38;5;124m\"\u001b[39m\u001b[38;5;124mbookmark\u001b[39m\u001b[38;5;124m\"\u001b[39m)\n\u001b[0;32m    227\u001b[0m \u001b[38;5;28mself\u001b[39m\u001b[38;5;241m.\u001b[39m_database \u001b[38;5;241m=\u001b[39m metadata\u001b[38;5;241m.\u001b[39mget(\u001b[38;5;124m\"\u001b[39m\u001b[38;5;124mdb\u001b[39m\u001b[38;5;124m\"\u001b[39m, \u001b[38;5;28mself\u001b[39m\u001b[38;5;241m.\u001b[39m_database)\n",
      "File \u001b[1;32m~\\anaconda3\\lib\\site-packages\\neo4j\\_sync\\io\\_bolt.py:879\u001b[0m, in \u001b[0;36mBolt.fetch_all\u001b[1;34m(self)\u001b[0m\n\u001b[0;32m    877\u001b[0m response \u001b[38;5;241m=\u001b[39m \u001b[38;5;28mself\u001b[39m\u001b[38;5;241m.\u001b[39mresponses[\u001b[38;5;241m0\u001b[39m]\n\u001b[0;32m    878\u001b[0m \u001b[38;5;28;01mwhile\u001b[39;00m \u001b[38;5;129;01mnot\u001b[39;00m response\u001b[38;5;241m.\u001b[39mcomplete:\n\u001b[1;32m--> 879\u001b[0m     detail_delta, summary_delta \u001b[38;5;241m=\u001b[39m \u001b[38;5;28;43mself\u001b[39;49m\u001b[38;5;241;43m.\u001b[39;49m\u001b[43mfetch_message\u001b[49m\u001b[43m(\u001b[49m\u001b[43m)\u001b[49m\n\u001b[0;32m    880\u001b[0m     detail_count \u001b[38;5;241m+\u001b[39m\u001b[38;5;241m=\u001b[39m detail_delta\n\u001b[0;32m    881\u001b[0m     summary_count \u001b[38;5;241m+\u001b[39m\u001b[38;5;241m=\u001b[39m summary_delta\n",
      "File \u001b[1;32m~\\anaconda3\\lib\\site-packages\\neo4j\\_sync\\io\\_bolt.py:861\u001b[0m, in \u001b[0;36mBolt.fetch_message\u001b[1;34m(self)\u001b[0m\n\u001b[0;32m    858\u001b[0m     \u001b[38;5;28;01mreturn\u001b[39;00m \u001b[38;5;241m0\u001b[39m, \u001b[38;5;241m0\u001b[39m\n\u001b[0;32m    860\u001b[0m \u001b[38;5;66;03m# Receive exactly one message\u001b[39;00m\n\u001b[1;32m--> 861\u001b[0m tag, fields \u001b[38;5;241m=\u001b[39m \u001b[38;5;28;43mself\u001b[39;49m\u001b[38;5;241;43m.\u001b[39;49m\u001b[43minbox\u001b[49m\u001b[38;5;241;43m.\u001b[39;49m\u001b[43mpop\u001b[49m\u001b[43m(\u001b[49m\n\u001b[0;32m    862\u001b[0m \u001b[43m    \u001b[49m\u001b[43mhydration_hooks\u001b[49m\u001b[38;5;241;43m=\u001b[39;49m\u001b[38;5;28;43mself\u001b[39;49m\u001b[38;5;241;43m.\u001b[39;49m\u001b[43mresponses\u001b[49m\u001b[43m[\u001b[49m\u001b[38;5;241;43m0\u001b[39;49m\u001b[43m]\u001b[49m\u001b[38;5;241;43m.\u001b[39;49m\u001b[43mhydration_hooks\u001b[49m\n\u001b[0;32m    863\u001b[0m \u001b[43m\u001b[49m\u001b[43m)\u001b[49m\n\u001b[0;32m    864\u001b[0m res \u001b[38;5;241m=\u001b[39m \u001b[38;5;28mself\u001b[39m\u001b[38;5;241m.\u001b[39m_process_message(tag, fields)\n\u001b[0;32m    865\u001b[0m \u001b[38;5;28mself\u001b[39m\u001b[38;5;241m.\u001b[39midle_since \u001b[38;5;241m=\u001b[39m monotonic()\n",
      "File \u001b[1;32m~\\anaconda3\\lib\\site-packages\\neo4j\\_sync\\io\\_common.py:77\u001b[0m, in \u001b[0;36mInbox.pop\u001b[1;34m(self, hydration_hooks)\u001b[0m\n\u001b[0;32m     76\u001b[0m \u001b[38;5;28;01mdef\u001b[39;00m \u001b[38;5;21mpop\u001b[39m(\u001b[38;5;28mself\u001b[39m, hydration_hooks):\n\u001b[1;32m---> 77\u001b[0m     \u001b[38;5;28;43mself\u001b[39;49m\u001b[38;5;241;43m.\u001b[39;49m\u001b[43m_buffer_one_chunk\u001b[49m\u001b[43m(\u001b[49m\u001b[43m)\u001b[49m\n\u001b[0;32m     78\u001b[0m     \u001b[38;5;28;01mtry\u001b[39;00m:\n\u001b[0;32m     79\u001b[0m         size, tag \u001b[38;5;241m=\u001b[39m \u001b[38;5;28mself\u001b[39m\u001b[38;5;241m.\u001b[39m_unpacker\u001b[38;5;241m.\u001b[39munpack_structure_header()\n",
      "File \u001b[1;32m~\\anaconda3\\lib\\site-packages\\neo4j\\_sync\\io\\_common.py:73\u001b[0m, in \u001b[0;36mInbox._buffer_one_chunk\u001b[1;34m(self)\u001b[0m\n\u001b[0;32m     67\u001b[0m \u001b[38;5;28;01mexcept\u001b[39;00m (\n\u001b[0;32m     68\u001b[0m     \u001b[38;5;167;01mOSError\u001b[39;00m,\n\u001b[0;32m     69\u001b[0m     SocketDeadlineExceededError,\n\u001b[0;32m     70\u001b[0m     asyncio\u001b[38;5;241m.\u001b[39mCancelledError,\n\u001b[0;32m     71\u001b[0m ) \u001b[38;5;28;01mas\u001b[39;00m error:\n\u001b[0;32m     72\u001b[0m     \u001b[38;5;28mself\u001b[39m\u001b[38;5;241m.\u001b[39m_broken \u001b[38;5;241m=\u001b[39m \u001b[38;5;28;01mTrue\u001b[39;00m\n\u001b[1;32m---> 73\u001b[0m     \u001b[43mUtil\u001b[49m\u001b[38;5;241;43m.\u001b[39;49m\u001b[43mcallback\u001b[49m\u001b[43m(\u001b[49m\u001b[38;5;28;43mself\u001b[39;49m\u001b[38;5;241;43m.\u001b[39;49m\u001b[43mon_error\u001b[49m\u001b[43m,\u001b[49m\u001b[43m \u001b[49m\u001b[43merror\u001b[49m\u001b[43m)\u001b[49m\n\u001b[0;32m     74\u001b[0m     \u001b[38;5;28;01mraise\u001b[39;00m\n",
      "File \u001b[1;32m~\\anaconda3\\lib\\site-packages\\neo4j\\_async_compat\\util.py:117\u001b[0m, in \u001b[0;36mUtil.callback\u001b[1;34m(cb, *args, **kwargs)\u001b[0m\n\u001b[0;32m    114\u001b[0m \u001b[38;5;129m@staticmethod\u001b[39m\n\u001b[0;32m    115\u001b[0m \u001b[38;5;28;01mdef\u001b[39;00m \u001b[38;5;21mcallback\u001b[39m(cb, \u001b[38;5;241m*\u001b[39margs, \u001b[38;5;241m*\u001b[39m\u001b[38;5;241m*\u001b[39mkwargs):\n\u001b[0;32m    116\u001b[0m     \u001b[38;5;28;01mif\u001b[39;00m \u001b[38;5;28mcallable\u001b[39m(cb):\n\u001b[1;32m--> 117\u001b[0m         \u001b[38;5;28;01mreturn\u001b[39;00m cb(\u001b[38;5;241m*\u001b[39margs, \u001b[38;5;241m*\u001b[39m\u001b[38;5;241m*\u001b[39mkwargs)\n\u001b[0;32m    118\u001b[0m     \u001b[38;5;28;01mreturn\u001b[39;00m \u001b[38;5;28;01mNone\u001b[39;00m\n",
      "File \u001b[1;32m~\\anaconda3\\lib\\site-packages\\neo4j\\_sync\\io\\_bolt.py:889\u001b[0m, in \u001b[0;36mBolt._set_defunct_read\u001b[1;34m(self, error, silent)\u001b[0m\n\u001b[0;32m    884\u001b[0m \u001b[38;5;28;01mdef\u001b[39;00m \u001b[38;5;21m_set_defunct_read\u001b[39m(\u001b[38;5;28mself\u001b[39m, error\u001b[38;5;241m=\u001b[39m\u001b[38;5;28;01mNone\u001b[39;00m, silent\u001b[38;5;241m=\u001b[39m\u001b[38;5;28;01mFalse\u001b[39;00m):\n\u001b[0;32m    885\u001b[0m     message \u001b[38;5;241m=\u001b[39m (\n\u001b[0;32m    886\u001b[0m         \u001b[38;5;124m\"\u001b[39m\u001b[38;5;124mFailed to read from defunct connection \u001b[39m\u001b[38;5;124m\"\u001b[39m\n\u001b[0;32m    887\u001b[0m         \u001b[38;5;124mf\u001b[39m\u001b[38;5;124m\"\u001b[39m\u001b[38;5;132;01m{\u001b[39;00m\u001b[38;5;28mself\u001b[39m\u001b[38;5;241m.\u001b[39munresolved_address\u001b[38;5;132;01m!r}\u001b[39;00m\u001b[38;5;124m (\u001b[39m\u001b[38;5;132;01m{\u001b[39;00m\u001b[38;5;28mself\u001b[39m\u001b[38;5;241m.\u001b[39mserver_info\u001b[38;5;241m.\u001b[39maddress\u001b[38;5;132;01m!r}\u001b[39;00m\u001b[38;5;124m)\u001b[39m\u001b[38;5;124m\"\u001b[39m\n\u001b[0;32m    888\u001b[0m     )\n\u001b[1;32m--> 889\u001b[0m     \u001b[38;5;28;43mself\u001b[39;49m\u001b[38;5;241;43m.\u001b[39;49m\u001b[43m_set_defunct\u001b[49m\u001b[43m(\u001b[49m\u001b[43mmessage\u001b[49m\u001b[43m,\u001b[49m\u001b[43m \u001b[49m\u001b[43merror\u001b[49m\u001b[38;5;241;43m=\u001b[39;49m\u001b[43merror\u001b[49m\u001b[43m,\u001b[49m\u001b[43m \u001b[49m\u001b[43msilent\u001b[49m\u001b[38;5;241;43m=\u001b[39;49m\u001b[43msilent\u001b[49m\u001b[43m)\u001b[49m\n",
      "File \u001b[1;32m~\\anaconda3\\lib\\site-packages\\neo4j\\_sync\\io\\_bolt.py:943\u001b[0m, in \u001b[0;36mBolt._set_defunct\u001b[1;34m(self, message, error, silent)\u001b[0m\n\u001b[0;32m    941\u001b[0m \u001b[38;5;28;01mif\u001b[39;00m \u001b[38;5;28misinstance\u001b[39m(response, CommitResponse):\n\u001b[0;32m    942\u001b[0m     \u001b[38;5;28;01mif\u001b[39;00m error:\n\u001b[1;32m--> 943\u001b[0m         \u001b[38;5;28;01mraise\u001b[39;00m IncompleteCommit(message) \u001b[38;5;28;01mfrom\u001b[39;00m \u001b[38;5;21;01merror\u001b[39;00m\n\u001b[0;32m    944\u001b[0m     \u001b[38;5;28;01melse\u001b[39;00m:\n\u001b[0;32m    945\u001b[0m         \u001b[38;5;28;01mraise\u001b[39;00m IncompleteCommit(message)\n",
      "\u001b[1;31mIncompleteCommit\u001b[0m: Failed to read from defunct connection IPv4Address(('localhost', 7687)) (ResolvedIPv6Address(('::1', 7687, 0, 0)))"
     ]
    }
   ],
   "source": [
    "# Removing duplicate nodes, keeping only one\n",
    "query = \"\"\"\n",
    "MATCH (n)\n",
    "WITH n, LABELS(n) AS labels, KEYS(n) AS keys, [k IN KEYS(n) | n[k]] AS values\n",
    "WITH labels, values, COLLECT(n) AS nodes\n",
    "WHERE SIZE(nodes) > 1\n",
    "CALL {\n",
    "  WITH nodes\n",
    "  UNWIND nodes[1..] AS duplicate  // Keep the first node, delete the rest\n",
    "  DETACH DELETE duplicate\n",
    "}\n",
    "RETURN COUNT(*) AS deleted_nodes\n",
    "\"\"\"\n",
    "\n",
    "result = execute_write(driver, query)\n",
    "pprint(result)"
   ]
  },
  {
   "cell_type": "code",
   "execution_count": null,
   "metadata": {},
   "outputs": [],
   "source": [
    "# Checking results\n",
    "\n",
    "# Collecting the nodes and identifying duplicates\n",
    "\n",
    "query = \"\"\"\n",
    "MATCH (n)\n",
    "WITH n, LABELS(n) AS labels, KEYS(n) AS keys, [k IN KEYS(n) | n[k]] AS values\n",
    "WITH labels, values, COLLECT(n) AS nodes\n",
    "WHERE SIZE(nodes) > 1\n",
    "RETURN labels, values, nodes\n",
    "\"\"\"\n",
    "\n",
    "result = execute_read(driver, query)\n",
    "pprint(result)"
   ]
  },
  {
   "cell_type": "markdown",
   "metadata": {},
   "source": [
    "### Do all BEERS have at least one BREWERY associated? Check ´brewery_id´ property"
   ]
  },
  {
   "cell_type": "code",
   "execution_count": null,
   "metadata": {},
   "outputs": [],
   "source": [
    "# Checking if all BEERS have BREWERY associated\n",
    "query = \"\"\"\n",
    "MATCH (b:BEERS)\n",
    "WHERE NOT EXISTS(b.brewery_id) OR b.brewery_id IS NULL\n",
    "RETURN b\n",
    "\"\"\"\n",
    "\n",
    "result = execute_read(driver, query)\n",
    "pprint(result)"
   ]
  },
  {
   "cell_type": "markdown",
   "metadata": {},
   "source": [
    "- Since all BEERS have a BREWERY associated, we do not need to make any changes here."
   ]
  },
  {
   "cell_type": "markdown",
   "metadata": {},
   "source": [
    "### Changing [POSTED] to [POSTED_BY]"
   ]
  },
  {
   "cell_type": "code",
   "execution_count": 26,
   "metadata": {},
   "outputs": [
    {
     "name": "stdout",
     "output_type": "stream",
     "text": [
      "[<Record COUNT(r)=0>]\n"
     ]
    }
   ],
   "source": [
    "# Initial [POSTED] relationships\n",
    "query = \"\"\"\n",
    "MATCH (re:REVIEWS)-[r:POSTED]->(u:USER)\n",
    "RETURN COUNT(r)\n",
    "\"\"\"\n",
    "\n",
    "result = execute_read(driver, query)\n",
    "pprint(result)"
   ]
  },
  {
   "cell_type": "code",
   "execution_count": 39,
   "metadata": {},
   "outputs": [
    {
     "name": "stdout",
     "output_type": "stream",
     "text": [
      "Result:[<Record deletedCount=100000>]\n",
      "Time taken for this iteration: 21.04 seconds\n",
      "Result:[<Record deletedCount=100000>]\n",
      "Time taken for this iteration: 25.79 seconds\n",
      "Result:[<Record deletedCount=100000>]\n",
      "Time taken for this iteration: 25.99 seconds\n",
      "Result:[<Record deletedCount=100000>]\n",
      "Time taken for this iteration: 33.51 seconds\n",
      "Result:[<Record deletedCount=100000>]\n",
      "Time taken for this iteration: 25.81 seconds\n",
      "Result:[<Record deletedCount=100000>]\n",
      "Time taken for this iteration: 25.8 seconds\n",
      "Result:[<Record deletedCount=100000>]\n",
      "Time taken for this iteration: 26.2 seconds\n",
      "Result:[<Record deletedCount=100000>]\n",
      "Time taken for this iteration: 25.96 seconds\n",
      "Result:[<Record deletedCount=100000>]\n",
      "Time taken for this iteration: 26.05 seconds\n",
      "Result:[<Record deletedCount=100000>]\n",
      "Time taken for this iteration: 26.55 seconds\n",
      "Result:[<Record deletedCount=100000>]\n",
      "Time taken for this iteration: 25.97 seconds\n",
      "Result:[<Record deletedCount=100000>]\n",
      "Time taken for this iteration: 35.44 seconds\n",
      "Result:[<Record deletedCount=100000>]\n",
      "Time taken for this iteration: 26.48 seconds\n",
      "Result:[<Record deletedCount=100000>]\n",
      "Time taken for this iteration: 25.95 seconds\n",
      "Result:[<Record deletedCount=100000>]\n",
      "Time taken for this iteration: 25.49 seconds\n",
      "Result:[<Record deletedCount=100000>]\n",
      "Time taken for this iteration: 25.82 seconds\n",
      "Result:[<Record deletedCount=100000>]\n",
      "Time taken for this iteration: 26.02 seconds\n",
      "Result:[<Record deletedCount=100000>]\n",
      "Time taken for this iteration: 25.88 seconds\n",
      "Result:[<Record deletedCount=100000>]\n",
      "Time taken for this iteration: 25.78 seconds\n",
      "Result:[<Record deletedCount=100000>]\n",
      "Time taken for this iteration: 34.89 seconds\n",
      "Result:[<Record deletedCount=100000>]\n",
      "Time taken for this iteration: 29.9 seconds\n",
      "Result:[<Record deletedCount=100000>]\n",
      "Time taken for this iteration: 29.03 seconds\n",
      "Result:[<Record deletedCount=100000>]\n",
      "Time taken for this iteration: 27.88 seconds\n",
      "Result:[<Record deletedCount=100000>]\n",
      "Time taken for this iteration: 26.18 seconds\n",
      "Result:[<Record deletedCount=100000>]\n",
      "Time taken for this iteration: 19.5 seconds\n",
      "Result:[<Record deletedCount=38044>]\n",
      "Time taken for this iteration: 6.59 seconds\n",
      "Result:[<Record deletedCount=0>]\n",
      "Time taken for this iteration: 0.17 seconds\n"
     ]
    }
   ],
   "source": [
    "deleted_count = 1\n",
    "\n",
    "query = \"\"\" \n",
    "MATCH (re:REVIEWS)-[r:POSTED]->(u:USER)\n",
    "WITH re, u, r LIMIT 100000  \n",
    "CREATE (re) -[:POSTED_BY {}] -> (u)\n",
    "DELETE r\n",
    "RETURN COUNT(r) AS deletedCount\n",
    "\"\"\"\n",
    "\n",
    "while deleted_count != 0:\n",
    "    start_time = time.time()\n",
    "\n",
    "    result = execute_write(driver, query)\n",
    "\n",
    "    print(f\"Result:{result}\")\n",
    "    \n",
    "    end_time = time.time()\n",
    "    \n",
    "    run_time = end_time - start_time\n",
    "\n",
    "    print(f\"Time taken for this iteration: {round(run_time,2)} seconds\")\n",
    "    \n",
    "    deleted_count = result[0][0]"
   ]
  },
  {
   "cell_type": "code",
   "execution_count": 41,
   "metadata": {},
   "outputs": [
    {
     "name": "stdout",
     "output_type": "stream",
     "text": [
      "[<Record relationship_type='POSTED_BY'>]\n"
     ]
    }
   ],
   "source": [
    "# Checking final result\n",
    "query = \"\"\"\n",
    "MATCH (re:REVIEWS)-[r]->(u:USER)\n",
    "RETURN DISTINCT type(r) AS relationship_type\n",
    "\"\"\"\n",
    "\n",
    "result = execute_read(driver, query)\n",
    "pprint(result)"
   ]
  },
  {
   "cell_type": "code",
   "execution_count": 28,
   "metadata": {},
   "outputs": [
    {
     "name": "stdout",
     "output_type": "stream",
     "text": [
      "[<Record COUNT(r)=2538044>]\n"
     ]
    }
   ],
   "source": [
    "query = \"\"\"\n",
    "MATCH (re:REVIEWS)-[r:POSTED_BY]->(u:USER)\n",
    "RETURN COUNT(r)\n",
    "\"\"\"\n",
    "\n",
    "result = execute_read(driver, query)\n",
    "pprint(result)"
   ]
  },
  {
   "cell_type": "markdown",
   "metadata": {},
   "source": [
    "We have successfully replaced the [POSTED] relationship by [POSTED_BY]."
   ]
  },
  {
   "cell_type": "markdown",
   "metadata": {},
   "source": [
    "### Creating [BEERS] - [AVAILABLE_IN] - [COUNTRIES]"
   ]
  },
  {
   "cell_type": "code",
   "execution_count": 30,
   "metadata": {},
   "outputs": [
    {
     "name": "stdout",
     "output_type": "stream",
     "text": [
      "[]\n"
     ]
    }
   ],
   "source": [
    "# Creating new relationship\n",
    "\n",
    "query = \"\"\"\n",
    "MATCH (b:BREWERIES)-[:IN]->(c:COUNTRIES), (b)-[:BREWED]->(beer:BEERS)\n",
    "MERGE (beer)-[:AVAILABLE_IN]->(c)\n",
    "\"\"\"\n",
    "\n",
    "result = execute_write(driver, query)\n",
    "pprint(result)"
   ]
  },
  {
   "cell_type": "code",
   "execution_count": 32,
   "metadata": {},
   "outputs": [
    {
     "name": "stdout",
     "output_type": "stream",
     "text": [
      "[<Record relationship_type='IN' start_node_labels=['CITIES'] end_node_labels=['COUNTRIES']>,\n",
      " <Record relationship_type='BREWED' start_node_labels=['BREWERIES'] end_node_labels=['BEERS']>,\n",
      " <Record relationship_type='IN' start_node_labels=['BREWERIES'] end_node_labels=['CITIES']>,\n",
      " <Record relationship_type='HAS_STYLE' start_node_labels=['BEERS'] end_node_labels=['STYLE']>,\n",
      " <Record relationship_type='REVIEWED' start_node_labels=['BEERS'] end_node_labels=['REVIEWS']>,\n",
      " <Record relationship_type='POSTED_BY' start_node_labels=['REVIEWS'] end_node_labels=['USER']>]\n"
     ]
    }
   ],
   "source": [
    "# Checking all one-directional relationships after creating this one\n",
    "\n",
    "query = \"\"\"\n",
    "MATCH (a)-[r]->(b)\n",
    "WHERE NOT EXISTS {\n",
    "    MATCH (b)-[r_reverse]->(a)\n",
    "}\n",
    "RETURN DISTINCT\n",
    "  type(r) AS relationship_type,\n",
    "  labels(a) AS start_node_labels,\n",
    "  labels(b) AS end_node_labels\n",
    "\"\"\"\n",
    "\n",
    "result = execute_read(driver, query)\n",
    "\n",
    "pprint(result)"
   ]
  },
  {
   "cell_type": "code",
   "execution_count": 47,
   "metadata": {},
   "outputs": [
    {
     "name": "stdout",
     "output_type": "stream",
     "text": [
      "[<Record nodes=[<Node element_id='-21' labels=frozenset({'REVIEWS'}) properties={'name': 'REVIEWS', 'indexes': ['id'], 'constraints': []}>, <Node element_id='-20' labels=frozenset({'BEERS'}) properties={'name': 'BEERS', 'indexes': ['id'], 'constraints': []}>, <Node element_id='-17' labels=frozenset({'COUNTRIES'}) properties={'name': 'COUNTRIES', 'indexes': ['name'], 'constraints': []}>, <Node element_id='-19' labels=frozenset({'BREWERIES'}) properties={'name': 'BREWERIES', 'indexes': ['id'], 'constraints': []}>, <Node element_id='-22' labels=frozenset({'STYLE'}) properties={'name': 'STYLE', 'indexes': ['name'], 'constraints': []}>, <Node element_id='-18' labels=frozenset({'CITIES'}) properties={'name': 'CITIES', 'indexes': ['name'], 'constraints': []}>, <Node element_id='-23' labels=frozenset({'USER'}) properties={'name': 'USER', 'indexes': ['name'], 'constraints': []}>, <Node element_id='-24' labels=frozenset({'USERS'}) properties={'name': 'USERS', 'indexes': ['name'], 'constraints': []}>] relationships=[<Relationship element_id='-17' nodes=(<Node element_id='-20' labels=frozenset({'BEERS'}) properties={'name': 'BEERS', 'indexes': ['id'], 'constraints': []}>, <Node element_id='-21' labels=frozenset({'REVIEWS'}) properties={'name': 'REVIEWS', 'indexes': ['id'], 'constraints': []}>) type='REVIEWED' properties={}>, <Relationship element_id='-18' nodes=(<Node element_id='-19' labels=frozenset({'BREWERIES'}) properties={'name': 'BREWERIES', 'indexes': ['id'], 'constraints': []}>, <Node element_id='-20' labels=frozenset({'BEERS'}) properties={'name': 'BEERS', 'indexes': ['id'], 'constraints': []}>) type='BREWED' properties={}>, <Relationship element_id='-21' nodes=(<Node element_id='-19' labels=frozenset({'BREWERIES'}) properties={'name': 'BREWERIES', 'indexes': ['id'], 'constraints': []}>, <Node element_id='-17' labels=frozenset({'COUNTRIES'}) properties={'name': 'COUNTRIES', 'indexes': ['name'], 'constraints': []}>) type='IN' properties={}>, <Relationship element_id='-22' nodes=(<Node element_id='-19' labels=frozenset({'BREWERIES'}) properties={'name': 'BREWERIES', 'indexes': ['id'], 'constraints': []}>, <Node element_id='-18' labels=frozenset({'CITIES'}) properties={'name': 'CITIES', 'indexes': ['name'], 'constraints': []}>) type='IN' properties={}>, <Relationship element_id='-19' nodes=(<Node element_id='-18' labels=frozenset({'CITIES'}) properties={'name': 'CITIES', 'indexes': ['name'], 'constraints': []}>, <Node element_id='-17' labels=frozenset({'COUNTRIES'}) properties={'name': 'COUNTRIES', 'indexes': ['name'], 'constraints': []}>) type='IN' properties={}>, <Relationship element_id='-20' nodes=(<Node element_id='-18' labels=frozenset({'CITIES'}) properties={'name': 'CITIES', 'indexes': ['name'], 'constraints': []}>, <Node element_id='-18' labels=frozenset({'CITIES'}) properties={'name': 'CITIES', 'indexes': ['name'], 'constraints': []}>) type='IN' properties={}>, <Relationship element_id='-23' nodes=(<Node element_id='-20' labels=frozenset({'BEERS'}) properties={'name': 'BEERS', 'indexes': ['id'], 'constraints': []}>, <Node element_id='-22' labels=frozenset({'STYLE'}) properties={'name': 'STYLE', 'indexes': ['name'], 'constraints': []}>) type='HAS_STYLE' properties={}>, <Relationship element_id='-24' nodes=(<Node element_id='-21' labels=frozenset({'REVIEWS'}) properties={'name': 'REVIEWS', 'indexes': ['id'], 'constraints': []}>, <Node element_id='-23' labels=frozenset({'USER'}) properties={'name': 'USER', 'indexes': ['name'], 'constraints': []}>) type='POSTED_BY' properties={}>]>]\n"
     ]
    }
   ],
   "source": [
    "# Final schema visualization\n",
    "\n",
    "query = \"\"\"\n",
    "    call db.schema.visualization;\n",
    "    \"\"\"\n",
    "\n",
    "result = execute_read(driver, query)\n",
    "\n",
    "pprint(result)\n"
   ]
  },
  {
   "cell_type": "markdown",
   "metadata": {},
   "source": [
    "### **Summary of Changes to Dabatase**\n",
    "- Created a link between BEERS and COUNTRIES \n",
    "- Deleted isolated nodes that could not be connected\n",
    "- Deleted all duplicated nodes."
   ]
  },
  {
   "cell_type": "markdown",
   "metadata": {},
   "source": [
    "# How many reviews has the beer with the most reviews?"
   ]
  },
  {
   "cell_type": "code",
   "execution_count": 49,
   "metadata": {},
   "outputs": [
    {
     "name": "stdout",
     "output_type": "stream",
     "text": [
      "[<Record b.name='Breakfast Stout' review_count=4833>]\n"
     ]
    }
   ],
   "source": [
    "query = \"\"\"\n",
    "        MATCH (b:BEERS)-[r]->(:REVIEWS)\n",
    "        WITH b, count(r) AS review_count\n",
    "        ORDER BY review_count DESC\n",
    "        LIMIT 1\n",
    "        RETURN b.name, review_count\n",
    "\n",
    "\n",
    "    \"\"\"\n",
    "\n",
    "result = execute_read(driver, query)\n",
    "pprint(result)\n"
   ]
  },
  {
   "cell_type": "markdown",
   "metadata": {},
   "source": [
    "OR"
   ]
  },
  {
   "cell_type": "code",
   "execution_count": 51,
   "metadata": {},
   "outputs": [
    {
     "name": "stdout",
     "output_type": "stream",
     "text": [
      "[<Record beer_name='IPA' review_count=8771>]\n"
     ]
    }
   ],
   "source": [
    "query = \"\"\"\n",
    "        MATCH (b:BEERS)-[r]->(:REVIEWS)\n",
    "        WITH b.name AS beer_name, count(r) AS review_count\n",
    "        ORDER BY review_count DESC\n",
    "        LIMIT 1 \n",
    "        RETURN beer_name, review_count\n",
    "\n",
    "    \"\"\"\n",
    "\n",
    "result = execute_read(driver, query)\n",
    "pprint(result)"
   ]
  },
  {
   "cell_type": "markdown",
   "metadata": {},
   "source": [
    "## Which three users wrote the most reviews about beers?"
   ]
  },
  {
   "cell_type": "code",
   "execution_count": 53,
   "metadata": {},
   "outputs": [
    {
     "name": "stdout",
     "output_type": "stream",
     "text": [
      "[]\n"
     ]
    }
   ],
   "source": [
    "query = \"\"\"\n",
    "        MATCH (r:REVIEWS)-[p:POSTED]->(u:USER)\n",
    "        WITH u, count(r) AS review_count\n",
    "        ORDER BY review_count DESC\n",
    "        LIMIT 3\n",
    "        RETURN u.name\n",
    "    \"\"\"\n",
    "\n",
    "result = execute_read(driver, query)\n",
    "pprint(result)"
   ]
  },
  {
   "cell_type": "markdown",
   "metadata": {},
   "source": [
    "## *REVIEW* Find all beers that are described with following words: 'fruit', 'complex', 'nutty', 'dark'. *REVIEW*"
   ]
  },
  {
   "cell_type": "code",
   "execution_count": 249,
   "metadata": {},
   "outputs": [
    {
     "ename": "NameError",
     "evalue": "name 'words' is not defined",
     "output_type": "error",
     "traceback": [
      "\u001b[1;31m---------------------------------------------------------------------------\u001b[0m",
      "\u001b[1;31mNameError\u001b[0m                                 Traceback (most recent call last)",
      "Cell \u001b[1;32mIn[249], line 4\u001b[0m\n\u001b[0;32m      1\u001b[0m \u001b[38;5;66;03m#words = ['fruit', 'complex', 'nutty', 'dark']\u001b[39;00m\n\u001b[0;32m      3\u001b[0m query \u001b[38;5;241m=\u001b[39m \u001b[38;5;124mf\u001b[39m\u001b[38;5;124m\"\"\"\u001b[39m\n\u001b[1;32m----> 4\u001b[0m \u001b[38;5;124m        WITH \u001b[39m\u001b[38;5;132;01m{\u001b[39;00mwords\u001b[38;5;132;01m}\u001b[39;00m\u001b[38;5;124m AS words\u001b[39m\n\u001b[0;32m      5\u001b[0m \n\u001b[0;32m      6\u001b[0m \u001b[38;5;124m        MATCH (u:BEERS)-[r:REVIEWED]->(rs:REVIEWS)\u001b[39m\n\u001b[0;32m      7\u001b[0m \u001b[38;5;124m        \u001b[39m\n\u001b[0;32m      8\u001b[0m \n\u001b[0;32m      9\u001b[0m \u001b[38;5;124m        WHERE any(word IN words WHERE rs.text CONTAINS word)\u001b[39m\n\u001b[0;32m     10\u001b[0m \n\u001b[0;32m     11\u001b[0m \u001b[38;5;124m        RETURN DISTINCT u.name\u001b[39m\n\u001b[0;32m     12\u001b[0m \u001b[38;5;124m    \u001b[39m\u001b[38;5;124m\"\"\"\u001b[39m\n\u001b[0;32m     14\u001b[0m result \u001b[38;5;241m=\u001b[39m execute_read(driver, query)\n\u001b[0;32m     16\u001b[0m pprint(result)\n",
      "\u001b[1;31mNameError\u001b[0m: name 'words' is not defined"
     ]
    }
   ],
   "source": [
    "#words = ['fruit', 'complex', 'nutty', 'dark']\n",
    "\n",
    "query = f\"\"\"\n",
    "        WITH {words} AS words\n",
    "\n",
    "        MATCH (u:BEERS)-[r:REVIEWED]->(rs:REVIEWS)\n",
    "        \n",
    "\n",
    "        WHERE any(word IN words WHERE rs.text CONTAINS word)\n",
    "\n",
    "        RETURN DISTINCT u.name\n",
    "    \"\"\"\n",
    "\n",
    "result = execute_read(driver, query)\n",
    "\n",
    "pprint(result)"
   ]
  },
  {
   "cell_type": "markdown",
   "metadata": {},
   "source": [
    "## Which top three breweries produce the largest variety of beer styles?"
   ]
  },
  {
   "cell_type": "code",
   "execution_count": 56,
   "metadata": {},
   "outputs": [
    {
     "name": "stdout",
     "output_type": "stream",
     "text": [
      "[<Record br.name='Rock Bottom Restaurant & Brewery' count(s)=2510>,\n",
      " <Record br.name='Tired Hands Brewing Company' count(s)=2450>,\n",
      " <Record br.name='Cigar City Brewing' count(s)=2086>]\n"
     ]
    }
   ],
   "source": [
    "query = \"\"\"\n",
    "        MATCH (br:BREWERIES)-[:BREWED]->(b:BEERS)-[h:HAS_STYLE]->(s:STYLE)\n",
    "        RETURN br.name, count(s)\n",
    "        ORDER BY count(s) DESC\n",
    "        LIMIT 3 \n",
    "    \"\"\"\n",
    "\n",
    "result = execute_read(driver, query)\n",
    "pprint(result)"
   ]
  },
  {
   "cell_type": "markdown",
   "metadata": {},
   "source": [
    "## Which country produces the most beer styles?"
   ]
  },
  {
   "cell_type": "code",
   "execution_count": 58,
   "metadata": {},
   "outputs": [
    {
     "name": "stdout",
     "output_type": "stream",
     "text": [
      "[<Record c.name='US' count(s)=278171>]\n"
     ]
    }
   ],
   "source": [
    "query = \"\"\"\n",
    "        MATCH (c:COUNTRIES)<-[:IN]-(ci:CITIES)<-[:IN]-(br:BREWERIES)-[:BREWED]->(b:BEERS)-[:HAS_STYLE]->(s:STYLE)\n",
    "        RETURN c.name, count(s)\n",
    "        ORDER BY count(s) DESC\n",
    "        LIMIT 1\n",
    "    \"\"\"\n",
    "\n",
    "result = execute_read(driver, query)\n",
    "pprint(result)"
   ]
  },
  {
   "cell_type": "markdown",
   "metadata": {},
   "source": [
    "# Using ABV score, find five strongest beers, display their ABV score and the corresponding brewery? Keep in mind that the strongest known beer is Snake Venom, and deal with the error entries in the database."
   ]
  },
  {
   "cell_type": "code",
   "execution_count": null,
   "metadata": {},
   "outputs": [],
   "source": [
    "#without indexing\n",
    "query = \"\"\" \n",
    "    PROFILE\n",
    "    MATCH (be:BEERS)-[:BREWED]-(br:BREWERIES)\n",
    "    WHERE be.abv <> 'nan'\n",
    "    RETURN be.name AS Beer, be.abv AS ABV, br.name AS Brewery\n",
    "    ORDER BY be.abv DESC\n",
    "    LIMIT 5\n",
    "\"\"\"\n",
    "\n",
    "result = execute_read(driver, query)\n",
    "pprint(result)"
   ]
  },
  {
   "cell_type": "code",
   "execution_count": null,
   "metadata": {},
   "outputs": [],
   "source": [
    "query = \"\"\"\n",
    "        CREATE INDEX FOR (b:BEERS) ON (b.abv)\n",
    "    \"\"\"\n",
    "\n",
    "result = execute_write(driver, query)\n",
    "pprint(result)"
   ]
  },
  {
   "cell_type": "code",
   "execution_count": 506,
   "metadata": {},
   "outputs": [
    {
     "name": "stdout",
     "output_type": "stream",
     "text": [
      "[<Record Beer='Double Justice' ABV='9.99' Brewery='Unlawful Assembly Brewing Co.'>,\n",
      " <Record Beer='Double Justice' ABV='9.99' Brewery='Unlawful Assembly Brewing Co.'>,\n",
      " <Record Beer='Bull Moose' ABV='9.99' Brewery='Little Spokane Brewing Company'>,\n",
      " <Record Beer='Bull Moose' ABV='9.99' Brewery='Little Spokane Brewing Company'>,\n",
      " <Record Beer='BLVCK Celebration- Maple Whiskey' ABV='9.99' Brewery='Adroit Theory Brewing Company'>]\n"
     ]
    }
   ],
   "source": [
    "#with indexing\n",
    "query = \"\"\"\n",
    "        PROFILE\n",
    "        MATCH (be:BEERS)-[:BREWED]-(br:BREWERIES)\n",
    "        WHERE be.abv <> 'nan'\n",
    "        RETURN be.name AS Beer, be.abv AS ABV, br.name AS Brewery\n",
    "        ORDER BY be.abv DESC\n",
    "        LIMIT 5\n",
    "    \"\"\"\n",
    "\n",
    "result = execute_read(driver, query)\n",
    "pprint(result)"
   ]
  },
  {
   "cell_type": "markdown",
   "metadata": {},
   "source": [
    "## Using the answer from question 2, find the top 5 distict beer styles with the highest average score of smell + feel that were reviewed by the third most productive user. Keep in mind that cleaning the database earlier should ensure correct results."
   ]
  },
  {
   "cell_type": "code",
   "execution_count": 504,
   "metadata": {},
   "outputs": [
    {
     "name": "stdout",
     "output_type": "stream",
     "text": [
      "[]\n"
     ]
    }
   ],
   "source": [
    "query = \"\"\"\n",
    "    // 3rd most productive user\n",
    "    MATCH (u:USER)<-[:POSTED]-(r:REVIEWS)\n",
    "    WITH u, COUNT(r) AS review_count\n",
    "    ORDER BY review_count DESC\n",
    "    SKIP 2 LIMIT 1 // Skip the top 2 and get the 3rd most productive user\n",
    "    WITH u\n",
    "\n",
    "    // Average smell + feel score for each BEERS STYLE, filtered by the 3rd most productive user\n",
    "    MATCH (u)<-[:POSTED]-(r:REVIEWS)<-[:REVIEWED]-(b:BEERS)-[:HAS_STYLE]->(s:STYLE)\n",
    "    WHERE toFloat(r.smell) IS NOT NULL AND toFloat(r.feel) IS NOT NULL\n",
    "    WITH s.name AS style, ROUND(AVG(toFloat(r.smell) + toFloat(r.feel)), 2) AS avg_smell_feel\n",
    "    ORDER BY avg_smell_feel DESC\n",
    "\n",
    "    // Top 5 styles\n",
    "    LIMIT 5\n",
    "    RETURN style, avg_smell_feel\n",
    "\"\"\"\n",
    "\n",
    "result = execute_read(driver, query)\n",
    "\n",
    "pprint(result)"
   ]
  },
  {
   "cell_type": "markdown",
   "metadata": {},
   "source": [
    "# Which two countries are most similiar when it comes to their top five most produced Beer styles?"
   ]
  },
  {
   "cell_type": "code",
   "execution_count": null,
   "metadata": {},
   "outputs": [],
   "source": [
    "query = \"\"\"\n",
    "        CALL gds.graph.project.cypher(\n",
    "            'countryBeerGraph',\n",
    "            \"MATCH (c:COUNTRIES) RETURN id(c) AS id\",\n",
    "            \"MATCH (b:BREWERIES)-[:BREWED]->(beer:BEERS)-[:HAS_STYLE]->(style:STYLE)\n",
    "            WITH beer, style, COUNT(*) AS styleCount\n",
    "            MATCH (c1:COUNTRIES)<-[:IN]-(b)-[:IN]->(c2:COUNTRIES)\n",
    "            RETURN id(c1) AS source, id(c2) AS target, style, styleCount\"\n",
    ")\n",
    "    \"\"\"\n",
    "\n",
    "result = execute_read(driver, query)\n",
    "pprint(result)\n"
   ]
  },
  {
   "cell_type": "code",
   "execution_count": null,
   "metadata": {},
   "outputs": [],
   "source": [
    "#First getting the top 5 most produced Beer styles for each country\n",
    "\n",
    "query = \"\"\"\n",
    "        MATCH (c:COUNTRIES)<-[:IN]-(ci:CITIES)<-[:IN]-(br:BREWERIES)-[:BREWED]->(b:BEERS)-[:HAS_STYLE]->(s:STYLE)\n",
    "        WITH c.name AS country, s.name AS beer_style, COUNT(*) AS count\n",
    "        ORDER BY country, count DESC\n",
    "        WITH country, COLLECT(beer_style)[..5] AS top_styles\n",
    "        RETURN country, top_styles;\n",
    "    \"\"\"\n",
    "\n",
    "result = execute_read(driver, query)\n",
    "pprint(result)"
   ]
  },
  {
   "cell_type": "code",
   "execution_count": 71,
   "metadata": {},
   "outputs": [
    {
     "name": "stdout",
     "output_type": "stream",
     "text": [
      "ClientError('Failed to invoke procedure `gds.graph.drop`: Caused by: java.util.NoSuchElementException: Graph with name `countryBeerGraph` does not exist on database `neo4j`. It might exist on another database.')\n"
     ]
    }
   ],
   "source": [
    "try:\n",
    "    query = \"\"\"\n",
    "            CALL gds.graph.drop('countryBeerGraph') YIELD graphName;\n",
    "        \"\"\"\n",
    "\n",
    "    result = execute_read(driver, query)\n",
    "\n",
    "    pprint(result)\n",
    "except Exception as e:\n",
    "    pprint(e)"
   ]
  },
  {
   "cell_type": "code",
   "execution_count": null,
   "metadata": {},
   "outputs": [],
   "source": [
    "query = \"\"\"\n",
    "        CALL gds.graph.project.cypher(\n",
    "            'countryBeerGraph',\n",
    "            \"MATCH (c:COUNTRIES) RETURN id(c) AS id\",\n",
    "            \"\n",
    "            MATCH (b1:BREWERIES)-[:BREWED]->(beer1:BEERS)-[:HAS_STYLE]->(s:STYLE)<-[:HAS_STYLE]-(beer2:BEERS)<-[:BREWED]-(b2:BREWERIES)\n",
    "            WITH b1, b2, COUNT(DISTINCT s) AS weight\n",
    "            WHERE weight > 0\n",
    "            MATCH (c1:COUNTRIES)<-[:IN]-(b1)-[:IN]->(c2:COUNTRIES)\n",
    "            WHERE c1 <> c2\n",
    "            RETURN id(c1) AS source, id(c2) AS target, weight\"\n",
    "        )\n",
    "\n",
    "    \"\"\"\n",
    "\n",
    "result = execute_read(driver, query)\n",
    "pprint(result)"
   ]
  },
  {
   "cell_type": "code",
   "execution_count": null,
   "metadata": {},
   "outputs": [],
   "source": [
    "#Apply the Node Similarity Algorithm \n",
    "#Countries are nodes and edges represent similarities based on shared beer styles\n",
    "#edges have weights based on the number of shared beer styles\n",
    "\n",
    "#1-Create the graph for similarity analysis\n",
    "query = \"\"\"\n",
    "        CALL gds.graph.project.cypher(\n",
    "            'countryBeerGraph',\n",
    "            \"MATCH (c:COUNTRIES) RETURN id(c) AS id\",\n",
    "            \"MATCH (c1:COUNTRIES)<-[:IN]-(:CITIES)<-[:IN]-(b1:BREWERIES)-[:BREWED]->(beer1:BEERS)-[:HAS_STYLE]->(s:STYLE),\n",
    "                (c2:COUNTRIES)<-[:IN]-(:CITIES)<-[:IN]-(b2:BREWERIES)-[:BREWED]->(beer2:BEERS)-[:HAS_STYLE]->(s:STYLE)\n",
    "            WHERE c1 <> c2\n",
    "            WITH c1, c2, COUNT(DISTINCT s) AS weight \n",
    "            WHERE weight > 0 \n",
    "            RETURN id(c1) AS source, id(c2) AS target, weight\" \n",
    "        );\n",
    "\n",
    "    \"\"\"\n",
    "\n",
    "result = execute_read(driver, query)\n",
    "pprint(result)"
   ]
  },
  {
   "cell_type": "raw",
   "metadata": {},
   "source": [
    "query = \"\"\"\n",
    "        CALL gds.graph.list() YIELD graphName, nodeCount, relationshipCount\n",
    "        WHERE graphName = 'countryBeerGraph';\n",
    "\n",
    "\n",
    "\n",
    "    \"\"\"\n",
    "\n",
    "result = execute_read(driver, query)\n",
    "pprint(result)\n"
   ]
  },
  {
   "cell_type": "code",
   "execution_count": null,
   "metadata": {},
   "outputs": [],
   "source": [
    "#Apply the Node Similarity Algorithm \n",
    "\n",
    "#2- Run the algorithm\n",
    "\n",
    "query = \"\"\"\n",
    "        CALL gds.nodeSimilarity.stream('countryBeerGraph', { similarityMetric: 'JACCARD' })\n",
    "        YIELD node1, node2, similarity\n",
    "        RETURN gds.util.asNode(node1).name AS country1,\n",
    "            gds.util.asNode(node2).name AS country2,\n",
    "            similarity\n",
    "        ORDER BY similarity DESC\n",
    "        LIMIT 1\n",
    "\n",
    "    \"\"\"\n",
    "\n",
    "result = execute_read(driver, query)\n",
    "pprint(result)"
   ]
  },
  {
   "cell_type": "code",
   "execution_count": null,
   "metadata": {},
   "outputs": [],
   "source": []
  },
  {
   "cell_type": "markdown",
   "metadata": {},
   "source": [
    "## Which beer is the most popular when considering the number of users who reviewed it? "
   ]
  },
  {
   "cell_type": "code",
   "execution_count": 377,
   "metadata": {},
   "outputs": [
    {
     "name": "stdout",
     "output_type": "stream",
     "text": [
      "[<Record graphName='beer_popularity'>]\n"
     ]
    }
   ],
   "source": [
    "try:\n",
    "    query = \"\"\"\n",
    "            CALL gds.graph.drop('beer_popularity') YIELD graphName;\n",
    "        \"\"\"\n",
    "\n",
    "    result = execute_read(driver, query)\n",
    "\n",
    "    pprint(result)\n",
    "except Exception as e:\n",
    "    pprint(e)"
   ]
  },
  {
   "cell_type": "code",
   "execution_count": 379,
   "metadata": {},
   "outputs": [
    {
     "data": {
      "text/plain": [
       "[<Record nodeProjection={'REVIEWS': {'label': 'REVIEWS', 'properties': {}}, 'BEERS': {'label': 'BEERS', 'properties': {}}} relationshipProjection={'REVIEWED': {'orientation': 'UNDIRECTED', 'aggregation': 'DEFAULT', 'type': 'REVIEWED', 'properties': {}}} graphName='beer_popularity' nodeCount=2955809 relationshipCount=5075982 projectMillis=5063>]"
      ]
     },
     "execution_count": 379,
     "metadata": {},
     "output_type": "execute_result"
    }
   ],
   "source": [
    "# Create a graph projection for beers and reviews\n",
    "\n",
    "query = \"\"\"\n",
    "\n",
    "CALL gds.graph.project(\n",
    "    'beer_popularity',\n",
    "    ['BEERS', 'REVIEWS'],\n",
    "    {\n",
    "        REVIEWED: {\n",
    "            orientation: 'UNDIRECTED'\n",
    "        }\n",
    "    }\n",
    ")\n",
    "\"\"\"\n",
    "execute_write(driver, query)"
   ]
  },
  {
   "cell_type": "code",
   "execution_count": 380,
   "metadata": {},
   "outputs": [
    {
     "name": "stdout",
     "output_type": "stream",
     "text": [
      "[<Record beer_name='Breakfast Stout' num_reviews=4833.0>,\n",
      " <Record beer_name='90 Minute IPA' num_reviews=4394.0>,\n",
      " <Record beer_name='Pliny The Elder' num_reviews=4218.0>,\n",
      " <Record beer_name='Two Hearted Ale' num_reviews=4174.0>,\n",
      " <Record beer_name='Heady Topper' num_reviews=3974.0>]\n"
     ]
    }
   ],
   "source": [
    "# Compute Degree Centrality for beers\n",
    "\n",
    "query = \"\"\"\n",
    "\n",
    "CALL gds.degree.stream('beer_popularity')\n",
    "YIELD nodeId, score\n",
    "RETURN gds.util.asNode(nodeId).name AS beer_name, score AS num_reviews\n",
    "ORDER BY num_reviews DESC\n",
    "LIMIT 1\n",
    "\"\"\"\n",
    "\n",
    "result = execute_read(driver, query)\n",
    "pprint(result)"
   ]
  },
  {
   "cell_type": "code",
   "execution_count": null,
   "metadata": {},
   "outputs": [],
   "source": []
  },
  {
   "cell_type": "code",
   "execution_count": null,
   "metadata": {},
   "outputs": [],
   "source": []
  }
 ],
 "metadata": {
  "hide_input": false,
  "kernelspec": {
   "display_name": "Python 3 (ipykernel)",
   "language": "python",
   "name": "python3"
  },
  "language_info": {
   "codemirror_mode": {
    "name": "ipython",
    "version": 3
   },
   "file_extension": ".py",
   "mimetype": "text/x-python",
   "name": "python",
   "nbconvert_exporter": "python",
   "pygments_lexer": "ipython3",
   "version": "3.9.20"
  },
  "toc": {
   "base_numbering": 1,
   "nav_menu": {},
   "number_sections": true,
   "sideBar": true,
   "skip_h1_title": false,
   "title_cell": "Table of Contents",
   "title_sidebar": "Contents",
   "toc_cell": false,
   "toc_position": {},
   "toc_section_display": true,
   "toc_window_display": false
  },
  "varInspector": {
   "cols": {
    "lenName": 16,
    "lenType": 16,
    "lenVar": 40
   },
   "kernels_config": {
    "python": {
     "delete_cmd_postfix": "",
     "delete_cmd_prefix": "del ",
     "library": "var_list.py",
     "varRefreshCmd": "print(var_dic_list())"
    },
    "r": {
     "delete_cmd_postfix": ") ",
     "delete_cmd_prefix": "rm(",
     "library": "var_list.r",
     "varRefreshCmd": "cat(var_dic_list()) "
    }
   },
   "types_to_exclude": [
    "module",
    "function",
    "builtin_function_or_method",
    "instance",
    "_Feature"
   ],
   "window_display": false
  }
 },
 "nbformat": 4,
 "nbformat_minor": 4
}
